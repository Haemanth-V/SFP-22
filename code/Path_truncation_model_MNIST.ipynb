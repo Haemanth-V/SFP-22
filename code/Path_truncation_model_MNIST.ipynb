{
  "cells": [
    {
      "cell_type": "markdown",
      "metadata": {
        "id": "B0d7Y0fsga5p"
      },
      "source": [
        "Imports"
      ]
    },
    {
      "cell_type": "code",
      "execution_count": 2,
      "metadata": {
        "id": "M77oMfwzgTpU"
      },
      "outputs": [],
      "source": [
        "import torch\n",
        "import numpy as np\n",
        "import argparse\n",
        "import torch.nn as nn\n",
        "import torch.nn.functional as F\n",
        "import re\n",
        "import torch.optim as optim\n",
        "import torch.nn.init as initialization\n",
        "from torch.autograd import Variable\n",
        "from torchvision import datasets, transforms\n",
        "from torch.utils.data import DataLoader\n",
        "import matplotlib.pyplot as plt\n",
        "from itertools import product as cartesian_prod\n",
        "import random\n",
        "from scipy import spatial"
      ]
    },
    {
      "cell_type": "markdown",
      "metadata": {
        "id": "xM_aPVHjgjr-"
      },
      "source": [
        "Constants and Hyperparameters"
      ]
    },
    {
      "cell_type": "code",
      "execution_count": 3,
      "metadata": {
        "colab": {
          "base_uri": "https://localhost:8080/"
        },
        "id": "5U9ERwydhUMe",
        "outputId": "8a628050-acc6-4a85-db1d-316dbe96bfb1"
      },
      "outputs": [
        {
          "output_type": "execute_result",
          "data": {
            "text/plain": [
              "device(type='cpu')"
            ]
          },
          "metadata": {},
          "execution_count": 3
        }
      ],
      "source": [
        "device = torch.device('cuda' if torch.cuda.is_available() else 'cpu')\n",
        "# device = torch.device('cpu')\n",
        "device"
      ]
    },
    {
      "cell_type": "code",
      "execution_count": 4,
      "metadata": {
        "id": "HEgHOKcCggfW"
      },
      "outputs": [],
      "source": [
        "# Use the Negative Log Likelihood Loss function on the outputs after log_softmax activation\n",
        "lossFn = nn.NLLLoss()"
      ]
    },
    {
      "cell_type": "code",
      "execution_count": 5,
      "metadata": {
        "id": "MfhE63E0goKH"
      },
      "outputs": [],
      "source": [
        "args={}\n",
        "kwargs={}\n",
        "\n",
        "args['input_size'] = 784  #Number of features in the input image(of size 28x28)\n",
        "args['depth'] = 4  #Number of layers in the neural network\n",
        "args['width']=64  #Number of neurons in each hidden layer\n",
        "args['batch_size']=32  #Number of samples in each batch\n",
        "args['epochs']=30  #The number of Epochs is the number of times you go through the full dataset. \n",
        "args['lr']=5e-5  #Learning rate is how fast it will decend. \n",
        "args['eps']=1e-7  #Epsilon value for Adam\n",
        "args['classes']=10\n",
        "\n",
        "args['cuda']=True  #Use GPU or not"
      ]
    },
    {
      "cell_type": "code",
      "execution_count": 6,
      "metadata": {
        "id": "ROwyWoVmhErY"
      },
      "outputs": [],
      "source": [
        "eps, beta = 0.1, 4"
      ]
    },
    {
      "cell_type": "markdown",
      "metadata": {
        "id": "U_quuSWEgqWV"
      },
      "source": [
        "Load the dataset"
      ]
    },
    {
      "cell_type": "code",
      "execution_count": 7,
      "metadata": {
        "id": "rbENtn9BgsQH",
        "colab": {
          "base_uri": "https://localhost:8080/",
          "height": 423,
          "referenced_widgets": [
            "ab3d339a03b54e30812895412bf24ef2",
            "0db301c3973a4decb57d6e1e3c311287",
            "bb5be6962f654dd88eab1d3cd72eeaef",
            "16e8be808bc0462885529fc803b87d07",
            "de36066b10ab4f19be6a40eff190d6a1",
            "345ec2d0867c49479689e6af0100c63e",
            "0666401d357442fba828ffae6d0922f0",
            "62b89feb00ea4e1997f56eab4448a2a7",
            "f9f7c0f807d6448783f071e870cbb68c",
            "dc34ed5346b846f9a23d843fc874de7d",
            "8556bfbae3a045e9b97ace86d6497f44",
            "2e4a00f197b84d66b95ce8ac9093569e",
            "11d73cdc558642cfb3a8c6f1ac78fe58",
            "cbc6ac9d878844119040b413922e4e02",
            "bd87d1a15ffc48adb2fb8134718723cd",
            "49e600eb199844ad90933813bc0ecf67",
            "c52d52fbc470473c89561d41213b4c24",
            "c36092d8eeb94bd993b028c4ff00a6ea",
            "77363fb2aa4b48b487d7f3a2ddcb8a3a",
            "be9e86570ae54c488f6c6d91c2871e86",
            "9abc99f0ed844e0aae78a22b6ad587f0",
            "83734e5ccf314086a2bf3b1cdd9e7e97",
            "f05a9d6fa1314bbb8d9b18ee3a8e0f23",
            "5e3ea106a514409e9ba2bea189289f6c",
            "67e88a1542c544b0b316c2b2f7f38148",
            "d156d6c37b774b979190bb8ca8ac3e38",
            "085942db69e148db91d78334e5eb88cb",
            "06d4c467468c4f059b5afcb188ec242c",
            "bc927d6e006944cea1088972f9f91374",
            "f3008feb8a6842ac8a7351e13d2f9ff4",
            "6405f5e189824b8298cb6eb66a9cab31",
            "11a987ae88b042bab3d8e11f1eefaf96",
            "279c3de3a197440580c952d2fef3e9a0",
            "64bef127452a4de78c37d455b5d7d86b",
            "0d2cea551a514806b87ce9f0a04a8345",
            "9b1b3912f57d4a94b162c517efaa1ac3",
            "0293ab20c6c54490b670b8a4fa1d2127",
            "6abcf48ddd0143e982738d74e0ff38b2",
            "e76ec640454543aea40123d1c20afdb1",
            "ad33692ea91e4b83a50f6d2e653738b7",
            "1cfdd039fa76426498ad71be9fffa9eb",
            "58be0213ae8f445da1f3d72dd4b277f5",
            "683e47106123421faaf7b2459e2f17a8",
            "5cdeee1c56ad45e68986a1e7f51174e1"
          ]
        },
        "outputId": "56d8661d-f8d8-4e9b-d851-7a9f290dcb51"
      },
      "outputs": [
        {
          "output_type": "stream",
          "name": "stdout",
          "text": [
            "Downloading http://yann.lecun.com/exdb/mnist/train-images-idx3-ubyte.gz\n",
            "Downloading http://yann.lecun.com/exdb/mnist/train-images-idx3-ubyte.gz to ../data/MNIST/raw/train-images-idx3-ubyte.gz\n"
          ]
        },
        {
          "output_type": "display_data",
          "data": {
            "text/plain": [
              "  0%|          | 0/9912422 [00:00<?, ?it/s]"
            ],
            "application/vnd.jupyter.widget-view+json": {
              "version_major": 2,
              "version_minor": 0,
              "model_id": "ab3d339a03b54e30812895412bf24ef2"
            }
          },
          "metadata": {}
        },
        {
          "output_type": "stream",
          "name": "stdout",
          "text": [
            "Extracting ../data/MNIST/raw/train-images-idx3-ubyte.gz to ../data/MNIST/raw\n",
            "\n",
            "Downloading http://yann.lecun.com/exdb/mnist/train-labels-idx1-ubyte.gz\n",
            "Downloading http://yann.lecun.com/exdb/mnist/train-labels-idx1-ubyte.gz to ../data/MNIST/raw/train-labels-idx1-ubyte.gz\n"
          ]
        },
        {
          "output_type": "display_data",
          "data": {
            "text/plain": [
              "  0%|          | 0/28881 [00:00<?, ?it/s]"
            ],
            "application/vnd.jupyter.widget-view+json": {
              "version_major": 2,
              "version_minor": 0,
              "model_id": "2e4a00f197b84d66b95ce8ac9093569e"
            }
          },
          "metadata": {}
        },
        {
          "output_type": "stream",
          "name": "stdout",
          "text": [
            "Extracting ../data/MNIST/raw/train-labels-idx1-ubyte.gz to ../data/MNIST/raw\n",
            "\n",
            "Downloading http://yann.lecun.com/exdb/mnist/t10k-images-idx3-ubyte.gz\n",
            "Downloading http://yann.lecun.com/exdb/mnist/t10k-images-idx3-ubyte.gz to ../data/MNIST/raw/t10k-images-idx3-ubyte.gz\n"
          ]
        },
        {
          "output_type": "display_data",
          "data": {
            "text/plain": [
              "  0%|          | 0/1648877 [00:00<?, ?it/s]"
            ],
            "application/vnd.jupyter.widget-view+json": {
              "version_major": 2,
              "version_minor": 0,
              "model_id": "f05a9d6fa1314bbb8d9b18ee3a8e0f23"
            }
          },
          "metadata": {}
        },
        {
          "output_type": "stream",
          "name": "stdout",
          "text": [
            "Extracting ../data/MNIST/raw/t10k-images-idx3-ubyte.gz to ../data/MNIST/raw\n",
            "\n",
            "Downloading http://yann.lecun.com/exdb/mnist/t10k-labels-idx1-ubyte.gz\n",
            "Downloading http://yann.lecun.com/exdb/mnist/t10k-labels-idx1-ubyte.gz to ../data/MNIST/raw/t10k-labels-idx1-ubyte.gz\n"
          ]
        },
        {
          "output_type": "display_data",
          "data": {
            "text/plain": [
              "  0%|          | 0/4542 [00:00<?, ?it/s]"
            ],
            "application/vnd.jupyter.widget-view+json": {
              "version_major": 2,
              "version_minor": 0,
              "model_id": "64bef127452a4de78c37d455b5d7d86b"
            }
          },
          "metadata": {}
        },
        {
          "output_type": "stream",
          "name": "stdout",
          "text": [
            "Extracting ../data/MNIST/raw/t10k-labels-idx1-ubyte.gz to ../data/MNIST/raw\n",
            "\n"
          ]
        }
      ],
      "source": [
        "#load the train data and validation data, and normalize it\n",
        "\n",
        "mnist_transforms=[\n",
        "    transforms.ToTensor(),\n",
        "    transforms.Normalize((0.1307,), (0.3081,))\n",
        "     ]\n",
        "\n",
        "train_loader = DataLoader(\n",
        "    datasets.MNIST('../data', train=True, download=True,\n",
        "                   transform=transforms.Compose(mnist_transforms)),\n",
        "    batch_size=args['batch_size'], shuffle=True, **kwargs)\n",
        "\n",
        "validation_loader = DataLoader(\n",
        "    datasets.MNIST('../data', train=False, transform=transforms.Compose(mnist_transforms)),\n",
        "    batch_size=args['batch_size'], shuffle=True, **kwargs)\n"
      ]
    },
    {
      "cell_type": "markdown",
      "metadata": {
        "id": "h4bo2ouKgwoE"
      },
      "source": [
        "Train and validation functions"
      ]
    },
    {
      "cell_type": "code",
      "execution_count": null,
      "metadata": {
        "id": "5eJ4S4NXgwwW"
      },
      "outputs": [],
      "source": [
        "def train(model, epoch, train_loader, lossFn, optimizer):\n",
        "  model.train()\n",
        "  loss = 0\n",
        "  net_loss = 0\n",
        "  correct = 0\n",
        "  \n",
        "  for batch_idx, (data, target) in enumerate(train_loader):\n",
        "      # if args['cuda']:\n",
        "      #     data, target = data.cuda(), target.cuda()\n",
        "      \n",
        "      #Reshape the input image to 1D vector\n",
        "      data = data.reshape(-1, 28*28).to(device)\n",
        "      target = target.to(device)\n",
        "\n",
        "      #This will zero out the gradients for this batch. \n",
        "      optimizer.zero_grad()\n",
        "\n",
        "      #Run the model on the train data\n",
        "      _, output = model(data)\n",
        "      \n",
        "      # Calculate the loss\n",
        "      loss = lossFn(output, target)\n",
        "      net_loss += loss.data\n",
        "\n",
        "      #dloss/dx for every Variable \n",
        "      loss.backward()\n",
        "\n",
        "      #to do a one-step update on our parameter.\n",
        "      optimizer.step()\n",
        "\n",
        "      pred = output.data.max(1, keepdim=True)[1]  #get the index of the max log-probability which is the predicted class\n",
        "\n",
        "      correct += pred.eq(target.data.view_as(pred)).long().cpu().sum()\n",
        "\n",
        "      \n",
        "  #Print out the loss\n",
        "  print('Train Epoch: {} \\tLoss: {:.6f}, Accuracy: {}/{} ({:.0f}%)'.format(\n",
        "          epoch, net_loss/len(train_loader.dataset), correct, len(train_loader.dataset),\n",
        "      100. * correct / len(train_loader.dataset)))\n",
        "\n",
        "def validate(model, validation_loader, lossFn):\n",
        "\n",
        "  model.eval()\n",
        "  validation_loss = 0\n",
        "  correct = 0\n",
        "\n",
        "  # since we're not training, we don't need to calculate the gradients for our outputs\n",
        "  with torch.no_grad():\n",
        "    for data, target in validation_loader:\n",
        "      # if args['cuda']:\n",
        "      #     data, target = data.cuda(), target.cuda()\n",
        "\n",
        "      #Reshape the input image to 1D vector\n",
        "      data = data.reshape(-1, 28*28).to(device)\n",
        "      target = target.to(device)\n",
        "\n",
        "      #Run the model on the validation data and get its predictions\n",
        "      _, output = model(data)\n",
        "\n",
        "      #Calculate the loss\n",
        "      validation_loss += lossFn(output, target).data.item()  #sum up batch loss\n",
        "\n",
        "      pred = output.data.max(1, keepdim=True)[1]  #get the index of the max log-probability which is the predicted class\n",
        "\n",
        "      correct += pred.eq(target.data.view_as(pred)).long().cpu().sum()  #find the number of correct predictions\n",
        "\n",
        "  print('\\nValidation set: Average loss: {:.4f}, Accuracy: {}/{} ({:.0f}%)\\n'.format(\n",
        "      validation_loss/len(validation_loader.dataset), correct, len(validation_loader.dataset),\n",
        "      100. * correct / len(validation_loader.dataset)))"
      ]
    },
    {
      "cell_type": "markdown",
      "metadata": {
        "id": "Hq_QGSyyg9ut"
      },
      "source": [
        "DLGN "
      ]
    },
    {
      "cell_type": "code",
      "execution_count": 8,
      "metadata": {
        "id": "XkWRYxr_g_5u"
      },
      "outputs": [],
      "source": [
        "#Class implementing the soft ReLU activation function\n",
        "class SoftGate(nn.Module):\n",
        "    def __init__(self, **kwargs):\n",
        "        super(SoftGate, self).__init__()\n",
        "\n",
        "    def build(self, input_shape):\n",
        "        super(SoftGate, self).build(input_shape)  \n",
        "\n",
        "    def forward(self, x):\n",
        "        activation = (1 + eps)*torch.sigmoid(beta*x)\n",
        "        return activation\n",
        "\n",
        "    def compute_output_shape(self, input_shape):\n",
        "        return input_shape\n"
      ]
    },
    {
      "cell_type": "code",
      "execution_count": 9,
      "metadata": {
        "id": "jhT_LJYPiNpX"
      },
      "outputs": [],
      "source": [
        "class GaluConstantNPVWithNPFBias(nn.Module):\n",
        "  def __init__(self, depth, width, classes, input_size):\n",
        "\n",
        "    super(GaluConstantNPVWithNPFBias, self).__init__()\n",
        "\n",
        "    self.depth = depth\n",
        "    self.width = width\n",
        "\n",
        "    setattr(self,'NPF_L1', nn.Linear(input_size, width))  #NPF network's layer 1\n",
        "\n",
        "    setattr(self,'NPV_L1', nn.Linear(input_size, width, bias=False))\n",
        "\n",
        "    for i in range(depth - 2):\n",
        "      setattr(self,'NPF_L{}'.format(i+2), nn.Linear(width, width))\n",
        "\n",
        "      setattr(self,'NPV_L{}'.format(i+2), nn.Linear(width, width, bias=False))\n",
        "\n",
        "    setattr(self,'NPV_L{}'.format(depth), nn.Linear(width, classes, bias=False))\n",
        "      \n",
        "  def forward(self, x):\n",
        "    Zf = getattr(self,'NPF_L1')(x)  #Linear activations(So Qf = Zf) of layer 1 of NPF network\n",
        "    G = SoftGate()(Zf)  #Gating values\n",
        "\n",
        "    Qv = getattr(self,'NPV_L1')(torch.Tensor(np.ones(x.shape)).to(device))  #Pre-activations of layer 1 of NPV network with constant input\n",
        "    Zv = torch.mul(G, Qv)  #Gating value(from NPF) times Pre-Activations of layer 1 of NPV network is the Activations for layer 1 of NPV network\n",
        "\n",
        "    # Repeat the above computations for all the hidden layers\n",
        "    for i in range(self.depth-2):\n",
        "      Zf = getattr(self,'NPF_L{}'.format(i+2))(Zf)\n",
        "      G = SoftGate()(Zf)\n",
        "\n",
        "      Qv = getattr(self,'NPV_L{}'.format(i+2))(Zv)\n",
        "      Zv = torch.mul(G, Qv)\n",
        "\n",
        "    Q_out = getattr(self,'NPV_L{}'.format(self.depth))(Zv)\n",
        "    Z_out = F.log_softmax(Q_out)\n",
        "\n",
        "    return Q_out, Z_out"
      ]
    },
    {
      "cell_type": "code",
      "execution_count": null,
      "metadata": {
        "colab": {
          "base_uri": "https://localhost:8080/"
        },
        "id": "qN4Zj0Ceif0f",
        "outputId": "1ad77636-11ff-4c26-8552-e1d99f0da11a"
      },
      "outputs": [
        {
          "name": "stdout",
          "output_type": "stream",
          "text": [
            "GaluConstantNPVWithNPFBias(\n",
            "  (NPF_L1): Linear(in_features=784, out_features=64, bias=True)\n",
            "  (NPV_L1): Linear(in_features=784, out_features=64, bias=False)\n",
            "  (NPF_L2): Linear(in_features=64, out_features=64, bias=True)\n",
            "  (NPV_L2): Linear(in_features=64, out_features=64, bias=False)\n",
            "  (NPF_L3): Linear(in_features=64, out_features=64, bias=True)\n",
            "  (NPV_L3): Linear(in_features=64, out_features=64, bias=False)\n",
            "  (NPV_L4): Linear(in_features=64, out_features=10, bias=False)\n",
            ")\n",
            "\n"
          ]
        }
      ],
      "source": [
        "decoupled_const_NPV_model_with_NPF_bias = GaluConstantNPVWithNPFBias(args['depth'], args['width'], args['classes'], args['input_size'])\n",
        "print(decoupled_const_NPV_model_with_NPF_bias)\n",
        "print()"
      ]
    },
    {
      "cell_type": "code",
      "execution_count": null,
      "metadata": {
        "colab": {
          "base_uri": "https://localhost:8080/"
        },
        "id": "5sp_FScF41sN",
        "outputId": "a0135aa5-d3da-41e7-82e4-e9dd2417930a"
      },
      "outputs": [
        {
          "name": "stderr",
          "output_type": "stream",
          "text": [
            "/usr/local/lib/python3.7/dist-packages/ipykernel_launcher.py:36: UserWarning: Implicit dimension choice for log_softmax has been deprecated. Change the call to include dim=X as an argument.\n"
          ]
        },
        {
          "name": "stdout",
          "output_type": "stream",
          "text": [
            "Train Epoch: 1 \tLoss: 0.013947, Accuracy: 52276/60000 (87%)\n",
            "\n",
            "Validation set: Average loss: 0.0071, Accuracy: 9308/10000 (93%)\n",
            "\n",
            "Train Epoch: 2 \tLoss: 0.006101, Accuracy: 56462/60000 (94%)\n",
            "\n",
            "Validation set: Average loss: 0.0055, Accuracy: 9468/10000 (95%)\n",
            "\n",
            "Train Epoch: 3 \tLoss: 0.004776, Accuracy: 57229/60000 (95%)\n",
            "\n",
            "Validation set: Average loss: 0.0048, Accuracy: 9532/10000 (95%)\n",
            "\n",
            "Train Epoch: 4 \tLoss: 0.003956, Accuracy: 57700/60000 (96%)\n",
            "\n",
            "Validation set: Average loss: 0.0041, Accuracy: 9583/10000 (96%)\n",
            "\n",
            "Train Epoch: 5 \tLoss: 0.003384, Accuracy: 57973/60000 (97%)\n",
            "\n",
            "Validation set: Average loss: 0.0041, Accuracy: 9604/10000 (96%)\n",
            "\n",
            "Train Epoch: 6 \tLoss: 0.002928, Accuracy: 58275/60000 (97%)\n",
            "\n",
            "Validation set: Average loss: 0.0037, Accuracy: 9644/10000 (96%)\n",
            "\n",
            "Train Epoch: 7 \tLoss: 0.002569, Accuracy: 58486/60000 (97%)\n",
            "\n",
            "Validation set: Average loss: 0.0036, Accuracy: 9652/10000 (97%)\n",
            "\n",
            "Train Epoch: 8 \tLoss: 0.002264, Accuracy: 58660/60000 (98%)\n",
            "\n",
            "Validation set: Average loss: 0.0036, Accuracy: 9663/10000 (97%)\n",
            "\n",
            "Train Epoch: 9 \tLoss: 0.002001, Accuracy: 58817/60000 (98%)\n",
            "\n",
            "Validation set: Average loss: 0.0033, Accuracy: 9686/10000 (97%)\n",
            "\n",
            "Train Epoch: 10 \tLoss: 0.001768, Accuracy: 58951/60000 (98%)\n",
            "\n",
            "Validation set: Average loss: 0.0034, Accuracy: 9687/10000 (97%)\n",
            "\n",
            "Train Epoch: 11 \tLoss: 0.001568, Accuracy: 59098/60000 (98%)\n",
            "\n",
            "Validation set: Average loss: 0.0033, Accuracy: 9697/10000 (97%)\n",
            "\n",
            "Train Epoch: 12 \tLoss: 0.001400, Accuracy: 59190/60000 (99%)\n",
            "\n",
            "Validation set: Average loss: 0.0034, Accuracy: 9698/10000 (97%)\n",
            "\n",
            "Train Epoch: 13 \tLoss: 0.001237, Accuracy: 59267/60000 (99%)\n",
            "\n",
            "Validation set: Average loss: 0.0035, Accuracy: 9687/10000 (97%)\n",
            "\n",
            "Train Epoch: 14 \tLoss: 0.001110, Accuracy: 59347/60000 (99%)\n",
            "\n",
            "Validation set: Average loss: 0.0033, Accuracy: 9708/10000 (97%)\n",
            "\n",
            "Train Epoch: 15 \tLoss: 0.000977, Accuracy: 59424/60000 (99%)\n",
            "\n",
            "Validation set: Average loss: 0.0034, Accuracy: 9709/10000 (97%)\n",
            "\n",
            "Train Epoch: 16 \tLoss: 0.000876, Accuracy: 59465/60000 (99%)\n",
            "\n",
            "Validation set: Average loss: 0.0035, Accuracy: 9710/10000 (97%)\n",
            "\n",
            "Train Epoch: 17 \tLoss: 0.000771, Accuracy: 59560/60000 (99%)\n",
            "\n",
            "Validation set: Average loss: 0.0037, Accuracy: 9692/10000 (97%)\n",
            "\n",
            "Train Epoch: 18 \tLoss: 0.000681, Accuracy: 59610/60000 (99%)\n",
            "\n",
            "Validation set: Average loss: 0.0041, Accuracy: 9681/10000 (97%)\n",
            "\n",
            "Train Epoch: 19 \tLoss: 0.000576, Accuracy: 59672/60000 (99%)\n",
            "\n",
            "Validation set: Average loss: 0.0038, Accuracy: 9703/10000 (97%)\n",
            "\n",
            "Train Epoch: 20 \tLoss: 0.000568, Accuracy: 59663/60000 (99%)\n",
            "\n",
            "Validation set: Average loss: 0.0040, Accuracy: 9689/10000 (97%)\n",
            "\n",
            "Train Epoch: 21 \tLoss: 0.000476, Accuracy: 59746/60000 (100%)\n",
            "\n",
            "Validation set: Average loss: 0.0041, Accuracy: 9715/10000 (97%)\n",
            "\n",
            "Train Epoch: 22 \tLoss: 0.000433, Accuracy: 59747/60000 (100%)\n",
            "\n",
            "Validation set: Average loss: 0.0040, Accuracy: 9718/10000 (97%)\n",
            "\n",
            "Train Epoch: 23 \tLoss: 0.000359, Accuracy: 59807/60000 (100%)\n",
            "\n",
            "Validation set: Average loss: 0.0043, Accuracy: 9699/10000 (97%)\n",
            "\n",
            "Train Epoch: 24 \tLoss: 0.000321, Accuracy: 59821/60000 (100%)\n",
            "\n",
            "Validation set: Average loss: 0.0047, Accuracy: 9683/10000 (97%)\n",
            "\n",
            "Train Epoch: 25 \tLoss: 0.000313, Accuracy: 59815/60000 (100%)\n",
            "\n",
            "Validation set: Average loss: 0.0047, Accuracy: 9700/10000 (97%)\n",
            "\n",
            "Train Epoch: 26 \tLoss: 0.000280, Accuracy: 59826/60000 (100%)\n",
            "\n",
            "Validation set: Average loss: 0.0048, Accuracy: 9694/10000 (97%)\n",
            "\n",
            "Train Epoch: 27 \tLoss: 0.000256, Accuracy: 59851/60000 (100%)\n",
            "\n",
            "Validation set: Average loss: 0.0049, Accuracy: 9701/10000 (97%)\n",
            "\n",
            "Train Epoch: 28 \tLoss: 0.000243, Accuracy: 59876/60000 (100%)\n",
            "\n",
            "Validation set: Average loss: 0.0049, Accuracy: 9693/10000 (97%)\n",
            "\n",
            "Train Epoch: 29 \tLoss: 0.000192, Accuracy: 59880/60000 (100%)\n",
            "\n",
            "Validation set: Average loss: 0.0052, Accuracy: 9678/10000 (97%)\n",
            "\n",
            "Train Epoch: 30 \tLoss: 0.000203, Accuracy: 59873/60000 (100%)\n",
            "\n",
            "Validation set: Average loss: 0.0049, Accuracy: 9711/10000 (97%)\n",
            "\n"
          ]
        }
      ],
      "source": [
        "# if args['cuda']:\n",
        "#     decoupled_const_NPV_model_with_NPF_bias = decoupled_const_NPV_model_with_NPF_bias.cuda()\n",
        "#     lossFn = lossFn.cuda()\n",
        "\n",
        "decoupled_const_NPV_model_with_NPF_bias = decoupled_const_NPV_model_with_NPF_bias.to(device)\n",
        "lossFn = lossFn.to(device)\n",
        "\n",
        "optimizer = optim.Adam(decoupled_const_NPV_model_with_NPF_bias.parameters(), lr=args['lr'], eps=args['eps'])\n",
        "\n",
        "for epoch in range(1, args['epochs'] + 1):\n",
        "    train(decoupled_const_NPV_model_with_NPF_bias, epoch, train_loader, lossFn, optimizer)\n",
        "    validate(decoupled_const_NPV_model_with_NPF_bias, validation_loader, lossFn)"
      ]
    },
    {
      "cell_type": "code",
      "execution_count": null,
      "metadata": {
        "colab": {
          "base_uri": "https://localhost:8080/"
        },
        "id": "0-pLG-NZS352",
        "outputId": "077e9a06-c167-47a9-9cd7-b394fccbe83b"
      },
      "outputs": [
        {
          "name": "stdout",
          "output_type": "stream",
          "text": [
            "NPF_L1.weight \t torch.Size([64, 784])\n",
            "NPF_L1.bias \t torch.Size([64])\n",
            "NPV_L1.weight \t torch.Size([64, 784])\n",
            "NPF_L2.weight \t torch.Size([64, 64])\n",
            "NPF_L2.bias \t torch.Size([64])\n",
            "NPV_L2.weight \t torch.Size([64, 64])\n",
            "NPF_L3.weight \t torch.Size([64, 64])\n",
            "NPF_L3.bias \t torch.Size([64])\n",
            "NPV_L3.weight \t torch.Size([64, 64])\n",
            "NPV_L4.weight \t torch.Size([10, 64])\n"
          ]
        }
      ],
      "source": [
        "for name,params in decoupled_const_NPV_model_with_NPF_bias.named_parameters():\n",
        "  print(f\"{name} \\t {params.shape}\")"
      ]
    },
    {
      "cell_type": "markdown",
      "metadata": {
        "id": "lCVw-3ETaZwy"
      },
      "source": [
        "Store weights of all layers"
      ]
    },
    {
      "cell_type": "code",
      "execution_count": null,
      "metadata": {
        "id": "_9izWYJEuK4w"
      },
      "outputs": [],
      "source": [
        "torch.save(decoupled_const_NPV_model_with_NPF_bias.state_dict(), './Constant NPV Model With Bias for NPF')"
      ]
    },
    {
      "cell_type": "markdown",
      "metadata": {
        "id": "aOhpul3GJ8Mh"
      },
      "source": [
        "Load the model"
      ]
    },
    {
      "cell_type": "code",
      "execution_count": 10,
      "metadata": {
        "colab": {
          "base_uri": "https://localhost:8080/"
        },
        "id": "fcr6YhFnIVuf",
        "outputId": "81242b5e-468f-46b5-de9e-01186fbf5b8b"
      },
      "outputs": [
        {
          "output_type": "execute_result",
          "data": {
            "text/plain": [
              "GaluConstantNPVWithNPFBias(\n",
              "  (NPF_L1): Linear(in_features=784, out_features=64, bias=True)\n",
              "  (NPV_L1): Linear(in_features=784, out_features=64, bias=False)\n",
              "  (NPF_L2): Linear(in_features=64, out_features=64, bias=True)\n",
              "  (NPV_L2): Linear(in_features=64, out_features=64, bias=False)\n",
              "  (NPF_L3): Linear(in_features=64, out_features=64, bias=True)\n",
              "  (NPV_L3): Linear(in_features=64, out_features=64, bias=False)\n",
              "  (NPV_L4): Linear(in_features=64, out_features=10, bias=False)\n",
              ")"
            ]
          },
          "metadata": {},
          "execution_count": 10
        }
      ],
      "source": [
        "decoupled_const_NPV_model_with_NPF_bias = GaluConstantNPVWithNPFBias(args['depth'], args['width'], args['classes'], args['input_size'])\n",
        "decoupled_const_NPV_model_with_NPF_bias.load_state_dict(torch.load('./Constant NPV Model With Bias for NPF'))\n",
        "decoupled_const_NPV_model_with_NPF_bias.eval()"
      ]
    },
    {
      "cell_type": "markdown",
      "metadata": {
        "id": "WTHDzTudwUeQ"
      },
      "source": [
        "Function to get the weights of NPV network"
      ]
    },
    {
      "cell_type": "code",
      "execution_count": 11,
      "metadata": {
        "id": "PcaERL53aZS1"
      },
      "outputs": [],
      "source": [
        "def get_params(model, str, bias=False):\n",
        "  weights = []\n",
        "  biases = []\n",
        "\n",
        "  for i in range(args['depth']):\n",
        "    layer_weight = model.state_dict()[str+'_L{}.weight'.format(i+1)]\n",
        "    weights.append(layer_weight)\n",
        "\n",
        "    if bias:\n",
        "      layer_bias = model.state_dict()[str+'_L{}.bias'.format(i+1)]\n",
        "      biases.append(layer_bias)\n",
        "\n",
        "  if bias:\n",
        "    return weights, biases\n",
        "    \n",
        "  return weights"
      ]
    },
    {
      "cell_type": "markdown",
      "metadata": {
        "id": "-8fe2ULa2Ia0"
      },
      "source": [
        "Function to get the effective weights of NPF network"
      ]
    },
    {
      "cell_type": "code",
      "execution_count": 12,
      "metadata": {
        "id": "kBYadqlGJHzs"
      },
      "outputs": [],
      "source": [
        "def get_NPF_effective_weights(model, bias=False):\n",
        "\n",
        "  effective_weights = []\n",
        "  effective_biases = []\n",
        "  \n",
        "  for i in range(args['depth']-1):\n",
        "      curr_weight = model.state_dict()['NPF_L{}.weight'.format(i+1)]\n",
        "      if i==0:\n",
        "          effective_weights.append(curr_weight)\n",
        "          if bias:\n",
        "            curr_bias = model.state_dict()['NPF_L{}.bias'.format(i+1)]\n",
        "            effective_biases.append(curr_bias)\n",
        "      else:\n",
        "          effective_weights.append(torch.matmul(curr_weight,effective_weights[-1]))\n",
        "          if bias:\n",
        "            curr_bias = model.state_dict()['NPF_L{}.bias'.format(i+1)]\n",
        "            effective_biases.append(torch.matmul(curr_weight, effective_biases[-1])+curr_bias)\n",
        "\n",
        "  if bias:\n",
        "    return effective_weights, effective_biases\n",
        "    \n",
        "  return effective_weights\n",
        "  # effective_weights is a list of size depth-1"
      ]
    },
    {
      "cell_type": "markdown",
      "metadata": {
        "id": "rbmf094ZyVka"
      },
      "source": [
        "Calculate importance value for all paths"
      ]
    },
    {
      "cell_type": "code",
      "execution_count": 13,
      "metadata": {
        "id": "os7xcr9sYByM"
      },
      "outputs": [],
      "source": [
        "def get_path_value(weights, paths):\n",
        "  \n",
        "  output_layer = args['depth']-1\n",
        "  path_values = dict()\n",
        "  path_vectors = dict()\n",
        "\n",
        "  for path in paths:\n",
        "    \n",
        "    importance_value = np.ones((args['input_size']))   # initialize to constant(input to NPV network is all 1s)\n",
        "    prev_nodes = range(args['input_size'])   # nodes to be considered in the previous layer\n",
        "\n",
        "   # loop to compute importance value of current path\n",
        "    for layer,node in enumerate(path):\n",
        "      weight = weights[layer][node][prev_nodes].cpu()\n",
        "    \n",
        "      importance_value = np.dot(weight, importance_value)\n",
        "      prev_nodes = node\n",
        "\n",
        "      weight = weights[output_layer][:, prev_nodes].cpu()\n",
        "      \n",
        "    importance_value = importance_value *  weight # consider all output nodes for each path\n",
        "\n",
        "    # store the importance value and the path\n",
        "    path_vectors[path] = importance_value\n",
        "    path_values[path] = np.linalg.norm(importance_value, ord=1)  # Compute the L1 norm of 10-Dimensional vector\n",
        "\n",
        "\n",
        "  return path_values, path_vectors"
      ]
    },
    {
      "cell_type": "markdown",
      "metadata": {
        "id": "xiIG4DVdJI6W"
      },
      "source": []
    },
    {
      "cell_type": "code",
      "execution_count": null,
      "metadata": {
        "id": "n8Hk9hvDJJHW"
      },
      "outputs": [],
      "source": []
    },
    {
      "cell_type": "markdown",
      "metadata": {
        "id": "o37tCAv5I9hC"
      },
      "source": [
        "Generate all possible paths"
      ]
    },
    {
      "cell_type": "code",
      "execution_count": 14,
      "metadata": {
        "colab": {
          "base_uri": "https://localhost:8080/"
        },
        "id": "p33-I-5atJVX",
        "outputId": "af8e229f-3d61-460d-a395-407a11107c73"
      },
      "outputs": [
        {
          "output_type": "stream",
          "name": "stdout",
          "text": [
            "[64, 64, 64]\n",
            "3\n"
          ]
        }
      ],
      "source": [
        "widths = [args['width']]*3\n",
        "print(widths)\n",
        "print(len(widths))"
      ]
    },
    {
      "cell_type": "code",
      "execution_count": 15,
      "metadata": {
        "colab": {
          "base_uri": "https://localhost:8080/"
        },
        "id": "JBlX5PKFIMbR",
        "outputId": "d733ab4a-07fd-4f55-f1f1-99c75c59a9b0"
      },
      "outputs": [
        {
          "output_type": "stream",
          "name": "stdout",
          "text": [
            "[(0, 0, 0), (0, 0, 1), (0, 0, 2), (0, 0, 3), (0, 0, 4), (0, 0, 5), (0, 0, 6), (0, 0, 7), (0, 0, 8), (0, 0, 9), (0, 0, 10), (0, 0, 11), (0, 0, 12), (0, 0, 13), (0, 0, 14), (0, 0, 15), (0, 0, 16), (0, 0, 17), (0, 0, 18), (0, 0, 19)]\n",
            "\n",
            "[(63, 63, 44), (63, 63, 45), (63, 63, 46), (63, 63, 47), (63, 63, 48), (63, 63, 49), (63, 63, 50), (63, 63, 51), (63, 63, 52), (63, 63, 53), (63, 63, 54), (63, 63, 55), (63, 63, 56), (63, 63, 57), (63, 63, 58), (63, 63, 59), (63, 63, 60), (63, 63, 61), (63, 63, 62), (63, 63, 63)]\n"
          ]
        }
      ],
      "source": [
        "paths = list(cartesian_prod(*[range(x) for x in widths]))\n",
        "print(paths[:20])\n",
        "print()\n",
        "print(paths[-20:])"
      ]
    },
    {
      "cell_type": "code",
      "execution_count": 16,
      "metadata": {
        "id": "OHQcFN0IJnO5"
      },
      "outputs": [],
      "source": [
        "NPV_weights = get_params(decoupled_const_NPV_model_with_NPF_bias, str='NPV', bias=False)"
      ]
    },
    {
      "cell_type": "code",
      "execution_count": null,
      "metadata": {
        "colab": {
          "base_uri": "https://localhost:8080/"
        },
        "id": "6VRrhn1mdWGC",
        "outputId": "b362421a-fc3a-4b43-b70a-82430c8489f4"
      },
      "outputs": [
        {
          "data": {
            "text/plain": [
              "torch.Size([64, 784])"
            ]
          },
          "execution_count": 16,
          "metadata": {},
          "output_type": "execute_result"
        }
      ],
      "source": [
        "NPV_weights[0].shape"
      ]
    },
    {
      "cell_type": "code",
      "execution_count": null,
      "metadata": {
        "colab": {
          "base_uri": "https://localhost:8080/"
        },
        "id": "uV6I4rJCJ3la",
        "outputId": "6563a6f0-2bb4-4bb1-8f3d-2ca1c972f229"
      },
      "outputs": [
        {
          "data": {
            "text/plain": [
              "torch.Size([10])"
            ]
          },
          "execution_count": 17,
          "metadata": {},
          "output_type": "execute_result"
        }
      ],
      "source": [
        "output_layer = args['depth']-1\n",
        "NPV_weights[output_layer][ :, 2].shape"
      ]
    },
    {
      "cell_type": "code",
      "execution_count": 17,
      "metadata": {
        "id": "bzHha5i0I8sg"
      },
      "outputs": [],
      "source": [
        "path_values, path_vectors = get_path_value(NPV_weights, paths)"
      ]
    },
    {
      "cell_type": "code",
      "execution_count": null,
      "metadata": {
        "colab": {
          "base_uri": "https://localhost:8080/"
        },
        "id": "LAdkPrpnScVJ",
        "outputId": "7ea48634-d57f-44e9-8c58-3a6bb3192c57"
      },
      "outputs": [
        {
          "name": "stdout",
          "output_type": "stream",
          "text": [
            "262144\n",
            "262144\n",
            "262144\n"
          ]
        }
      ],
      "source": [
        "print(len(paths))\n",
        "print(len(path_vectors))\n",
        "print(len(path_values))"
      ]
    },
    {
      "cell_type": "code",
      "execution_count": null,
      "metadata": {
        "colab": {
          "base_uri": "https://localhost:8080/"
        },
        "id": "yIIDV-5-RAgU",
        "outputId": "6a6f1673-2622-4d54-a453-4d8e8c78bd5a"
      },
      "outputs": [
        {
          "data": {
            "text/plain": [
              "262144"
            ]
          },
          "execution_count": 20,
          "metadata": {},
          "output_type": "execute_result"
        }
      ],
      "source": [
        "64**3"
      ]
    },
    {
      "cell_type": "code",
      "execution_count": null,
      "metadata": {
        "colab": {
          "base_uri": "https://localhost:8080/"
        },
        "id": "77HQMxJeYRxV",
        "outputId": "6bae453b-2733-438f-bf99-e67be2d1ff76"
      },
      "outputs": [
        {
          "name": "stdout",
          "output_type": "stream",
          "text": [
            "Path: 1-2-3:\n",
            "tensor([ 0.0303,  0.0172, -0.0388,  0.0064,  0.0776, -0.0448, -0.0312,  0.0087,\n",
            "        -0.0113, -0.0056])\n",
            "L1 norm: 0.2717729\n",
            "numpy absolute sum: 0.2717729\n",
            "\n",
            "Path: 29-11-27:\n",
            "tensor([-0.0172,  0.0190, -0.0078,  0.0082,  0.0254,  0.0078,  0.0297, -0.0261,\n",
            "         0.0089, -0.0029])\n",
            "L1 norm: 0.1528883\n"
          ]
        }
      ],
      "source": [
        "print(\"Path: 1-2-3:\")\n",
        "print(path_vectors[(1,2,3)])\n",
        "print(\"L1 norm:\", path_values[(1,2,3)])\n",
        "print(\"numpy absolute sum:\", np.sum(np.absolute(np.array(path_vectors[(1,2,3)]))))\n",
        "print()\n",
        "print(\"Path: 29-11-27:\")\n",
        "print(path_vectors[(29,11,27)])\n",
        "print(\"L1 norm:\", path_values[(29,11,27)])"
      ]
    },
    {
      "cell_type": "markdown",
      "metadata": {
        "id": "tPHmFdwN2TQC"
      },
      "source": [
        "Sort the paths by L1 norm of importance value vector"
      ]
    },
    {
      "cell_type": "code",
      "execution_count": 18,
      "metadata": {
        "colab": {
          "base_uri": "https://localhost:8080/"
        },
        "id": "10SpzAqAlfIO",
        "outputId": "76295b66-188a-47d5-88e5-2b0d8cf98fee"
      },
      "outputs": [
        {
          "output_type": "stream",
          "name": "stdout",
          "text": [
            "(54, 31, 26) 1.8592589\n",
            "(54, 63, 28) 1.8006003\n",
            "(54, 63, 2) 1.8002212\n",
            "(54, 49, 28) 1.7864614\n",
            "(54, 24, 28) 1.6905216\n",
            "(54, 31, 43) 1.686415\n",
            "(10, 11, 37) 1.6707636\n",
            "(10, 35, 28) 1.5915334\n",
            "(54, 63, 6) 1.5723857\n",
            "(10, 11, 18) 1.545428\n"
          ]
        }
      ],
      "source": [
        "sorted_keys = sorted(path_values, key = lambda dict_key: abs(path_values[dict_key]), reverse=True)\n",
        "for k in sorted_keys[:10]:\n",
        "  print(k, path_values[k])"
      ]
    },
    {
      "cell_type": "code",
      "execution_count": 19,
      "metadata": {
        "id": "4KeeuCe_KCq5"
      },
      "outputs": [],
      "source": [
        "NPF_effective_weights, NPF_effective_biases = get_NPF_effective_weights(decoupled_const_NPV_model_with_NPF_bias, bias=True)"
      ]
    },
    {
      "cell_type": "code",
      "execution_count": null,
      "metadata": {
        "colab": {
          "base_uri": "https://localhost:8080/"
        },
        "id": "ARqdxRcCTQ8E",
        "outputId": "67ee66b8-c0b6-4e76-f8c4-144ce2d38a0b"
      },
      "outputs": [
        {
          "name": "stdout",
          "output_type": "stream",
          "text": [
            "tensor(-0.0022)\n",
            "-0.0022493291180580854\n"
          ]
        }
      ],
      "source": [
        "print(NPF_effective_biases[0][0])\n",
        "print(NPF_effective_biases[0][0].item())"
      ]
    },
    {
      "cell_type": "markdown",
      "metadata": {
        "id": "wRphw4vXDd8Q"
      },
      "source": [
        "Function to compute pre-activations using pathwise decomposition"
      ]
    },
    {
      "cell_type": "code",
      "execution_count": null,
      "metadata": {
        "colab": {
          "base_uri": "https://localhost:8080/"
        },
        "id": "PvGwGhhhTMUp",
        "outputId": "5e38ac71-2438-43e5-f32c-e46a67b666ff"
      },
      "outputs": [
        {
          "data": {
            "text/plain": [
              "(1, 784)"
            ]
          },
          "execution_count": 19,
          "metadata": {},
          "output_type": "execute_result"
        }
      ],
      "source": [
        "weight = NPF_effective_weights[2][5].cpu().detach().numpy().reshape((1,784))\n",
        "weight.shape"
      ]
    },
    {
      "cell_type": "code",
      "execution_count": 20,
      "metadata": {
        "id": "-rE925OdVGtD"
      },
      "outputs": [],
      "source": [
        "def pathwise_decomposition_network(paths, path_vectors, instance, NPF_effective_weights, NPF_effective_biases, n = None, threshold = None):\n",
        "\n",
        "  pre_activations = [0]*args['classes']\n",
        "  i = 1\n",
        "\n",
        "  for path in paths:\n",
        "    active = 1\n",
        "    \n",
        "    for layer, node in enumerate(path):\n",
        "      weight = NPF_effective_weights[layer][node].cpu().detach().numpy().reshape(1,784)\n",
        "      # print(weight.shape)\n",
        "      # print(instance.T.shape)\n",
        "      # print(np.dot(weight, instance.T).reshape(-1,) + 5)\n",
        "      gating_signal = np.dot(weight, instance.T).T + NPF_effective_biases[layer][node].cpu().detach().numpy()\n",
        "      active *= SoftGate()(torch.tensor(gating_signal))\n",
        "\n",
        "\n",
        "    if threshold is not None:\n",
        "      # print(active.shape)\n",
        "      if active.item() >= threshold:\n",
        "        pre_activations = np.add(pre_activations, np.dot(active, np.array(path_vectors[path]).reshape(1,-1)))\n",
        "        i += 1\n",
        "\n",
        "        if i==n:\n",
        "          break\n",
        "\n",
        "    else:\n",
        "      pre_activations = np.add(pre_activations, np.dot(active, np.array(path_vectors[path]).reshape(1,-1)))\n",
        "\n",
        "  \n",
        "  return pre_activations"
      ]
    },
    {
      "cell_type": "code",
      "execution_count": 21,
      "metadata": {
        "id": "Wr4S6muRLghA"
      },
      "outputs": [],
      "source": [
        "def get_path_truncation_outputs(paths, path_vectors, NPF_effective_weights, NPF_effective_biases, data, target, n = None, threshold=None):\n",
        "  \n",
        "  correct = 0\n",
        "  outputs = np.empty((0,10))\n",
        "\n",
        "  if threshold is None:\n",
        "    Q_out = pathwise_decomposition_network(paths, path_vectors, data, NPF_effective_weights, NPF_effective_biases, n, threshold)\n",
        "    Z_out = F.log_softmax(torch.tensor(Q_out))\n",
        "    outputs = Q_out\n",
        "\n",
        "  else:\n",
        "    Z_out = np.empty((0,10))\n",
        "    for instance in data:\n",
        "      # print('Data shape:', data.shape)\n",
        "      # print(\"Instance shape: \", instance.shape)\n",
        "      Q_out = pathwise_decomposition_network(paths, path_vectors, instance, NPF_effective_weights, NPF_effective_biases, n, threshold)\n",
        "      Z_out = np.vstack([Z_out, F.log_softmax(torch.tensor(Q_out))])\n",
        "      outputs = np.vstack([outputs, Q_out])\n",
        "\n",
        "    Z_out = torch.tensor(Z_out)\n",
        "\n",
        "\n",
        "  # print(\"Predictions\")\n",
        "  # print(Q_out.shape)\n",
        "  # # print(Q_out)\n",
        "  # print()\n",
        "  \n",
        "\n",
        "  pred = Z_out.data.max(-1, keepdim=True)[1]  #get the index of the max log-probability which is the predicted class\n",
        "  # print(\"Class label\")\n",
        "  # print(pred.shape)\n",
        "  # # print(pred)\n",
        "  # print()\n",
        "\n",
        "  correct += pred.eq(target.data.view_as(pred)).long().cpu().sum()\n",
        "  # print(\"Accuracy\")\n",
        "  # print(correct)\n",
        "  # print(len(data))\n",
        "\n",
        "  accuracy = correct/len(data)\n",
        "\n",
        "  return accuracy, outputs"
      ]
    },
    {
      "cell_type": "code",
      "execution_count": 22,
      "metadata": {
        "id": "U_T2ZpGIPDvi"
      },
      "outputs": [],
      "source": [
        "def get_dataset(loader):\n",
        "  X = np.empty((0, 28*28))\n",
        "  Y = np.empty((0))\n",
        "\n",
        "  for data, target in loader:\n",
        "    X = np.concatenate((X, data.cpu().detach().numpy().reshape(-1, 28*28)), axis=0)\n",
        "    Y = np.concatenate((Y, target.cpu().detach().numpy()), axis=0)\n",
        "\n",
        "  return X, Y"
      ]
    },
    {
      "cell_type": "code",
      "execution_count": 40,
      "metadata": {
        "colab": {
          "base_uri": "https://localhost:8080/"
        },
        "id": "8hfvXRJyO2cN",
        "outputId": "a9c87e90-7b39-493b-b516-ced46b325cf1"
      },
      "outputs": [
        {
          "output_type": "stream",
          "name": "stdout",
          "text": [
            "(60000, 784) (60000,)\n"
          ]
        }
      ],
      "source": [
        "X_train, Y_train = get_dataset(train_loader)\n",
        "print(X_train.shape, Y_train.shape)"
      ]
    },
    {
      "cell_type": "code",
      "execution_count": null,
      "metadata": {
        "colab": {
          "base_uri": "https://localhost:8080/"
        },
        "id": "tBu1DXvdnNpu",
        "outputId": "ddc812df-283d-4fa6-fa50-c44082ed9454"
      },
      "outputs": [
        {
          "name": "stdout",
          "output_type": "stream",
          "text": [
            "[4. 8. 6. ... 6. 6. 8.]\n"
          ]
        }
      ],
      "source": [
        "print(Y_train)"
      ]
    },
    {
      "cell_type": "code",
      "execution_count": null,
      "metadata": {
        "colab": {
          "base_uri": "https://localhost:8080/"
        },
        "id": "g6-5HI32EL5G",
        "outputId": "f236bb22-f8cb-4274-dfc8-797830bec883"
      },
      "outputs": [
        {
          "name": "stdout",
          "output_type": "stream",
          "text": [
            "60000 1\n"
          ]
        }
      ],
      "source": [
        "print(len(X_train), len([X_train[5]]))"
      ]
    },
    {
      "cell_type": "code",
      "execution_count": 28,
      "metadata": {
        "id": "vs_O2vMI-3Gc"
      },
      "outputs": [],
      "source": [
        "def avg_cosine_similarity(a, b):\n",
        "  avg = 0\n",
        "  for (i,j) in zip(a,b):\n",
        "    avg += 1 - spatial.distance.cosine(i,j)\n",
        "\n",
        "  avg /= len(a)\n",
        "\n",
        "  return avg"
      ]
    },
    {
      "cell_type": "markdown",
      "metadata": {
        "id": "ZxgkeyDX9tva"
      },
      "source": [
        "Output for 1 train sample"
      ]
    },
    {
      "cell_type": "code",
      "execution_count": null,
      "metadata": {
        "colab": {
          "base_uri": "https://localhost:8080/"
        },
        "id": "B2imzl_iLkcn",
        "outputId": "5196150a-5f05-4234-8a3b-6286efcb3eb2"
      },
      "outputs": [
        {
          "name": "stdout",
          "output_type": "stream",
          "text": [
            "Predictions\n",
            "(1, 10)\n",
            "[[  4.34039822  -7.9215837    9.04899288   0.568147   -20.50553864\n",
            "  -10.36036734 -21.03464202  26.96220866  -9.98457382  -2.35711896]]\n",
            "\n",
            "Class label\n",
            "torch.Size([1, 1])\n",
            "tensor([[7]])\n",
            "\n",
            "Accuracy\n",
            "tensor(1)\n",
            "1\n",
            "\n",
            "Accuracy: tensor(1.)\n",
            "Output shape: (1, 10)\n"
          ]
        },
        {
          "name": "stderr",
          "output_type": "stream",
          "text": [
            "/usr/local/lib/python3.7/dist-packages/ipykernel_launcher.py:7: UserWarning: Implicit dimension choice for log_softmax has been deprecated. Change the call to include dim=X as an argument.\n",
            "  import sys\n"
          ]
        }
      ],
      "source": [
        "accuracy_path, outputs_path = get_path_truncation_outputs(sorted_keys, path_vectors, NPF_effective_weights, NPF_effective_biases, np.array([X_train[5000]]), torch.tensor(Y_train[5000]))\n",
        "print()\n",
        "print(\"Accuracy:\",accuracy_path)\n",
        "print(\"Output shape:\",outputs_path.shape)"
      ]
    },
    {
      "cell_type": "code",
      "execution_count": null,
      "metadata": {
        "colab": {
          "base_uri": "https://localhost:8080/"
        },
        "id": "-OffwtrXoOQA",
        "outputId": "f8b9d731-2038-4600-a918-55b73c340ebc"
      },
      "outputs": [
        {
          "name": "stdout",
          "output_type": "stream",
          "text": [
            "7.0\n"
          ]
        }
      ],
      "source": [
        "print(Y_train[5000])"
      ]
    },
    {
      "cell_type": "code",
      "execution_count": null,
      "metadata": {
        "colab": {
          "base_uri": "https://localhost:8080/",
          "height": 282
        },
        "id": "Q6uWEY2prhK5",
        "outputId": "0d7acc74-279a-44cf-c526-56c1eff6da1b"
      },
      "outputs": [
        {
          "data": {
            "text/plain": [
              "<matplotlib.image.AxesImage at 0x7fcc1c3e2490>"
            ]
          },
          "execution_count": 39,
          "metadata": {},
          "output_type": "execute_result"
        },
        {
          "data": {
            "image/png": "[encoded data removed]",
            "text/plain": [
              "<Figure size 432x288 with 1 Axes>"
            ]
          },
          "metadata": {},
          "output_type": "display_data"
        }
      ],
      "source": [
        "plt.imshow(X_train[5000].reshape(28,28))"
      ]
    },
    {
      "cell_type": "code",
      "execution_count": null,
      "metadata": {
        "colab": {
          "base_uri": "https://localhost:8080/"
        },
        "id": "Zz59b3L8FsGj",
        "outputId": "865c7388-b29d-4a39-d17f-bafc29b0d064"
      },
      "outputs": [
        {
          "name": "stdout",
          "output_type": "stream",
          "text": [
            "tensor([  4.3404,  -7.9216,   9.0490,   0.5681, -20.5055, -10.3604, -21.0346,\n",
            "         26.9622,  -9.9846,  -2.3571], grad_fn=<SqueezeBackward3>)\n"
          ]
        },
        {
          "name": "stderr",
          "output_type": "stream",
          "text": [
            "/usr/local/lib/python3.7/dist-packages/ipykernel_launcher.py:36: UserWarning: Implicit dimension choice for log_softmax has been deprecated. Change the call to include dim=X as an argument.\n"
          ]
        }
      ],
      "source": [
        "X = torch.tensor(X_train[5000], dtype=torch.float)\n",
        "X = X.to(device)\n",
        "Q, Z = decoupled_const_NPV_model_with_NPF_bias(X)\n",
        "print(Q)"
      ]
    },
    {
      "cell_type": "code",
      "execution_count": null,
      "metadata": {
        "colab": {
          "base_uri": "https://localhost:8080/"
        },
        "id": "MD_gzCkY99WW",
        "outputId": "f2cc52f2-e4d1-4fad-e2ba-3d041b5a0cb6"
      },
      "outputs": [
        {
          "data": {
            "text/plain": [
              "0.9999999959825265"
            ]
          },
          "execution_count": 41,
          "metadata": {},
          "output_type": "execute_result"
        }
      ],
      "source": [
        "1 - spatial.distance.cosine(Q.cpu().detach().numpy(), outputs_path)"
      ]
    },
    {
      "cell_type": "markdown",
      "metadata": {
        "id": "7odM19KAAjF-"
      },
      "source": [
        "Experiments on Train data"
      ]
    },
    {
      "cell_type": "markdown",
      "metadata": {
        "id": "9b_chFXRGOx-"
      },
      "source": [
        "5 samples"
      ]
    },
    {
      "cell_type": "code",
      "execution_count": null,
      "metadata": {
        "colab": {
          "base_uri": "https://localhost:8080/"
        },
        "id": "n9OH6Z5QoVI8",
        "outputId": "7c108e4a-bed3-4f48-d475-c26269cb5448"
      },
      "outputs": [
        {
          "name": "stdout",
          "output_type": "stream",
          "text": [
            "Predictions\n",
            "(5, 10)\n",
            "\n",
            "Class label\n",
            "torch.Size([5, 1])\n",
            "tensor([[8],\n",
            "        [8],\n",
            "        [3],\n",
            "        [0],\n",
            "        [4]])\n",
            "\n",
            "Accuracy\n",
            "tensor(5)\n",
            "5\n",
            "\n",
            "Accuracy: tensor(1.)\n",
            "Output shape: (5, 10)\n"
          ]
        },
        {
          "name": "stderr",
          "output_type": "stream",
          "text": [
            "/usr/local/lib/python3.7/dist-packages/ipykernel_launcher.py:7: UserWarning: Implicit dimension choice for log_softmax has been deprecated. Change the call to include dim=X as an argument.\n",
            "  import sys\n"
          ]
        }
      ],
      "source": [
        "accuracy_path, outputs_path = get_path_truncation_outputs(sorted_keys, path_vectors, NPF_effective_weights, NPF_effective_biases, X_train[:5], torch.tensor(Y_train[:5]))\n",
        "print()\n",
        "print(\"Accuracy:\", accuracy_path)\n",
        "print(\"Output shape:\", outputs_path.shape)"
      ]
    },
    {
      "cell_type": "code",
      "execution_count": null,
      "metadata": {
        "colab": {
          "base_uri": "https://localhost:8080/"
        },
        "id": "aqvqB1IDrwCK",
        "outputId": "de9a3757-e407-485c-9533-4d70c70a9d6e"
      },
      "outputs": [
        {
          "name": "stderr",
          "output_type": "stream",
          "text": [
            "/usr/local/lib/python3.7/dist-packages/ipykernel_launcher.py:36: UserWarning: Implicit dimension choice for log_softmax has been deprecated. Change the call to include dim=X as an argument.\n"
          ]
        }
      ],
      "source": [
        "X = torch.tensor(X_train[:5], dtype=torch.float)\n",
        "X = X.to(device)\n",
        "# print(X.is_cuda)\n",
        "Q, Z = decoupled_const_NPV_model_with_NPF_bias(X)"
      ]
    },
    {
      "cell_type": "code",
      "execution_count": null,
      "metadata": {
        "colab": {
          "base_uri": "https://localhost:8080/"
        },
        "id": "3jjZqn5Gr_XC",
        "outputId": "68bda919-4872-434e-e8f3-0186908206cc"
      },
      "outputs": [
        {
          "name": "stdout",
          "output_type": "stream",
          "text": [
            "tensor([[8],\n",
            "        [8],\n",
            "        [3],\n",
            "        [0],\n",
            "        [4]])\n",
            "Correct:  tensor(5)\n"
          ]
        }
      ],
      "source": [
        "pred = Z.data.max(1, keepdim=True)[1]\n",
        "print(pred)\n",
        "correct = 0\n",
        "correct += pred.eq(torch.tensor(Y_train[:5]).data.view_as(pred)).long().cpu().sum()\n",
        "print(\"Correct: \", correct)"
      ]
    },
    {
      "cell_type": "code",
      "execution_count": null,
      "metadata": {
        "colab": {
          "base_uri": "https://localhost:8080/"
        },
        "id": "jVaLeSzM_ZFi",
        "outputId": "68f02c2a-b33f-49ee-c3c6-70d12b11bc6e"
      },
      "outputs": [
        {
          "data": {
            "text/plain": [
              "0.9999999754589928"
            ]
          },
          "execution_count": 47,
          "metadata": {},
          "output_type": "execute_result"
        }
      ],
      "source": [
        "avg_cosine_similarity(Q.cpu().detach().numpy(), outputs_path)"
      ]
    },
    {
      "cell_type": "markdown",
      "metadata": {
        "id": "scelO89DHg7U"
      },
      "source": [
        "10000 samples"
      ]
    },
    {
      "cell_type": "code",
      "execution_count": null,
      "metadata": {
        "colab": {
          "base_uri": "https://localhost:8080/"
        },
        "id": "SXaW39m-vUtG",
        "outputId": "fdf0bbca-c610-4d18-d3e8-005d1483ef17"
      },
      "outputs": [
        {
          "name": "stdout",
          "output_type": "stream",
          "text": [
            "\n",
            "Accuracy: tensor(0.9989)\n",
            "Output shape: (10000, 10)\n"
          ]
        },
        {
          "name": "stderr",
          "output_type": "stream",
          "text": [
            "/usr/local/lib/python3.7/dist-packages/ipykernel_launcher.py:8: UserWarning: Implicit dimension choice for log_softmax has been deprecated. Change the call to include dim=X as an argument.\n",
            "  \n"
          ]
        }
      ],
      "source": [
        "accuracy_path, outputs_path = get_path_truncation_outputs(sorted_keys, path_vectors, NPF_effective_weights, NPF_effective_biases, X_train[:10000], torch.tensor(Y_train[:10000]))\n",
        "print()\n",
        "print(\"Accuracy:\", accuracy_path)\n",
        "print(\"Output shape:\", outputs_path.shape)"
      ]
    },
    {
      "cell_type": "code",
      "execution_count": 42,
      "metadata": {
        "colab": {
          "base_uri": "https://localhost:8080/"
        },
        "id": "QR5YdgVJ_qeA",
        "outputId": "020bdfe6-cf1a-4ef3-b8a8-174e0ff8c63e"
      },
      "outputs": [
        {
          "output_type": "stream",
          "name": "stdout",
          "text": [
            "Accuracy:  tensor(0.9988)\n"
          ]
        },
        {
          "output_type": "stream",
          "name": "stderr",
          "text": [
            "/usr/local/lib/python3.7/dist-packages/ipykernel_launcher.py:36: UserWarning: Implicit dimension choice for log_softmax has been deprecated. Change the call to include dim=X as an argument.\n"
          ]
        }
      ],
      "source": [
        "X = torch.tensor(X_train[:10000], dtype=torch.float)\n",
        "X = X.to(device)\n",
        "# print(X.is_cuda)\n",
        "Q, Z = decoupled_const_NPV_model_with_NPF_bias(X)\n",
        "pred = Z.data.max(1, keepdim=True)[1]\n",
        "correct = 0\n",
        "correct += pred.eq(torch.tensor(Y_train[:10000]).data.view_as(pred)).long().cpu().sum()\n",
        "accuracy = correct/10000\n",
        "print(\"Accuracy: \", accuracy)"
      ]
    },
    {
      "cell_type": "code",
      "execution_count": null,
      "metadata": {
        "colab": {
          "base_uri": "https://localhost:8080/"
        },
        "id": "eD3s9Ykq_sbz",
        "outputId": "95e5de26-c854-4164-a106-d59379041d4d"
      },
      "outputs": [
        {
          "data": {
            "text/plain": [
              "0.9999999771664545"
            ]
          },
          "execution_count": 41,
          "metadata": {},
          "output_type": "execute_result"
        }
      ],
      "source": [
        "avg_cosine_similarity(Q.cpu().detach().numpy(), outputs_path)"
      ]
    },
    {
      "cell_type": "code",
      "execution_count": null,
      "metadata": {
        "colab": {
          "base_uri": "https://localhost:8080/"
        },
        "id": "qg6l9exX7N3j",
        "outputId": "5cddf520-a50c-4f96-d2b2-7778a3678eb6"
      },
      "outputs": [
        {
          "name": "stdout",
          "output_type": "stream",
          "text": [
            "Accuracy:  tensor(0.9992)\n"
          ]
        },
        {
          "name": "stderr",
          "output_type": "stream",
          "text": [
            "/usr/local/lib/python3.7/dist-packages/ipykernel_launcher.py:36: UserWarning: Implicit dimension choice for log_softmax has been deprecated. Change the call to include dim=X as an argument.\n"
          ]
        }
      ],
      "source": [
        "X = torch.tensor(X_train, dtype=torch.float)\n",
        "X = X.to(device)\n",
        "# print(X.is_cuda)\n",
        "Q_all, Z_all = decoupled_const_NPV_model_with_NPF_bias(X)\n",
        "pred_all = Z_all.data.max(1, keepdim=True)[1]\n",
        "correct_all = 0\n",
        "correct_all += pred_all.eq(torch.tensor(Y_train).data.view_as(pred_all)).long().cpu().sum()\n",
        "accuracy_all = correct_all/len(X_train)\n",
        "print(\"Accuracy: \", accuracy_all)"
      ]
    },
    {
      "cell_type": "markdown",
      "metadata": {
        "id": "gQXCqSJ8_iV6"
      },
      "source": [
        "1. Static Path model"
      ]
    },
    {
      "cell_type": "markdown",
      "metadata": {
        "id": "eqxozIoYCA7u"
      },
      "source": [
        "Top 50000 path model"
      ]
    },
    {
      "cell_type": "code",
      "execution_count": null,
      "metadata": {
        "colab": {
          "base_uri": "https://localhost:8080/"
        },
        "id": "kGmbuMv9CBEI",
        "outputId": "d37bd479-da68-4615-fef5-d3bd05ee4463"
      },
      "outputs": [
        {
          "name": "stdout",
          "output_type": "stream",
          "text": [
            "Predictions\n",
            "(10000, 10)\n",
            "\n",
            "Class label\n",
            "torch.Size([10000, 1])\n",
            "\n",
            "Accuracy\n",
            "tensor(9441)\n",
            "10000\n",
            "Accuracy: tensor(0.9441)\n",
            "Output shape: (10000, 10)\n"
          ]
        },
        {
          "name": "stderr",
          "output_type": "stream",
          "text": [
            "/usr/local/lib/python3.7/dist-packages/ipykernel_launcher.py:7: UserWarning: Implicit dimension choice for log_softmax has been deprecated. Change the call to include dim=X as an argument.\n",
            "  import sys\n"
          ]
        }
      ],
      "source": [
        "accuracy_50000_path, outputs_50000_path = get_path_truncation_outputs(sorted_keys[:50000], path_vectors, NPF_effective_weights, NPF_effective_biases, X_train[:10000], torch.tensor(Y_train[:10000]))\n",
        "print(\"Accuracy:\", accuracy_50000_path)\n",
        "print(\"Output shape:\", outputs_50000_path.shape)"
      ]
    },
    {
      "cell_type": "code",
      "execution_count": null,
      "metadata": {
        "colab": {
          "base_uri": "https://localhost:8080/"
        },
        "id": "xcjX4YuvAtRc",
        "outputId": "68514693-341a-4fae-f727-a6210c7d7e25"
      },
      "outputs": [
        {
          "data": {
            "text/plain": [
              "0.9277320479076486"
            ]
          },
          "execution_count": 59,
          "metadata": {},
          "output_type": "execute_result"
        }
      ],
      "source": [
        "avg_cosine_similarity(Q.cpu().detach().numpy(), outputs_50000_path)"
      ]
    },
    {
      "cell_type": "markdown",
      "metadata": {
        "id": "l9TgtircSuUL"
      },
      "source": [
        "Top 40000 path model"
      ]
    },
    {
      "cell_type": "code",
      "execution_count": null,
      "metadata": {
        "colab": {
          "base_uri": "https://localhost:8080/"
        },
        "id": "EoxFCprYSubL",
        "outputId": "63778432-c073-494c-ba0c-0ac45d7e36f5"
      },
      "outputs": [
        {
          "name": "stdout",
          "output_type": "stream",
          "text": [
            "Predictions\n",
            "(10000, 10)\n",
            "\n",
            "Class label\n",
            "torch.Size([10000, 1])\n",
            "\n",
            "Accuracy\n",
            "tensor(9246)\n",
            "10000\n",
            "tensor(0.9246)\n",
            "(10000, 10)\n"
          ]
        },
        {
          "name": "stderr",
          "output_type": "stream",
          "text": [
            "/usr/local/lib/python3.7/dist-packages/ipykernel_launcher.py:7: UserWarning: Implicit dimension choice for log_softmax has been deprecated. Change the call to include dim=X as an argument.\n",
            "  import sys\n"
          ]
        }
      ],
      "source": [
        "accuracy_40000_path, outputs_40000_path = get_path_truncation_outputs(sorted_keys[:40000], path_vectors, NPF_effective_weights, NPF_effective_biases, X_train[:10000], torch.tensor(Y_train[:10000]))\n",
        "print(\"Accuracy:\", accuracy_40000_path)\n",
        "print(\"Output shape:\", outputs_40000_path.shape)"
      ]
    },
    {
      "cell_type": "code",
      "execution_count": null,
      "metadata": {
        "colab": {
          "base_uri": "https://localhost:8080/"
        },
        "id": "_XJ0SnasAybI",
        "outputId": "fcd7c42c-6012-4c4a-bee7-4ac01a7ba5c0"
      },
      "outputs": [
        {
          "data": {
            "text/plain": [
              "0.9134843122604787"
            ]
          },
          "execution_count": 61,
          "metadata": {},
          "output_type": "execute_result"
        }
      ],
      "source": [
        "avg_cosine_similarity(Q.cpu().detach().numpy(), outputs_40000_path)"
      ]
    },
    {
      "cell_type": "markdown",
      "metadata": {
        "id": "Rx4Hy6NMBNY6"
      },
      "source": [
        "Top 30000 path model"
      ]
    },
    {
      "cell_type": "code",
      "execution_count": null,
      "metadata": {
        "colab": {
          "base_uri": "https://localhost:8080/"
        },
        "id": "aH1azhp_a1lQ",
        "outputId": "3ea36aa1-b9a6-40d0-c515-c30b919a4955"
      },
      "outputs": [
        {
          "name": "stdout",
          "output_type": "stream",
          "text": [
            "Predictions\n",
            "(10000, 10)\n",
            "\n",
            "Class label\n",
            "torch.Size([10000, 1])\n",
            "\n",
            "Accuracy\n",
            "tensor(9125)\n",
            "10000\n",
            "tensor(0.9125)\n",
            "(10000, 10)\n"
          ]
        },
        {
          "name": "stderr",
          "output_type": "stream",
          "text": [
            "/usr/local/lib/python3.7/dist-packages/ipykernel_launcher.py:7: UserWarning: Implicit dimension choice for log_softmax has been deprecated. Change the call to include dim=X as an argument.\n",
            "  import sys\n"
          ]
        }
      ],
      "source": [
        "accuracy_30000_path, outputs_30000_path = get_path_truncation_outputs(sorted_keys[:30000], path_vectors, NPF_effective_weights, NPF_effective_biases, X_train[:10000], torch.tensor(Y_train[:10000]))\n",
        "print(accuracy_30000_path)\n",
        "print(outputs_30000_path.shape)"
      ]
    },
    {
      "cell_type": "code",
      "execution_count": null,
      "metadata": {
        "colab": {
          "base_uri": "https://localhost:8080/"
        },
        "id": "dw6d1PzHA4cn",
        "outputId": "75f69360-243b-4f4b-d3ba-245874f121c1"
      },
      "outputs": [
        {
          "data": {
            "text/plain": [
              "0.9032808549468662"
            ]
          },
          "execution_count": 63,
          "metadata": {},
          "output_type": "execute_result"
        }
      ],
      "source": [
        "avg_cosine_similarity(Q.cpu().detach().numpy(), outputs_30000_path)"
      ]
    },
    {
      "cell_type": "code",
      "execution_count": null,
      "metadata": {
        "colab": {
          "base_uri": "https://localhost:8080/"
        },
        "id": "778LE2bCdIMU",
        "outputId": "6e9c08a1-475b-46f6-e7a4-6440d964c0fa"
      },
      "outputs": [
        {
          "name": "stdout",
          "output_type": "stream",
          "text": [
            "tensor(0.9136)\n",
            "(60000, 10)\n"
          ]
        },
        {
          "name": "stderr",
          "output_type": "stream",
          "text": [
            "/usr/local/lib/python3.7/dist-packages/ipykernel_launcher.py:8: UserWarning: Implicit dimension choice for log_softmax has been deprecated. Change the call to include dim=X as an argument.\n",
            "  \n"
          ]
        }
      ],
      "source": [
        "accuracy_30000_path, outputs_30000_path = get_path_truncation_outputs(sorted_keys[:30000], path_vectors, NPF_effective_weights, NPF_effective_biases, X_train, torch.tensor(Y_train))\n",
        "print(accuracy_30000_path)\n",
        "print(outputs_30000_path.shape)"
      ]
    },
    {
      "cell_type": "code",
      "execution_count": null,
      "metadata": {
        "colab": {
          "base_uri": "https://localhost:8080/"
        },
        "id": "fBA3Dzh1A6Lf",
        "outputId": "dd05f88f-068b-4bfa-b24b-1ea9e661dff2"
      },
      "outputs": [
        {
          "data": {
            "text/plain": [
              "0.9038435017961559"
            ]
          },
          "execution_count": 35,
          "metadata": {},
          "output_type": "execute_result"
        }
      ],
      "source": [
        "avg_cosine_similarity(Q_all.cpu().detach().numpy(), outputs_30000_path)"
      ]
    },
    {
      "cell_type": "markdown",
      "metadata": {
        "id": "CVvdsbtzolR2"
      },
      "source": [
        "Top 20000 path"
      ]
    },
    {
      "cell_type": "code",
      "execution_count": null,
      "metadata": {
        "colab": {
          "base_uri": "https://localhost:8080/"
        },
        "id": "xIm84eryBbKZ",
        "outputId": "ae3c04b6-e1b7-4bef-9efe-0ec394ca96af"
      },
      "outputs": [
        {
          "name": "stdout",
          "output_type": "stream",
          "text": [
            "tensor(0.8716)\n",
            "(10000, 10)\n"
          ]
        },
        {
          "name": "stderr",
          "output_type": "stream",
          "text": [
            "/usr/local/lib/python3.7/dist-packages/ipykernel_launcher.py:8: UserWarning: Implicit dimension choice for log_softmax has been deprecated. Change the call to include dim=X as an argument.\n",
            "  \n"
          ]
        }
      ],
      "source": [
        "accuracy_20000_path, outputs_20000_path = get_path_truncation_outputs(sorted_keys[:20000], path_vectors, NPF_effective_weights, NPF_effective_biases, X_train[:10000], torch.tensor(Y_train[:10000]))\n",
        "print(accuracy_20000_path)\n",
        "print(outputs_20000_path.shape)"
      ]
    },
    {
      "cell_type": "code",
      "execution_count": null,
      "metadata": {
        "colab": {
          "base_uri": "https://localhost:8080/"
        },
        "id": "cFFEtX9CBgiD",
        "outputId": "ff9a7f65-699e-4e23-93e7-dce4610976a5"
      },
      "outputs": [
        {
          "data": {
            "text/plain": [
              "0.8679271438107767"
            ]
          },
          "execution_count": 39,
          "metadata": {},
          "output_type": "execute_result"
        }
      ],
      "source": [
        "avg_cosine_similarity(Q.cpu().detach().numpy(), outputs_20000_path)"
      ]
    },
    {
      "cell_type": "code",
      "execution_count": null,
      "metadata": {
        "colab": {
          "base_uri": "https://localhost:8080/"
        },
        "id": "CQKeqDlQolaU",
        "outputId": "bda40d15-fefa-46a2-e6e5-ab62c2cc125b"
      },
      "outputs": [
        {
          "name": "stdout",
          "output_type": "stream",
          "text": [
            "tensor(0.8698)\n",
            "(60000, 10)\n"
          ]
        },
        {
          "name": "stderr",
          "output_type": "stream",
          "text": [
            "/usr/local/lib/python3.7/dist-packages/ipykernel_launcher.py:8: UserWarning: Implicit dimension choice for log_softmax has been deprecated. Change the call to include dim=X as an argument.\n",
            "  \n"
          ]
        }
      ],
      "source": [
        "accuracy_20000_path, outputs_20000_path = get_path_truncation_outputs(sorted_keys[:20000], path_vectors, NPF_effective_weights, NPF_effective_biases, X_train, torch.tensor(Y_train))\n",
        "print(accuracy_20000_path)\n",
        "print(outputs_20000_path.shape)"
      ]
    },
    {
      "cell_type": "code",
      "execution_count": null,
      "metadata": {
        "colab": {
          "base_uri": "https://localhost:8080/"
        },
        "id": "NWXXN_JyA9xe",
        "outputId": "1556a962-b0db-4143-d129-bf509e56bf34"
      },
      "outputs": [
        {
          "data": {
            "text/plain": [
              "0.8683522177779238"
            ]
          },
          "execution_count": 43,
          "metadata": {},
          "output_type": "execute_result"
        }
      ],
      "source": [
        "avg_cosine_similarity(Q_all.cpu().detach().numpy(), outputs_20000_path)"
      ]
    },
    {
      "cell_type": "markdown",
      "metadata": {
        "id": "_am0piXc-m2i"
      },
      "source": [
        "Top 10000 path model"
      ]
    },
    {
      "cell_type": "code",
      "execution_count": null,
      "metadata": {
        "colab": {
          "base_uri": "https://localhost:8080/"
        },
        "id": "4NegwMjg-m_J",
        "outputId": "7ed38634-d51e-45c9-a198-4de1286e2662"
      },
      "outputs": [
        {
          "name": "stdout",
          "output_type": "stream",
          "text": [
            "tensor(0.6978)\n",
            "(10000, 10)\n"
          ]
        },
        {
          "name": "stderr",
          "output_type": "stream",
          "text": [
            "/usr/local/lib/python3.7/dist-packages/ipykernel_launcher.py:8: UserWarning: Implicit dimension choice for log_softmax has been deprecated. Change the call to include dim=X as an argument.\n",
            "  \n"
          ]
        }
      ],
      "source": [
        "accuracy_10000_path, outputs_10000_path = get_path_truncation_outputs(sorted_keys[:10000], path_vectors, NPF_effective_weights, NPF_effective_biases, X_train[:10000], torch.tensor(Y_train[:10000]))\n",
        "print(accuracy_10000_path)\n",
        "print(outputs_10000_path.shape)"
      ]
    },
    {
      "cell_type": "code",
      "execution_count": null,
      "metadata": {
        "colab": {
          "base_uri": "https://localhost:8080/"
        },
        "id": "trSe4E5kBoQw",
        "outputId": "51394041-3b4a-4fb0-e11b-1ccf793330cd"
      },
      "outputs": [
        {
          "data": {
            "text/plain": [
              "0.7823229509658117"
            ]
          },
          "execution_count": 45,
          "metadata": {},
          "output_type": "execute_result"
        }
      ],
      "source": [
        "avg_cosine_similarity(Q.cpu().detach().numpy(), outputs_10000_path)"
      ]
    },
    {
      "cell_type": "markdown",
      "metadata": {
        "id": "N6BECiBE6L6H"
      },
      "source": [
        "Top 1000 Path model"
      ]
    },
    {
      "cell_type": "code",
      "execution_count": null,
      "metadata": {
        "colab": {
          "base_uri": "https://localhost:8080/"
        },
        "id": "XzhkEjGL6N0z",
        "outputId": "811a3f10-6c70-44cb-8ce8-71d9163dc8af"
      },
      "outputs": [
        {
          "name": "stdout",
          "output_type": "stream",
          "text": [
            "tensor(0.3470)\n",
            "(60000, 10)\n"
          ]
        },
        {
          "name": "stderr",
          "output_type": "stream",
          "text": [
            "/usr/local/lib/python3.7/dist-packages/ipykernel_launcher.py:8: UserWarning: Implicit dimension choice for log_softmax has been deprecated. Change the call to include dim=X as an argument.\n",
            "  \n"
          ]
        }
      ],
      "source": [
        "accuracy_1000_path, outputs_1000_path = get_path_truncation_outputs(sorted_keys[:1000], path_vectors, NPF_effective_weights, NPF_effective_biases, X_train, torch.tensor(Y_train))\n",
        "print(accuracy_1000_path)\n",
        "print(outputs_1000_path.shape)"
      ]
    },
    {
      "cell_type": "code",
      "execution_count": null,
      "metadata": {
        "colab": {
          "base_uri": "https://localhost:8080/"
        },
        "id": "Wk2xEf_4BsCf",
        "outputId": "2244f025-6250-4f93-d128-87c189d60c8d"
      },
      "outputs": [
        {
          "data": {
            "text/plain": [
              "0.4253383166695307"
            ]
          },
          "execution_count": 48,
          "metadata": {},
          "output_type": "execute_result"
        }
      ],
      "source": [
        "avg_cosine_similarity(Q_all.cpu().detach().numpy(), outputs_1000_path)"
      ]
    },
    {
      "cell_type": "markdown",
      "metadata": {
        "id": "ADt5DYPM68d0"
      },
      "source": [
        "Top 100 Path model"
      ]
    },
    {
      "cell_type": "code",
      "execution_count": 43,
      "metadata": {
        "colab": {
          "base_uri": "https://localhost:8080/"
        },
        "id": "vQCDqtqu6yuh",
        "outputId": "61530615-311d-4471-9a64-ce918dc49eb6"
      },
      "outputs": [
        {
          "output_type": "stream",
          "name": "stdout",
          "text": [
            "tensor(0.2154)\n",
            "(10000, 10)\n"
          ]
        },
        {
          "output_type": "stream",
          "name": "stderr",
          "text": [
            "/usr/local/lib/python3.7/dist-packages/ipykernel_launcher.py:8: UserWarning: Implicit dimension choice for log_softmax has been deprecated. Change the call to include dim=X as an argument.\n",
            "  \n"
          ]
        }
      ],
      "source": [
        "accuracy_100_path, outputs_100_path = get_path_truncation_outputs(sorted_keys[:100], path_vectors, NPF_effective_weights, NPF_effective_biases, \n",
        "                                                                  X_train[:10000], torch.tensor(Y_train[:10000]))\n",
        "print(accuracy_100_path)\n",
        "print(outputs_100_path.shape)"
      ]
    },
    {
      "cell_type": "code",
      "source": [
        "avg_cosine_similarity(Q.cpu().detach().numpy(), outputs_100_path)"
      ],
      "metadata": {
        "colab": {
          "base_uri": "https://localhost:8080/"
        },
        "id": "cZ797H91_60m",
        "outputId": "c8f535d1-7813-4020-c432-eb0ef3b4fc8e"
      },
      "execution_count": 44,
      "outputs": [
        {
          "output_type": "execute_result",
          "data": {
            "text/plain": [
              "0.15584799857066028"
            ]
          },
          "metadata": {},
          "execution_count": 44
        }
      ]
    },
    {
      "cell_type": "markdown",
      "metadata": {
        "id": "L_XWzgaO7Fl8"
      },
      "source": [
        "2. Dynamic Path model"
      ]
    },
    {
      "cell_type": "markdown",
      "metadata": {
        "id": "afllHEtg06qW"
      },
      "source": [
        "Top 5000 path(active)"
      ]
    },
    {
      "cell_type": "code",
      "execution_count": null,
      "metadata": {
        "colab": {
          "base_uri": "https://localhost:8080/"
        },
        "id": "IesQDgfy06xp",
        "outputId": "08291e25-94e3-4c7f-976a-a86a9d13501e"
      },
      "outputs": [
        {
          "name": "stderr",
          "output_type": "stream",
          "text": [
            "/usr/local/lib/python3.7/dist-packages/ipykernel_launcher.py:17: UserWarning: Implicit dimension choice for log_softmax has been deprecated. Change the call to include dim=X as an argument.\n"
          ]
        }
      ],
      "source": [
        "accuracy_5000_active_path, outputs_5000_active_path = get_path_truncation_outputs(sorted_keys, path_vectors, NPF_effective_weights, NPF_effective_biases, X_train[:10000], torch.tensor(Y_train[:10000]), n=5000, threshold=0.5)\n",
        "print(accuracy_5000_active_path)\n",
        "print(outputs_5000_active_path.shape)"
      ]
    },
    {
      "cell_type": "code",
      "execution_count": null,
      "metadata": {
        "id": "DK-HB33G07FL"
      },
      "outputs": [],
      "source": [
        "avg_cosine_similarity(Q_all.cpu().detach().numpy(), outputs_5000_active_path)"
      ]
    },
    {
      "cell_type": "markdown",
      "metadata": {
        "id": "pkuUrD3y7J7M"
      },
      "source": [
        "Top 1000 path(active)"
      ]
    },
    {
      "cell_type": "code",
      "execution_count": null,
      "metadata": {
        "colab": {
          "base_uri": "https://localhost:8080/"
        },
        "id": "G7C_PQox7EDn",
        "outputId": "248dfec7-522a-4225-ff01-71482a0c7ad6"
      },
      "outputs": [
        {
          "name": "stderr",
          "output_type": "stream",
          "text": [
            "/usr/local/lib/python3.7/dist-packages/ipykernel_launcher.py:17: UserWarning: Implicit dimension choice for log_softmax has been deprecated. Change the call to include dim=X as an argument.\n"
          ]
        },
        {
          "name": "stdout",
          "output_type": "stream",
          "text": [
            "tensor(0.5883)\n",
            "(10000, 10)\n"
          ]
        }
      ],
      "source": [
        "accuracy_1000_active_path, outputs_1000_active_path = get_path_truncation_outputs(sorted_keys, path_vectors, NPF_effective_weights, NPF_effective_biases, X_train[:10000], torch.tensor(Y_train[:10000]), n=1000, threshold=0.5)\n",
        "print(accuracy_1000_active_path)\n",
        "print(outputs_1000_active_path.shape)"
      ]
    },
    {
      "cell_type": "code",
      "execution_count": null,
      "metadata": {
        "colab": {
          "base_uri": "https://localhost:8080/"
        },
        "id": "GpzTbRkq1MBi",
        "outputId": "f35de5a8-63d0-49d5-faff-71e78b874379"
      },
      "outputs": [
        {
          "data": {
            "text/plain": [
              "0.6532919710705903"
            ]
          },
          "execution_count": 51,
          "metadata": {},
          "output_type": "execute_result"
        }
      ],
      "source": [
        "avg_cosine_similarity(Q.cpu().detach().numpy(), outputs_1000_active_path)"
      ]
    },
    {
      "cell_type": "markdown",
      "metadata": {
        "id": "VCtTlYdL_WVf"
      },
      "source": [
        "Top 100 path(active)"
      ]
    },
    {
      "cell_type": "code",
      "execution_count": 45,
      "metadata": {
        "colab": {
          "base_uri": "https://localhost:8080/"
        },
        "outputId": "9e1c2eb3-e27c-467d-ed52-0945654cbac7",
        "id": "S2ztd53y_WVg"
      },
      "outputs": [
        {
          "output_type": "stream",
          "name": "stderr",
          "text": [
            "/usr/local/lib/python3.7/dist-packages/ipykernel_launcher.py:17: UserWarning: Implicit dimension choice for log_softmax has been deprecated. Change the call to include dim=X as an argument.\n"
          ]
        },
        {
          "output_type": "stream",
          "name": "stdout",
          "text": [
            "tensor(0.3106)\n",
            "(10000, 10)\n"
          ]
        }
      ],
      "source": [
        "accuracy_100_active_path, outputs_100_active_path = get_path_truncation_outputs(sorted_keys, path_vectors, NPF_effective_weights, NPF_effective_biases, \n",
        "                                                                                X_train[:10000], torch.tensor(Y_train[:10000]), n=100, threshold=0.5)\n",
        "print(accuracy_100_active_path)\n",
        "print(outputs_100_active_path.shape)"
      ]
    },
    {
      "cell_type": "code",
      "execution_count": 46,
      "metadata": {
        "colab": {
          "base_uri": "https://localhost:8080/"
        },
        "outputId": "e7c7e8a8-a8d4-4e12-ca0c-5180c85470a5",
        "id": "PeFQeLy__WVh"
      },
      "outputs": [
        {
          "output_type": "execute_result",
          "data": {
            "text/plain": [
              "0.3937876623873906"
            ]
          },
          "metadata": {},
          "execution_count": 46
        }
      ],
      "source": [
        "avg_cosine_similarity(Q.cpu().detach().numpy(), outputs_100_active_path)"
      ]
    },
    {
      "cell_type": "markdown",
      "metadata": {
        "id": "P39fk4ph0_mH"
      },
      "source": [
        "Experiments on Validation data"
      ]
    },
    {
      "cell_type": "code",
      "execution_count": 23,
      "metadata": {
        "colab": {
          "base_uri": "https://localhost:8080/"
        },
        "id": "1LBIO70Z7Vjd",
        "outputId": "5d0225ca-5fca-42ee-b639-ced3cb72fec1"
      },
      "outputs": [
        {
          "output_type": "stream",
          "name": "stdout",
          "text": [
            "(10000, 784) (10000,)\n"
          ]
        }
      ],
      "source": [
        "X_val, Y_val = get_dataset(validation_loader)\n",
        "print(X_val.shape, Y_val.shape)"
      ]
    },
    {
      "cell_type": "markdown",
      "metadata": {
        "id": "Xu0VjjEKIJl0"
      },
      "source": [
        "Verifying pathwise decomposition model"
      ]
    },
    {
      "cell_type": "code",
      "execution_count": null,
      "metadata": {
        "colab": {
          "base_uri": "https://localhost:8080/"
        },
        "id": "d6RP2EWR4jtI",
        "outputId": "970084c7-9678-4dfe-b34e-34fa34a6bf66"
      },
      "outputs": [
        {
          "name": "stdout",
          "output_type": "stream",
          "text": [
            "\n",
            "Accuracy: tensor(0.9711)\n",
            "Output shape: (10000, 10)\n"
          ]
        },
        {
          "name": "stderr",
          "output_type": "stream",
          "text": [
            "/usr/local/lib/python3.7/dist-packages/ipykernel_launcher.py:8: UserWarning: Implicit dimension choice for log_softmax has been deprecated. Change the call to include dim=X as an argument.\n",
            "  \n"
          ]
        }
      ],
      "source": [
        "accuracy_path, outputs_path = get_path_truncation_outputs(sorted_keys, path_vectors, NPF_effective_weights, NPF_effective_biases, X_val, torch.tensor(Y_val))\n",
        "print()\n",
        "print(\"Accuracy:\", accuracy_path)\n",
        "print(\"Output shape:\", outputs_path.shape)"
      ]
    },
    {
      "cell_type": "code",
      "execution_count": 24,
      "metadata": {
        "colab": {
          "base_uri": "https://localhost:8080/"
        },
        "id": "Ep4mHBHg5XP5",
        "outputId": "ad7897e3-c8bd-46e3-af56-1ac8c4a96447"
      },
      "outputs": [
        {
          "output_type": "stream",
          "name": "stdout",
          "text": [
            "Accuracy:  tensor(0.9711)\n"
          ]
        },
        {
          "output_type": "stream",
          "name": "stderr",
          "text": [
            "/usr/local/lib/python3.7/dist-packages/ipykernel_launcher.py:36: UserWarning: Implicit dimension choice for log_softmax has been deprecated. Change the call to include dim=X as an argument.\n"
          ]
        }
      ],
      "source": [
        "X = torch.tensor(X_val, dtype=torch.float)\n",
        "X = X.to(device)\n",
        "# print(X.is_cuda)\n",
        "Q, Z = decoupled_const_NPV_model_with_NPF_bias(X)\n",
        "pred = Z.data.max(1, keepdim=True)[1]\n",
        "correct = 0\n",
        "correct += pred.eq(torch.tensor(Y_val).data.view_as(pred)).long().cpu().sum()\n",
        "accuracy = correct/10000\n",
        "print(\"Accuracy: \", accuracy)"
      ]
    },
    {
      "cell_type": "code",
      "execution_count": null,
      "metadata": {
        "colab": {
          "base_uri": "https://localhost:8080/"
        },
        "id": "IkhplMRu6awE",
        "outputId": "66d393c3-8380-4398-e3a4-e89517616cd1"
      },
      "outputs": [
        {
          "data": {
            "text/plain": [
              "0.9999999772641378"
            ]
          },
          "execution_count": 37,
          "metadata": {},
          "output_type": "execute_result"
        }
      ],
      "source": [
        "avg_cosine_similarity(Q.cpu().detach().numpy(), outputs_path)"
      ]
    },
    {
      "cell_type": "markdown",
      "metadata": {
        "id": "Z9Nvl9P-IR4l"
      },
      "source": [
        "1. Static path model"
      ]
    },
    {
      "cell_type": "markdown",
      "metadata": {
        "id": "vxeHdqrBIPuY"
      },
      "source": [
        "Top 50000 paths"
      ]
    },
    {
      "cell_type": "code",
      "execution_count": null,
      "metadata": {
        "colab": {
          "base_uri": "https://localhost:8080/"
        },
        "id": "xEDIbxM-6ik6",
        "outputId": "df869b79-f09c-438e-88a4-42c4a1af02f5"
      },
      "outputs": [
        {
          "name": "stdout",
          "output_type": "stream",
          "text": [
            "Accuracy: tensor(0.9199)\n",
            "Output shape: (10000, 10)\n"
          ]
        },
        {
          "name": "stderr",
          "output_type": "stream",
          "text": [
            "/usr/local/lib/python3.7/dist-packages/ipykernel_launcher.py:8: UserWarning: Implicit dimension choice for log_softmax has been deprecated. Change the call to include dim=X as an argument.\n",
            "  \n"
          ]
        }
      ],
      "source": [
        "accuracy_50000_path, outputs_50000_path = get_path_truncation_outputs(sorted_keys[:50000], path_vectors, NPF_effective_weights, NPF_effective_biases, X_val, torch.tensor(Y_val))\n",
        "print(\"Accuracy:\", accuracy_50000_path)\n",
        "print(\"Output shape:\", outputs_50000_path.shape)"
      ]
    },
    {
      "cell_type": "code",
      "execution_count": null,
      "metadata": {
        "colab": {
          "base_uri": "https://localhost:8080/"
        },
        "id": "CTpAco3nIanO",
        "outputId": "a39279b0-5d32-4874-fe47-5affddd97ae4"
      },
      "outputs": [
        {
          "data": {
            "text/plain": [
              "0.9288854159179879"
            ]
          },
          "execution_count": 37,
          "metadata": {},
          "output_type": "execute_result"
        }
      ],
      "source": [
        "avg_cosine_similarity(Q.cpu().detach().numpy(), outputs_50000_path)"
      ]
    },
    {
      "cell_type": "markdown",
      "metadata": {
        "id": "MUKvOFFfLERH"
      },
      "source": [
        "Top 40000 path"
      ]
    },
    {
      "cell_type": "code",
      "execution_count": null,
      "metadata": {
        "colab": {
          "base_uri": "https://localhost:8080/"
        },
        "id": "jnohNfdIK8UA",
        "outputId": "d273ff43-e522-44c3-de33-21418806ee90"
      },
      "outputs": [
        {
          "name": "stdout",
          "output_type": "stream",
          "text": [
            "Accuracy: tensor(0.9093)\n",
            "Output shape: (10000, 10)\n"
          ]
        },
        {
          "name": "stderr",
          "output_type": "stream",
          "text": [
            "/usr/local/lib/python3.7/dist-packages/ipykernel_launcher.py:8: UserWarning: Implicit dimension choice for log_softmax has been deprecated. Change the call to include dim=X as an argument.\n",
            "  \n"
          ]
        }
      ],
      "source": [
        "accuracy_40000_path, outputs_40000_path = get_path_truncation_outputs(sorted_keys[:40000], path_vectors, NPF_effective_weights, NPF_effective_biases, X_val, torch.tensor(Y_val))\n",
        "print(\"Accuracy:\", accuracy_40000_path)\n",
        "print(\"Output shape:\", outputs_40000_path.shape)"
      ]
    },
    {
      "cell_type": "code",
      "execution_count": null,
      "metadata": {
        "colab": {
          "base_uri": "https://localhost:8080/"
        },
        "id": "HH4_Kl2-LK4L",
        "outputId": "8979a51c-2061-4953-b7c1-dc47e4e27b4b"
      },
      "outputs": [
        {
          "data": {
            "text/plain": [
              "0.9147796035451438"
            ]
          },
          "execution_count": 39,
          "metadata": {},
          "output_type": "execute_result"
        }
      ],
      "source": [
        "avg_cosine_similarity(Q.cpu().detach().numpy(), outputs_40000_path)"
      ]
    },
    {
      "cell_type": "markdown",
      "metadata": {
        "id": "udDCWz8bLOBI"
      },
      "source": [
        "Top 30000 path"
      ]
    },
    {
      "cell_type": "code",
      "execution_count": null,
      "metadata": {
        "colab": {
          "base_uri": "https://localhost:8080/"
        },
        "id": "dGaBInfYLQc-",
        "outputId": "7959614d-f748-4561-b5ce-b572007f3b70"
      },
      "outputs": [
        {
          "name": "stdout",
          "output_type": "stream",
          "text": [
            "Accuracy: tensor(0.8988)\n",
            "Output shape: (10000, 10)\n"
          ]
        },
        {
          "name": "stderr",
          "output_type": "stream",
          "text": [
            "/usr/local/lib/python3.7/dist-packages/ipykernel_launcher.py:8: UserWarning: Implicit dimension choice for log_softmax has been deprecated. Change the call to include dim=X as an argument.\n",
            "  \n"
          ]
        }
      ],
      "source": [
        "accuracy_30000_path, outputs_30000_path = get_path_truncation_outputs(sorted_keys[:30000], path_vectors, NPF_effective_weights, NPF_effective_biases, X_val, torch.tensor(Y_val))\n",
        "print(\"Accuracy:\", accuracy_30000_path)\n",
        "print(\"Output shape:\", outputs_30000_path.shape)"
      ]
    },
    {
      "cell_type": "code",
      "execution_count": null,
      "metadata": {
        "colab": {
          "base_uri": "https://localhost:8080/"
        },
        "id": "oYCXsg9GLR4q",
        "outputId": "57be8bd9-6089-4afd-8802-32baa897290f"
      },
      "outputs": [
        {
          "data": {
            "text/plain": [
              "0.9047412166220834"
            ]
          },
          "execution_count": 39,
          "metadata": {},
          "output_type": "execute_result"
        }
      ],
      "source": [
        "avg_cosine_similarity(Q.cpu().detach().numpy(), outputs_30000_path)"
      ]
    },
    {
      "cell_type": "markdown",
      "metadata": {
        "id": "zCOKaBLSusMe"
      },
      "source": [
        "Top 20000 path"
      ]
    },
    {
      "cell_type": "code",
      "execution_count": 25,
      "metadata": {
        "colab": {
          "base_uri": "https://localhost:8080/"
        },
        "outputId": "1917460a-a2b6-4d62-bd99-51128e899918",
        "id": "j4csOMi2usMe"
      },
      "outputs": [
        {
          "output_type": "stream",
          "name": "stdout",
          "text": [
            "Accuracy: tensor(0.8552)\n",
            "Output shape: (10000, 10)\n"
          ]
        },
        {
          "output_type": "stream",
          "name": "stderr",
          "text": [
            "/usr/local/lib/python3.7/dist-packages/ipykernel_launcher.py:8: UserWarning: Implicit dimension choice for log_softmax has been deprecated. Change the call to include dim=X as an argument.\n",
            "  \n"
          ]
        }
      ],
      "source": [
        "accuracy_20000_path, outputs_20000_path = get_path_truncation_outputs(sorted_keys[:20000], path_vectors, NPF_effective_weights, NPF_effective_biases, X_val, torch.tensor(Y_val))\n",
        "print(\"Accuracy:\", accuracy_20000_path)\n",
        "print(\"Output shape:\", outputs_20000_path.shape)"
      ]
    },
    {
      "cell_type": "code",
      "execution_count": 29,
      "metadata": {
        "colab": {
          "base_uri": "https://localhost:8080/"
        },
        "outputId": "4102fd22-72b4-4b4a-8088-5094529670aa",
        "id": "FO_IZEZwusMf"
      },
      "outputs": [
        {
          "output_type": "execute_result",
          "data": {
            "text/plain": [
              "0.8692107290759821"
            ]
          },
          "metadata": {},
          "execution_count": 29
        }
      ],
      "source": [
        "avg_cosine_similarity(Q.cpu().detach().numpy(), outputs_20000_path)"
      ]
    },
    {
      "cell_type": "markdown",
      "metadata": {
        "id": "L7ctsCiswudW"
      },
      "source": [
        "Top 10000 path"
      ]
    },
    {
      "cell_type": "code",
      "execution_count": 30,
      "metadata": {
        "colab": {
          "base_uri": "https://localhost:8080/"
        },
        "outputId": "f54766ec-a02c-400d-9bba-60140c07a263",
        "id": "pLdezHtwwudX"
      },
      "outputs": [
        {
          "output_type": "stream",
          "name": "stdout",
          "text": [
            "Accuracy: tensor(0.6845)\n",
            "Output shape: (10000, 10)\n"
          ]
        },
        {
          "output_type": "stream",
          "name": "stderr",
          "text": [
            "/usr/local/lib/python3.7/dist-packages/ipykernel_launcher.py:8: UserWarning: Implicit dimension choice for log_softmax has been deprecated. Change the call to include dim=X as an argument.\n",
            "  \n"
          ]
        }
      ],
      "source": [
        "accuracy_10000_path, outputs_10000_path = get_path_truncation_outputs(sorted_keys[:10000], path_vectors, NPF_effective_weights, NPF_effective_biases, X_val, torch.tensor(Y_val))\n",
        "print(\"Accuracy:\", accuracy_10000_path)\n",
        "print(\"Output shape:\", outputs_10000_path.shape)"
      ]
    },
    {
      "cell_type": "code",
      "execution_count": 31,
      "metadata": {
        "colab": {
          "base_uri": "https://localhost:8080/"
        },
        "outputId": "67a23688-d84d-4971-92d4-e5cdb29dbda7",
        "id": "jCD4DN1RwudX"
      },
      "outputs": [
        {
          "output_type": "execute_result",
          "data": {
            "text/plain": [
              "0.782399761853499"
            ]
          },
          "metadata": {},
          "execution_count": 31
        }
      ],
      "source": [
        "avg_cosine_similarity(Q.cpu().detach().numpy(), outputs_10000_path)"
      ]
    },
    {
      "cell_type": "markdown",
      "metadata": {
        "id": "dCR3JQXow2Mb"
      },
      "source": [
        "Top 1000 path"
      ]
    },
    {
      "cell_type": "code",
      "execution_count": 32,
      "metadata": {
        "colab": {
          "base_uri": "https://localhost:8080/"
        },
        "outputId": "b44ec9c8-1a5d-4273-ccfd-57c43b4309e5",
        "id": "NhUM7-jrw2Mb"
      },
      "outputs": [
        {
          "output_type": "stream",
          "name": "stdout",
          "text": [
            "Accuracy: tensor(0.3498)\n",
            "Output shape: (10000, 10)\n"
          ]
        },
        {
          "output_type": "stream",
          "name": "stderr",
          "text": [
            "/usr/local/lib/python3.7/dist-packages/ipykernel_launcher.py:8: UserWarning: Implicit dimension choice for log_softmax has been deprecated. Change the call to include dim=X as an argument.\n",
            "  \n"
          ]
        }
      ],
      "source": [
        "accuracy_1000_path, outputs_1000_path = get_path_truncation_outputs(sorted_keys[:1000], path_vectors, NPF_effective_weights, NPF_effective_biases, X_val, torch.tensor(Y_val))\n",
        "print(\"Accuracy:\", accuracy_1000_path)\n",
        "print(\"Output shape:\", outputs_1000_path.shape)"
      ]
    },
    {
      "cell_type": "code",
      "execution_count": 36,
      "metadata": {
        "colab": {
          "base_uri": "https://localhost:8080/"
        },
        "outputId": "870844bb-1533-4a29-de29-0916f62ca725",
        "id": "IUcJ19ujw2Mc"
      },
      "outputs": [
        {
          "output_type": "execute_result",
          "data": {
            "text/plain": [
              "0.42559251303239054"
            ]
          },
          "metadata": {},
          "execution_count": 36
        }
      ],
      "source": [
        "avg_cosine_similarity(Q.cpu().detach().numpy(), outputs_1000_path)"
      ]
    },
    {
      "cell_type": "markdown",
      "metadata": {
        "id": "ai7JNU-9w7mP"
      },
      "source": [
        "Top 100 path"
      ]
    },
    {
      "cell_type": "code",
      "execution_count": 34,
      "metadata": {
        "colab": {
          "base_uri": "https://localhost:8080/"
        },
        "outputId": "459b7dbf-ada3-4ea2-e4ea-d5a895a50dc6",
        "id": "A09L9PwVw7mQ"
      },
      "outputs": [
        {
          "output_type": "stream",
          "name": "stdout",
          "text": [
            "Accuracy: tensor(0.2177)\n",
            "Output shape: (10000, 10)\n"
          ]
        },
        {
          "output_type": "stream",
          "name": "stderr",
          "text": [
            "/usr/local/lib/python3.7/dist-packages/ipykernel_launcher.py:8: UserWarning: Implicit dimension choice for log_softmax has been deprecated. Change the call to include dim=X as an argument.\n",
            "  \n"
          ]
        }
      ],
      "source": [
        "accuracy_100_path, outputs_100_path = get_path_truncation_outputs(sorted_keys[:100], path_vectors, NPF_effective_weights, NPF_effective_biases, X_val, torch.tensor(Y_val))\n",
        "print(\"Accuracy:\", accuracy_100_path)\n",
        "print(\"Output shape:\", outputs_100_path.shape)"
      ]
    },
    {
      "cell_type": "code",
      "execution_count": 37,
      "metadata": {
        "colab": {
          "base_uri": "https://localhost:8080/"
        },
        "outputId": "e29ae6a8-5df2-476f-f88d-2357d1e7e333",
        "id": "I8aHgEHnw7mQ"
      },
      "outputs": [
        {
          "output_type": "execute_result",
          "data": {
            "text/plain": [
              "0.15098197858255064"
            ]
          },
          "metadata": {},
          "execution_count": 37
        }
      ],
      "source": [
        "avg_cosine_similarity(Q.cpu().detach().numpy(), outputs_100_path)"
      ]
    },
    {
      "cell_type": "markdown",
      "metadata": {
        "id": "I6kd0Re0LRb1"
      },
      "source": [
        "2. Dynamic Path model"
      ]
    },
    {
      "cell_type": "markdown",
      "metadata": {
        "id": "IIiSJr_ILAgN"
      },
      "source": [
        "Top 2500 active paths\n"
      ]
    },
    {
      "cell_type": "code",
      "execution_count": null,
      "metadata": {
        "colab": {
          "base_uri": "https://localhost:8080/"
        },
        "id": "pwBtr9EJLA9H",
        "outputId": "26dbb318-c552-4fc0-8711-e941c24cf268"
      },
      "outputs": [
        {
          "name": "stderr",
          "output_type": "stream",
          "text": [
            "/usr/local/lib/python3.7/dist-packages/ipykernel_launcher.py:17: UserWarning: Implicit dimension choice for log_softmax has been deprecated. Change the call to include dim=X as an argument.\n"
          ]
        }
      ],
      "source": [
        "accuracy_2500_active_path, outputs_2500_active_path = get_path_truncation_outputs(sorted_keys, path_vectors, NPF_effective_weights, NPF_effective_biases, \n",
        "                                                                                  X_val, torch.tensor(Y_val), n=2500, threshold=0.5)\n",
        "print(accuracy_2500_active_path)\n",
        "print(outputs_2500_active_path.shape)"
      ]
    },
    {
      "cell_type": "code",
      "execution_count": null,
      "metadata": {
        "id": "k3FCmilyf8wS"
      },
      "outputs": [],
      "source": [
        "avg_cosine_similarity(Q.cpu().detach().numpy(), outputs_2500_active_path)"
      ]
    },
    {
      "cell_type": "markdown",
      "metadata": {
        "id": "LcmgIp1CL5Y0"
      },
      "source": [
        "Top 1000 active paths"
      ]
    },
    {
      "cell_type": "code",
      "execution_count": null,
      "metadata": {
        "colab": {
          "base_uri": "https://localhost:8080/"
        },
        "id": "NiPI5zeNL7XP",
        "outputId": "95df46d1-14ff-4d78-fd1d-762e7dd83782"
      },
      "outputs": [
        {
          "name": "stderr",
          "output_type": "stream",
          "text": [
            "/usr/local/lib/python3.7/dist-packages/ipykernel_launcher.py:17: UserWarning: Implicit dimension choice for log_softmax has been deprecated. Change the call to include dim=X as an argument.\n"
          ]
        },
        {
          "name": "stdout",
          "output_type": "stream",
          "text": [
            "tensor(0.5733)\n",
            "(10000, 10)\n"
          ]
        }
      ],
      "source": [
        "accuracy_1000_active_path, outputs_1000_active_path = get_path_truncation_outputs(sorted_keys, path_vectors, NPF_effective_weights, NPF_effective_biases, \n",
        "                                                                                  X_val, torch.tensor(Y_val), n=1000, threshold=0.5)\n",
        "print(accuracy_1000_active_path)\n",
        "print(outputs_1000_active_path.shape)"
      ]
    },
    {
      "cell_type": "code",
      "execution_count": null,
      "metadata": {
        "colab": {
          "base_uri": "https://localhost:8080/"
        },
        "id": "EGYeaL2vNjE5",
        "outputId": "2aae0636-fc26-4c3b-9370-feffc8f639c1"
      },
      "outputs": [
        {
          "data": {
            "text/plain": [
              "0.6550820888482858"
            ]
          },
          "execution_count": 41,
          "metadata": {},
          "output_type": "execute_result"
        }
      ],
      "source": [
        "avg_cosine_similarity(Q.cpu().detach().numpy(), outputs_1000_active_path)"
      ]
    },
    {
      "cell_type": "markdown",
      "metadata": {
        "id": "p2QTinoNTw2u"
      },
      "source": [
        "Top 100 active paths"
      ]
    },
    {
      "cell_type": "code",
      "execution_count": 38,
      "metadata": {
        "colab": {
          "base_uri": "https://localhost:8080/"
        },
        "id": "nrXg8aDXTw2u",
        "outputId": "97c34476-eba4-4642-c981-e17a28676b06"
      },
      "outputs": [
        {
          "output_type": "stream",
          "name": "stderr",
          "text": [
            "/usr/local/lib/python3.7/dist-packages/ipykernel_launcher.py:17: UserWarning: Implicit dimension choice for log_softmax has been deprecated. Change the call to include dim=X as an argument.\n"
          ]
        },
        {
          "output_type": "stream",
          "name": "stdout",
          "text": [
            "tensor(0.3167)\n",
            "(10000, 10)\n"
          ]
        }
      ],
      "source": [
        "accuracy_100_active_path, outputs_100_active_path = get_path_truncation_outputs(sorted_keys, path_vectors, NPF_effective_weights, NPF_effective_biases, \n",
        "                                                                                  X_val, torch.tensor(Y_val), n=100, threshold=0.5)\n",
        "print(accuracy_100_active_path)\n",
        "print(outputs_100_active_path.shape)"
      ]
    },
    {
      "cell_type": "code",
      "execution_count": 39,
      "metadata": {
        "colab": {
          "base_uri": "https://localhost:8080/"
        },
        "id": "oWDrj6oCTw2v",
        "outputId": "9b44eca2-dbf8-457a-c0e2-76d8c2a6a8ce"
      },
      "outputs": [
        {
          "output_type": "execute_result",
          "data": {
            "text/plain": [
              "0.39661604956420454"
            ]
          },
          "metadata": {},
          "execution_count": 39
        }
      ],
      "source": [
        "avg_cosine_similarity(Q.cpu().detach().numpy(), outputs_100_active_path)"
      ]
    }
  ],
  "metadata": {
    "colab": {
      "collapsed_sections": [],
      "provenance": []
    },
    "gpuClass": "standard",
    "kernelspec": {
      "display_name": "Python 3",
      "name": "python3"
    },
    "language_info": {
      "name": "python"
    },
    "widgets": {
      "application/vnd.jupyter.widget-state+json": {
        "ab3d339a03b54e30812895412bf24ef2": {
          "model_module": "@jupyter-widgets/controls",
          "model_name": "HBoxModel",
          "model_module_version": "1.5.0",
          "state": {
            "_dom_classes": [],
            "_model_module": "@jupyter-widgets/controls",
            "_model_module_version": "1.5.0",
            "_model_name": "HBoxModel",
            "_view_count": null,
            "_view_module": "@jupyter-widgets/controls",
            "_view_module_version": "1.5.0",
            "_view_name": "HBoxView",
            "box_style": "",
            "children": [
              "IPY_MODEL_0db301c3973a4decb57d6e1e3c311287",
              "IPY_MODEL_bb5be6962f654dd88eab1d3cd72eeaef",
              "IPY_MODEL_16e8be808bc0462885529fc803b87d07"
            ],
            "layout": "IPY_MODEL_de36066b10ab4f19be6a40eff190d6a1"
          }
        },
        "0db301c3973a4decb57d6e1e3c311287": {
          "model_module": "@jupyter-widgets/controls",
          "model_name": "HTMLModel",
          "model_module_version": "1.5.0",
          "state": {
            "_dom_classes": [],
            "_model_module": "@jupyter-widgets/controls",
            "_model_module_version": "1.5.0",
            "_model_name": "HTMLModel",
            "_view_count": null,
            "_view_module": "@jupyter-widgets/controls",
            "_view_module_version": "1.5.0",
            "_view_name": "HTMLView",
            "description": "",
            "description_tooltip": null,
            "layout": "IPY_MODEL_345ec2d0867c49479689e6af0100c63e",
            "placeholder": "​",
            "style": "IPY_MODEL_0666401d357442fba828ffae6d0922f0",
            "value": "100%"
          }
        },
        "bb5be6962f654dd88eab1d3cd72eeaef": {
          "model_module": "@jupyter-widgets/controls",
          "model_name": "FloatProgressModel",
          "model_module_version": "1.5.0",
          "state": {
            "_dom_classes": [],
            "_model_module": "@jupyter-widgets/controls",
            "_model_module_version": "1.5.0",
            "_model_name": "FloatProgressModel",
            "_view_count": null,
            "_view_module": "@jupyter-widgets/controls",
            "_view_module_version": "1.5.0",
            "_view_name": "ProgressView",
            "bar_style": "success",
            "description": "",
            "description_tooltip": null,
            "layout": "IPY_MODEL_62b89feb00ea4e1997f56eab4448a2a7",
            "max": 9912422,
            "min": 0,
            "orientation": "horizontal",
            "style": "IPY_MODEL_f9f7c0f807d6448783f071e870cbb68c",
            "value": 9912422
          }
        },
        "16e8be808bc0462885529fc803b87d07": {
          "model_module": "@jupyter-widgets/controls",
          "model_name": "HTMLModel",
          "model_module_version": "1.5.0",
          "state": {
            "_dom_classes": [],
            "_model_module": "@jupyter-widgets/controls",
            "_model_module_version": "1.5.0",
            "_model_name": "HTMLModel",
            "_view_count": null,
            "_view_module": "@jupyter-widgets/controls",
            "_view_module_version": "1.5.0",
            "_view_name": "HTMLView",
            "description": "",
            "description_tooltip": null,
            "layout": "IPY_MODEL_dc34ed5346b846f9a23d843fc874de7d",
            "placeholder": "​",
            "style": "IPY_MODEL_8556bfbae3a045e9b97ace86d6497f44",
            "value": " 9912422/9912422 [00:00&lt;00:00, 4876592.37it/s]"
          }
        },
        "de36066b10ab4f19be6a40eff190d6a1": {
          "model_module": "@jupyter-widgets/base",
          "model_name": "LayoutModel",
          "model_module_version": "1.2.0",
          "state": {
            "_model_module": "@jupyter-widgets/base",
            "_model_module_version": "1.2.0",
            "_model_name": "LayoutModel",
            "_view_count": null,
            "_view_module": "@jupyter-widgets/base",
            "_view_module_version": "1.2.0",
            "_view_name": "LayoutView",
            "align_content": null,
            "align_items": null,
            "align_self": null,
            "border": null,
            "bottom": null,
            "display": null,
            "flex": null,
            "flex_flow": null,
            "grid_area": null,
            "grid_auto_columns": null,
            "grid_auto_flow": null,
            "grid_auto_rows": null,
            "grid_column": null,
            "grid_gap": null,
            "grid_row": null,
            "grid_template_areas": null,
            "grid_template_columns": null,
            "grid_template_rows": null,
            "height": null,
            "justify_content": null,
            "justify_items": null,
            "left": null,
            "margin": null,
            "max_height": null,
            "max_width": null,
            "min_height": null,
            "min_width": null,
            "object_fit": null,
            "object_position": null,
            "order": null,
            "overflow": null,
            "overflow_x": null,
            "overflow_y": null,
            "padding": null,
            "right": null,
            "top": null,
            "visibility": null,
            "width": null
          }
        },
        "345ec2d0867c49479689e6af0100c63e": {
          "model_module": "@jupyter-widgets/base",
          "model_name": "LayoutModel",
          "model_module_version": "1.2.0",
          "state": {
            "_model_module": "@jupyter-widgets/base",
            "_model_module_version": "1.2.0",
            "_model_name": "LayoutModel",
            "_view_count": null,
            "_view_module": "@jupyter-widgets/base",
            "_view_module_version": "1.2.0",
            "_view_name": "LayoutView",
            "align_content": null,
            "align_items": null,
            "align_self": null,
            "border": null,
            "bottom": null,
            "display": null,
            "flex": null,
            "flex_flow": null,
            "grid_area": null,
            "grid_auto_columns": null,
            "grid_auto_flow": null,
            "grid_auto_rows": null,
            "grid_column": null,
            "grid_gap": null,
            "grid_row": null,
            "grid_template_areas": null,
            "grid_template_columns": null,
            "grid_template_rows": null,
            "height": null,
            "justify_content": null,
            "justify_items": null,
            "left": null,
            "margin": null,
            "max_height": null,
            "max_width": null,
            "min_height": null,
            "min_width": null,
            "object_fit": null,
            "object_position": null,
            "order": null,
            "overflow": null,
            "overflow_x": null,
            "overflow_y": null,
            "padding": null,
            "right": null,
            "top": null,
            "visibility": null,
            "width": null
          }
        },
        "0666401d357442fba828ffae6d0922f0": {
          "model_module": "@jupyter-widgets/controls",
          "model_name": "DescriptionStyleModel",
          "model_module_version": "1.5.0",
          "state": {
            "_model_module": "@jupyter-widgets/controls",
            "_model_module_version": "1.5.0",
            "_model_name": "DescriptionStyleModel",
            "_view_count": null,
            "_view_module": "@jupyter-widgets/base",
            "_view_module_version": "1.2.0",
            "_view_name": "StyleView",
            "description_width": ""
          }
        },
        "62b89feb00ea4e1997f56eab4448a2a7": {
          "model_module": "@jupyter-widgets/base",
          "model_name": "LayoutModel",
          "model_module_version": "1.2.0",
          "state": {
            "_model_module": "@jupyter-widgets/base",
            "_model_module_version": "1.2.0",
            "_model_name": "LayoutModel",
            "_view_count": null,
            "_view_module": "@jupyter-widgets/base",
            "_view_module_version": "1.2.0",
            "_view_name": "LayoutView",
            "align_content": null,
            "align_items": null,
            "align_self": null,
            "border": null,
            "bottom": null,
            "display": null,
            "flex": null,
            "flex_flow": null,
            "grid_area": null,
            "grid_auto_columns": null,
            "grid_auto_flow": null,
            "grid_auto_rows": null,
            "grid_column": null,
            "grid_gap": null,
            "grid_row": null,
            "grid_template_areas": null,
            "grid_template_columns": null,
            "grid_template_rows": null,
            "height": null,
            "justify_content": null,
            "justify_items": null,
            "left": null,
            "margin": null,
            "max_height": null,
            "max_width": null,
            "min_height": null,
            "min_width": null,
            "object_fit": null,
            "object_position": null,
            "order": null,
            "overflow": null,
            "overflow_x": null,
            "overflow_y": null,
            "padding": null,
            "right": null,
            "top": null,
            "visibility": null,
            "width": null
          }
        },
        "f9f7c0f807d6448783f071e870cbb68c": {
          "model_module": "@jupyter-widgets/controls",
          "model_name": "ProgressStyleModel",
          "model_module_version": "1.5.0",
          "state": {
            "_model_module": "@jupyter-widgets/controls",
            "_model_module_version": "1.5.0",
            "_model_name": "ProgressStyleModel",
            "_view_count": null,
            "_view_module": "@jupyter-widgets/base",
            "_view_module_version": "1.2.0",
            "_view_name": "StyleView",
            "bar_color": null,
            "description_width": ""
          }
        },
        "dc34ed5346b846f9a23d843fc874de7d": {
          "model_module": "@jupyter-widgets/base",
          "model_name": "LayoutModel",
          "model_module_version": "1.2.0",
          "state": {
            "_model_module": "@jupyter-widgets/base",
            "_model_module_version": "1.2.0",
            "_model_name": "LayoutModel",
            "_view_count": null,
            "_view_module": "@jupyter-widgets/base",
            "_view_module_version": "1.2.0",
            "_view_name": "LayoutView",
            "align_content": null,
            "align_items": null,
            "align_self": null,
            "border": null,
            "bottom": null,
            "display": null,
            "flex": null,
            "flex_flow": null,
            "grid_area": null,
            "grid_auto_columns": null,
            "grid_auto_flow": null,
            "grid_auto_rows": null,
            "grid_column": null,
            "grid_gap": null,
            "grid_row": null,
            "grid_template_areas": null,
            "grid_template_columns": null,
            "grid_template_rows": null,
            "height": null,
            "justify_content": null,
            "justify_items": null,
            "left": null,
            "margin": null,
            "max_height": null,
            "max_width": null,
            "min_height": null,
            "min_width": null,
            "object_fit": null,
            "object_position": null,
            "order": null,
            "overflow": null,
            "overflow_x": null,
            "overflow_y": null,
            "padding": null,
            "right": null,
            "top": null,
            "visibility": null,
            "width": null
          }
        },
        "8556bfbae3a045e9b97ace86d6497f44": {
          "model_module": "@jupyter-widgets/controls",
          "model_name": "DescriptionStyleModel",
          "model_module_version": "1.5.0",
          "state": {
            "_model_module": "@jupyter-widgets/controls",
            "_model_module_version": "1.5.0",
            "_model_name": "DescriptionStyleModel",
            "_view_count": null,
            "_view_module": "@jupyter-widgets/base",
            "_view_module_version": "1.2.0",
            "_view_name": "StyleView",
            "description_width": ""
          }
        },
        "2e4a00f197b84d66b95ce8ac9093569e": {
          "model_module": "@jupyter-widgets/controls",
          "model_name": "HBoxModel",
          "model_module_version": "1.5.0",
          "state": {
            "_dom_classes": [],
            "_model_module": "@jupyter-widgets/controls",
            "_model_module_version": "1.5.0",
            "_model_name": "HBoxModel",
            "_view_count": null,
            "_view_module": "@jupyter-widgets/controls",
            "_view_module_version": "1.5.0",
            "_view_name": "HBoxView",
            "box_style": "",
            "children": [
              "IPY_MODEL_11d73cdc558642cfb3a8c6f1ac78fe58",
              "IPY_MODEL_cbc6ac9d878844119040b413922e4e02",
              "IPY_MODEL_bd87d1a15ffc48adb2fb8134718723cd"
            ],
            "layout": "IPY_MODEL_49e600eb199844ad90933813bc0ecf67"
          }
        },
        "11d73cdc558642cfb3a8c6f1ac78fe58": {
          "model_module": "@jupyter-widgets/controls",
          "model_name": "HTMLModel",
          "model_module_version": "1.5.0",
          "state": {
            "_dom_classes": [],
            "_model_module": "@jupyter-widgets/controls",
            "_model_module_version": "1.5.0",
            "_model_name": "HTMLModel",
            "_view_count": null,
            "_view_module": "@jupyter-widgets/controls",
            "_view_module_version": "1.5.0",
            "_view_name": "HTMLView",
            "description": "",
            "description_tooltip": null,
            "layout": "IPY_MODEL_c52d52fbc470473c89561d41213b4c24",
            "placeholder": "​",
            "style": "IPY_MODEL_c36092d8eeb94bd993b028c4ff00a6ea",
            "value": "100%"
          }
        },
        "cbc6ac9d878844119040b413922e4e02": {
          "model_module": "@jupyter-widgets/controls",
          "model_name": "FloatProgressModel",
          "model_module_version": "1.5.0",
          "state": {
            "_dom_classes": [],
            "_model_module": "@jupyter-widgets/controls",
            "_model_module_version": "1.5.0",
            "_model_name": "FloatProgressModel",
            "_view_count": null,
            "_view_module": "@jupyter-widgets/controls",
            "_view_module_version": "1.5.0",
            "_view_name": "ProgressView",
            "bar_style": "success",
            "description": "",
            "description_tooltip": null,
            "layout": "IPY_MODEL_77363fb2aa4b48b487d7f3a2ddcb8a3a",
            "max": 28881,
            "min": 0,
            "orientation": "horizontal",
            "style": "IPY_MODEL_be9e86570ae54c488f6c6d91c2871e86",
            "value": 28881
          }
        },
        "bd87d1a15ffc48adb2fb8134718723cd": {
          "model_module": "@jupyter-widgets/controls",
          "model_name": "HTMLModel",
          "model_module_version": "1.5.0",
          "state": {
            "_dom_classes": [],
            "_model_module": "@jupyter-widgets/controls",
            "_model_module_version": "1.5.0",
            "_model_name": "HTMLModel",
            "_view_count": null,
            "_view_module": "@jupyter-widgets/controls",
            "_view_module_version": "1.5.0",
            "_view_name": "HTMLView",
            "description": "",
            "description_tooltip": null,
            "layout": "IPY_MODEL_9abc99f0ed844e0aae78a22b6ad587f0",
            "placeholder": "​",
            "style": "IPY_MODEL_83734e5ccf314086a2bf3b1cdd9e7e97",
            "value": " 28881/28881 [00:00&lt;00:00, 692002.30it/s]"
          }
        },
        "49e600eb199844ad90933813bc0ecf67": {
          "model_module": "@jupyter-widgets/base",
          "model_name": "LayoutModel",
          "model_module_version": "1.2.0",
          "state": {
            "_model_module": "@jupyter-widgets/base",
            "_model_module_version": "1.2.0",
            "_model_name": "LayoutModel",
            "_view_count": null,
            "_view_module": "@jupyter-widgets/base",
            "_view_module_version": "1.2.0",
            "_view_name": "LayoutView",
            "align_content": null,
            "align_items": null,
            "align_self": null,
            "border": null,
            "bottom": null,
            "display": null,
            "flex": null,
            "flex_flow": null,
            "grid_area": null,
            "grid_auto_columns": null,
            "grid_auto_flow": null,
            "grid_auto_rows": null,
            "grid_column": null,
            "grid_gap": null,
            "grid_row": null,
            "grid_template_areas": null,
            "grid_template_columns": null,
            "grid_template_rows": null,
            "height": null,
            "justify_content": null,
            "justify_items": null,
            "left": null,
            "margin": null,
            "max_height": null,
            "max_width": null,
            "min_height": null,
            "min_width": null,
            "object_fit": null,
            "object_position": null,
            "order": null,
            "overflow": null,
            "overflow_x": null,
            "overflow_y": null,
            "padding": null,
            "right": null,
            "top": null,
            "visibility": null,
            "width": null
          }
        },
        "c52d52fbc470473c89561d41213b4c24": {
          "model_module": "@jupyter-widgets/base",
          "model_name": "LayoutModel",
          "model_module_version": "1.2.0",
          "state": {
            "_model_module": "@jupyter-widgets/base",
            "_model_module_version": "1.2.0",
            "_model_name": "LayoutModel",
            "_view_count": null,
            "_view_module": "@jupyter-widgets/base",
            "_view_module_version": "1.2.0",
            "_view_name": "LayoutView",
            "align_content": null,
            "align_items": null,
            "align_self": null,
            "border": null,
            "bottom": null,
            "display": null,
            "flex": null,
            "flex_flow": null,
            "grid_area": null,
            "grid_auto_columns": null,
            "grid_auto_flow": null,
            "grid_auto_rows": null,
            "grid_column": null,
            "grid_gap": null,
            "grid_row": null,
            "grid_template_areas": null,
            "grid_template_columns": null,
            "grid_template_rows": null,
            "height": null,
            "justify_content": null,
            "justify_items": null,
            "left": null,
            "margin": null,
            "max_height": null,
            "max_width": null,
            "min_height": null,
            "min_width": null,
            "object_fit": null,
            "object_position": null,
            "order": null,
            "overflow": null,
            "overflow_x": null,
            "overflow_y": null,
            "padding": null,
            "right": null,
            "top": null,
            "visibility": null,
            "width": null
          }
        },
        "c36092d8eeb94bd993b028c4ff00a6ea": {
          "model_module": "@jupyter-widgets/controls",
          "model_name": "DescriptionStyleModel",
          "model_module_version": "1.5.0",
          "state": {
            "_model_module": "@jupyter-widgets/controls",
            "_model_module_version": "1.5.0",
            "_model_name": "DescriptionStyleModel",
            "_view_count": null,
            "_view_module": "@jupyter-widgets/base",
            "_view_module_version": "1.2.0",
            "_view_name": "StyleView",
            "description_width": ""
          }
        },
        "77363fb2aa4b48b487d7f3a2ddcb8a3a": {
          "model_module": "@jupyter-widgets/base",
          "model_name": "LayoutModel",
          "model_module_version": "1.2.0",
          "state": {
            "_model_module": "@jupyter-widgets/base",
            "_model_module_version": "1.2.0",
            "_model_name": "LayoutModel",
            "_view_count": null,
            "_view_module": "@jupyter-widgets/base",
            "_view_module_version": "1.2.0",
            "_view_name": "LayoutView",
            "align_content": null,
            "align_items": null,
            "align_self": null,
            "border": null,
            "bottom": null,
            "display": null,
            "flex": null,
            "flex_flow": null,
            "grid_area": null,
            "grid_auto_columns": null,
            "grid_auto_flow": null,
            "grid_auto_rows": null,
            "grid_column": null,
            "grid_gap": null,
            "grid_row": null,
            "grid_template_areas": null,
            "grid_template_columns": null,
            "grid_template_rows": null,
            "height": null,
            "justify_content": null,
            "justify_items": null,
            "left": null,
            "margin": null,
            "max_height": null,
            "max_width": null,
            "min_height": null,
            "min_width": null,
            "object_fit": null,
            "object_position": null,
            "order": null,
            "overflow": null,
            "overflow_x": null,
            "overflow_y": null,
            "padding": null,
            "right": null,
            "top": null,
            "visibility": null,
            "width": null
          }
        },
        "be9e86570ae54c488f6c6d91c2871e86": {
          "model_module": "@jupyter-widgets/controls",
          "model_name": "ProgressStyleModel",
          "model_module_version": "1.5.0",
          "state": {
            "_model_module": "@jupyter-widgets/controls",
            "_model_module_version": "1.5.0",
            "_model_name": "ProgressStyleModel",
            "_view_count": null,
            "_view_module": "@jupyter-widgets/base",
            "_view_module_version": "1.2.0",
            "_view_name": "StyleView",
            "bar_color": null,
            "description_width": ""
          }
        },
        "9abc99f0ed844e0aae78a22b6ad587f0": {
          "model_module": "@jupyter-widgets/base",
          "model_name": "LayoutModel",
          "model_module_version": "1.2.0",
          "state": {
            "_model_module": "@jupyter-widgets/base",
            "_model_module_version": "1.2.0",
            "_model_name": "LayoutModel",
            "_view_count": null,
            "_view_module": "@jupyter-widgets/base",
            "_view_module_version": "1.2.0",
            "_view_name": "LayoutView",
            "align_content": null,
            "align_items": null,
            "align_self": null,
            "border": null,
            "bottom": null,
            "display": null,
            "flex": null,
            "flex_flow": null,
            "grid_area": null,
            "grid_auto_columns": null,
            "grid_auto_flow": null,
            "grid_auto_rows": null,
            "grid_column": null,
            "grid_gap": null,
            "grid_row": null,
            "grid_template_areas": null,
            "grid_template_columns": null,
            "grid_template_rows": null,
            "height": null,
            "justify_content": null,
            "justify_items": null,
            "left": null,
            "margin": null,
            "max_height": null,
            "max_width": null,
            "min_height": null,
            "min_width": null,
            "object_fit": null,
            "object_position": null,
            "order": null,
            "overflow": null,
            "overflow_x": null,
            "overflow_y": null,
            "padding": null,
            "right": null,
            "top": null,
            "visibility": null,
            "width": null
          }
        },
        "83734e5ccf314086a2bf3b1cdd9e7e97": {
          "model_module": "@jupyter-widgets/controls",
          "model_name": "DescriptionStyleModel",
          "model_module_version": "1.5.0",
          "state": {
            "_model_module": "@jupyter-widgets/controls",
            "_model_module_version": "1.5.0",
            "_model_name": "DescriptionStyleModel",
            "_view_count": null,
            "_view_module": "@jupyter-widgets/base",
            "_view_module_version": "1.2.0",
            "_view_name": "StyleView",
            "description_width": ""
          }
        },
        "f05a9d6fa1314bbb8d9b18ee3a8e0f23": {
          "model_module": "@jupyter-widgets/controls",
          "model_name": "HBoxModel",
          "model_module_version": "1.5.0",
          "state": {
            "_dom_classes": [],
            "_model_module": "@jupyter-widgets/controls",
            "_model_module_version": "1.5.0",
            "_model_name": "HBoxModel",
            "_view_count": null,
            "_view_module": "@jupyter-widgets/controls",
            "_view_module_version": "1.5.0",
            "_view_name": "HBoxView",
            "box_style": "",
            "children": [
              "IPY_MODEL_5e3ea106a514409e9ba2bea189289f6c",
              "IPY_MODEL_67e88a1542c544b0b316c2b2f7f38148",
              "IPY_MODEL_d156d6c37b774b979190bb8ca8ac3e38"
            ],
            "layout": "IPY_MODEL_085942db69e148db91d78334e5eb88cb"
          }
        },
        "5e3ea106a514409e9ba2bea189289f6c": {
          "model_module": "@jupyter-widgets/controls",
          "model_name": "HTMLModel",
          "model_module_version": "1.5.0",
          "state": {
            "_dom_classes": [],
            "_model_module": "@jupyter-widgets/controls",
            "_model_module_version": "1.5.0",
            "_model_name": "HTMLModel",
            "_view_count": null,
            "_view_module": "@jupyter-widgets/controls",
            "_view_module_version": "1.5.0",
            "_view_name": "HTMLView",
            "description": "",
            "description_tooltip": null,
            "layout": "IPY_MODEL_06d4c467468c4f059b5afcb188ec242c",
            "placeholder": "​",
            "style": "IPY_MODEL_bc927d6e006944cea1088972f9f91374",
            "value": "100%"
          }
        },
        "67e88a1542c544b0b316c2b2f7f38148": {
          "model_module": "@jupyter-widgets/controls",
          "model_name": "FloatProgressModel",
          "model_module_version": "1.5.0",
          "state": {
            "_dom_classes": [],
            "_model_module": "@jupyter-widgets/controls",
            "_model_module_version": "1.5.0",
            "_model_name": "FloatProgressModel",
            "_view_count": null,
            "_view_module": "@jupyter-widgets/controls",
            "_view_module_version": "1.5.0",
            "_view_name": "ProgressView",
            "bar_style": "success",
            "description": "",
            "description_tooltip": null,
            "layout": "IPY_MODEL_f3008feb8a6842ac8a7351e13d2f9ff4",
            "max": 1648877,
            "min": 0,
            "orientation": "horizontal",
            "style": "IPY_MODEL_6405f5e189824b8298cb6eb66a9cab31",
            "value": 1648877
          }
        },
        "d156d6c37b774b979190bb8ca8ac3e38": {
          "model_module": "@jupyter-widgets/controls",
          "model_name": "HTMLModel",
          "model_module_version": "1.5.0",
          "state": {
            "_dom_classes": [],
            "_model_module": "@jupyter-widgets/controls",
            "_model_module_version": "1.5.0",
            "_model_name": "HTMLModel",
            "_view_count": null,
            "_view_module": "@jupyter-widgets/controls",
            "_view_module_version": "1.5.0",
            "_view_name": "HTMLView",
            "description": "",
            "description_tooltip": null,
            "layout": "IPY_MODEL_11a987ae88b042bab3d8e11f1eefaf96",
            "placeholder": "​",
            "style": "IPY_MODEL_279c3de3a197440580c952d2fef3e9a0",
            "value": " 1648877/1648877 [00:00&lt;00:00, 7784943.09it/s]"
          }
        },
        "085942db69e148db91d78334e5eb88cb": {
          "model_module": "@jupyter-widgets/base",
          "model_name": "LayoutModel",
          "model_module_version": "1.2.0",
          "state": {
            "_model_module": "@jupyter-widgets/base",
            "_model_module_version": "1.2.0",
            "_model_name": "LayoutModel",
            "_view_count": null,
            "_view_module": "@jupyter-widgets/base",
            "_view_module_version": "1.2.0",
            "_view_name": "LayoutView",
            "align_content": null,
            "align_items": null,
            "align_self": null,
            "border": null,
            "bottom": null,
            "display": null,
            "flex": null,
            "flex_flow": null,
            "grid_area": null,
            "grid_auto_columns": null,
            "grid_auto_flow": null,
            "grid_auto_rows": null,
            "grid_column": null,
            "grid_gap": null,
            "grid_row": null,
            "grid_template_areas": null,
            "grid_template_columns": null,
            "grid_template_rows": null,
            "height": null,
            "justify_content": null,
            "justify_items": null,
            "left": null,
            "margin": null,
            "max_height": null,
            "max_width": null,
            "min_height": null,
            "min_width": null,
            "object_fit": null,
            "object_position": null,
            "order": null,
            "overflow": null,
            "overflow_x": null,
            "overflow_y": null,
            "padding": null,
            "right": null,
            "top": null,
            "visibility": null,
            "width": null
          }
        },
        "06d4c467468c4f059b5afcb188ec242c": {
          "model_module": "@jupyter-widgets/base",
          "model_name": "LayoutModel",
          "model_module_version": "1.2.0",
          "state": {
            "_model_module": "@jupyter-widgets/base",
            "_model_module_version": "1.2.0",
            "_model_name": "LayoutModel",
            "_view_count": null,
            "_view_module": "@jupyter-widgets/base",
            "_view_module_version": "1.2.0",
            "_view_name": "LayoutView",
            "align_content": null,
            "align_items": null,
            "align_self": null,
            "border": null,
            "bottom": null,
            "display": null,
            "flex": null,
            "flex_flow": null,
            "grid_area": null,
            "grid_auto_columns": null,
            "grid_auto_flow": null,
            "grid_auto_rows": null,
            "grid_column": null,
            "grid_gap": null,
            "grid_row": null,
            "grid_template_areas": null,
            "grid_template_columns": null,
            "grid_template_rows": null,
            "height": null,
            "justify_content": null,
            "justify_items": null,
            "left": null,
            "margin": null,
            "max_height": null,
            "max_width": null,
            "min_height": null,
            "min_width": null,
            "object_fit": null,
            "object_position": null,
            "order": null,
            "overflow": null,
            "overflow_x": null,
            "overflow_y": null,
            "padding": null,
            "right": null,
            "top": null,
            "visibility": null,
            "width": null
          }
        },
        "bc927d6e006944cea1088972f9f91374": {
          "model_module": "@jupyter-widgets/controls",
          "model_name": "DescriptionStyleModel",
          "model_module_version": "1.5.0",
          "state": {
            "_model_module": "@jupyter-widgets/controls",
            "_model_module_version": "1.5.0",
            "_model_name": "DescriptionStyleModel",
            "_view_count": null,
            "_view_module": "@jupyter-widgets/base",
            "_view_module_version": "1.2.0",
            "_view_name": "StyleView",
            "description_width": ""
          }
        },
        "f3008feb8a6842ac8a7351e13d2f9ff4": {
          "model_module": "@jupyter-widgets/base",
          "model_name": "LayoutModel",
          "model_module_version": "1.2.0",
          "state": {
            "_model_module": "@jupyter-widgets/base",
            "_model_module_version": "1.2.0",
            "_model_name": "LayoutModel",
            "_view_count": null,
            "_view_module": "@jupyter-widgets/base",
            "_view_module_version": "1.2.0",
            "_view_name": "LayoutView",
            "align_content": null,
            "align_items": null,
            "align_self": null,
            "border": null,
            "bottom": null,
            "display": null,
            "flex": null,
            "flex_flow": null,
            "grid_area": null,
            "grid_auto_columns": null,
            "grid_auto_flow": null,
            "grid_auto_rows": null,
            "grid_column": null,
            "grid_gap": null,
            "grid_row": null,
            "grid_template_areas": null,
            "grid_template_columns": null,
            "grid_template_rows": null,
            "height": null,
            "justify_content": null,
            "justify_items": null,
            "left": null,
            "margin": null,
            "max_height": null,
            "max_width": null,
            "min_height": null,
            "min_width": null,
            "object_fit": null,
            "object_position": null,
            "order": null,
            "overflow": null,
            "overflow_x": null,
            "overflow_y": null,
            "padding": null,
            "right": null,
            "top": null,
            "visibility": null,
            "width": null
          }
        },
        "6405f5e189824b8298cb6eb66a9cab31": {
          "model_module": "@jupyter-widgets/controls",
          "model_name": "ProgressStyleModel",
          "model_module_version": "1.5.0",
          "state": {
            "_model_module": "@jupyter-widgets/controls",
            "_model_module_version": "1.5.0",
            "_model_name": "ProgressStyleModel",
            "_view_count": null,
            "_view_module": "@jupyter-widgets/base",
            "_view_module_version": "1.2.0",
            "_view_name": "StyleView",
            "bar_color": null,
            "description_width": ""
          }
        },
        "11a987ae88b042bab3d8e11f1eefaf96": {
          "model_module": "@jupyter-widgets/base",
          "model_name": "LayoutModel",
          "model_module_version": "1.2.0",
          "state": {
            "_model_module": "@jupyter-widgets/base",
            "_model_module_version": "1.2.0",
            "_model_name": "LayoutModel",
            "_view_count": null,
            "_view_module": "@jupyter-widgets/base",
            "_view_module_version": "1.2.0",
            "_view_name": "LayoutView",
            "align_content": null,
            "align_items": null,
            "align_self": null,
            "border": null,
            "bottom": null,
            "display": null,
            "flex": null,
            "flex_flow": null,
            "grid_area": null,
            "grid_auto_columns": null,
            "grid_auto_flow": null,
            "grid_auto_rows": null,
            "grid_column": null,
            "grid_gap": null,
            "grid_row": null,
            "grid_template_areas": null,
            "grid_template_columns": null,
            "grid_template_rows": null,
            "height": null,
            "justify_content": null,
            "justify_items": null,
            "left": null,
            "margin": null,
            "max_height": null,
            "max_width": null,
            "min_height": null,
            "min_width": null,
            "object_fit": null,
            "object_position": null,
            "order": null,
            "overflow": null,
            "overflow_x": null,
            "overflow_y": null,
            "padding": null,
            "right": null,
            "top": null,
            "visibility": null,
            "width": null
          }
        },
        "279c3de3a197440580c952d2fef3e9a0": {
          "model_module": "@jupyter-widgets/controls",
          "model_name": "DescriptionStyleModel",
          "model_module_version": "1.5.0",
          "state": {
            "_model_module": "@jupyter-widgets/controls",
            "_model_module_version": "1.5.0",
            "_model_name": "DescriptionStyleModel",
            "_view_count": null,
            "_view_module": "@jupyter-widgets/base",
            "_view_module_version": "1.2.0",
            "_view_name": "StyleView",
            "description_width": ""
          }
        },
        "64bef127452a4de78c37d455b5d7d86b": {
          "model_module": "@jupyter-widgets/controls",
          "model_name": "HBoxModel",
          "model_module_version": "1.5.0",
          "state": {
            "_dom_classes": [],
            "_model_module": "@jupyter-widgets/controls",
            "_model_module_version": "1.5.0",
            "_model_name": "HBoxModel",
            "_view_count": null,
            "_view_module": "@jupyter-widgets/controls",
            "_view_module_version": "1.5.0",
            "_view_name": "HBoxView",
            "box_style": "",
            "children": [
              "IPY_MODEL_0d2cea551a514806b87ce9f0a04a8345",
              "IPY_MODEL_9b1b3912f57d4a94b162c517efaa1ac3",
              "IPY_MODEL_0293ab20c6c54490b670b8a4fa1d2127"
            ],
            "layout": "IPY_MODEL_6abcf48ddd0143e982738d74e0ff38b2"
          }
        },
        "0d2cea551a514806b87ce9f0a04a8345": {
          "model_module": "@jupyter-widgets/controls",
          "model_name": "HTMLModel",
          "model_module_version": "1.5.0",
          "state": {
            "_dom_classes": [],
            "_model_module": "@jupyter-widgets/controls",
            "_model_module_version": "1.5.0",
            "_model_name": "HTMLModel",
            "_view_count": null,
            "_view_module": "@jupyter-widgets/controls",
            "_view_module_version": "1.5.0",
            "_view_name": "HTMLView",
            "description": "",
            "description_tooltip": null,
            "layout": "IPY_MODEL_e76ec640454543aea40123d1c20afdb1",
            "placeholder": "​",
            "style": "IPY_MODEL_ad33692ea91e4b83a50f6d2e653738b7",
            "value": "100%"
          }
        },
        "9b1b3912f57d4a94b162c517efaa1ac3": {
          "model_module": "@jupyter-widgets/controls",
          "model_name": "FloatProgressModel",
          "model_module_version": "1.5.0",
          "state": {
            "_dom_classes": [],
            "_model_module": "@jupyter-widgets/controls",
            "_model_module_version": "1.5.0",
            "_model_name": "FloatProgressModel",
            "_view_count": null,
            "_view_module": "@jupyter-widgets/controls",
            "_view_module_version": "1.5.0",
            "_view_name": "ProgressView",
            "bar_style": "success",
            "description": "",
            "description_tooltip": null,
            "layout": "IPY_MODEL_1cfdd039fa76426498ad71be9fffa9eb",
            "max": 4542,
            "min": 0,
            "orientation": "horizontal",
            "style": "IPY_MODEL_58be0213ae8f445da1f3d72dd4b277f5",
            "value": 4542
          }
        },
        "0293ab20c6c54490b670b8a4fa1d2127": {
          "model_module": "@jupyter-widgets/controls",
          "model_name": "HTMLModel",
          "model_module_version": "1.5.0",
          "state": {
            "_dom_classes": [],
            "_model_module": "@jupyter-widgets/controls",
            "_model_module_version": "1.5.0",
            "_model_name": "HTMLModel",
            "_view_count": null,
            "_view_module": "@jupyter-widgets/controls",
            "_view_module_version": "1.5.0",
            "_view_name": "HTMLView",
            "description": "",
            "description_tooltip": null,
            "layout": "IPY_MODEL_683e47106123421faaf7b2459e2f17a8",
            "placeholder": "​",
            "style": "IPY_MODEL_5cdeee1c56ad45e68986a1e7f51174e1",
            "value": " 4542/4542 [00:00&lt;00:00, 115140.94it/s]"
          }
        },
        "6abcf48ddd0143e982738d74e0ff38b2": {
          "model_module": "@jupyter-widgets/base",
          "model_name": "LayoutModel",
          "model_module_version": "1.2.0",
          "state": {
            "_model_module": "@jupyter-widgets/base",
            "_model_module_version": "1.2.0",
            "_model_name": "LayoutModel",
            "_view_count": null,
            "_view_module": "@jupyter-widgets/base",
            "_view_module_version": "1.2.0",
            "_view_name": "LayoutView",
            "align_content": null,
            "align_items": null,
            "align_self": null,
            "border": null,
            "bottom": null,
            "display": null,
            "flex": null,
            "flex_flow": null,
            "grid_area": null,
            "grid_auto_columns": null,
            "grid_auto_flow": null,
            "grid_auto_rows": null,
            "grid_column": null,
            "grid_gap": null,
            "grid_row": null,
            "grid_template_areas": null,
            "grid_template_columns": null,
            "grid_template_rows": null,
            "height": null,
            "justify_content": null,
            "justify_items": null,
            "left": null,
            "margin": null,
            "max_height": null,
            "max_width": null,
            "min_height": null,
            "min_width": null,
            "object_fit": null,
            "object_position": null,
            "order": null,
            "overflow": null,
            "overflow_x": null,
            "overflow_y": null,
            "padding": null,
            "right": null,
            "top": null,
            "visibility": null,
            "width": null
          }
        },
        "e76ec640454543aea40123d1c20afdb1": {
          "model_module": "@jupyter-widgets/base",
          "model_name": "LayoutModel",
          "model_module_version": "1.2.0",
          "state": {
            "_model_module": "@jupyter-widgets/base",
            "_model_module_version": "1.2.0",
            "_model_name": "LayoutModel",
            "_view_count": null,
            "_view_module": "@jupyter-widgets/base",
            "_view_module_version": "1.2.0",
            "_view_name": "LayoutView",
            "align_content": null,
            "align_items": null,
            "align_self": null,
            "border": null,
            "bottom": null,
            "display": null,
            "flex": null,
            "flex_flow": null,
            "grid_area": null,
            "grid_auto_columns": null,
            "grid_auto_flow": null,
            "grid_auto_rows": null,
            "grid_column": null,
            "grid_gap": null,
            "grid_row": null,
            "grid_template_areas": null,
            "grid_template_columns": null,
            "grid_template_rows": null,
            "height": null,
            "justify_content": null,
            "justify_items": null,
            "left": null,
            "margin": null,
            "max_height": null,
            "max_width": null,
            "min_height": null,
            "min_width": null,
            "object_fit": null,
            "object_position": null,
            "order": null,
            "overflow": null,
            "overflow_x": null,
            "overflow_y": null,
            "padding": null,
            "right": null,
            "top": null,
            "visibility": null,
            "width": null
          }
        },
        "ad33692ea91e4b83a50f6d2e653738b7": {
          "model_module": "@jupyter-widgets/controls",
          "model_name": "DescriptionStyleModel",
          "model_module_version": "1.5.0",
          "state": {
            "_model_module": "@jupyter-widgets/controls",
            "_model_module_version": "1.5.0",
            "_model_name": "DescriptionStyleModel",
            "_view_count": null,
            "_view_module": "@jupyter-widgets/base",
            "_view_module_version": "1.2.0",
            "_view_name": "StyleView",
            "description_width": ""
          }
        },
        "1cfdd039fa76426498ad71be9fffa9eb": {
          "model_module": "@jupyter-widgets/base",
          "model_name": "LayoutModel",
          "model_module_version": "1.2.0",
          "state": {
            "_model_module": "@jupyter-widgets/base",
            "_model_module_version": "1.2.0",
            "_model_name": "LayoutModel",
            "_view_count": null,
            "_view_module": "@jupyter-widgets/base",
            "_view_module_version": "1.2.0",
            "_view_name": "LayoutView",
            "align_content": null,
            "align_items": null,
            "align_self": null,
            "border": null,
            "bottom": null,
            "display": null,
            "flex": null,
            "flex_flow": null,
            "grid_area": null,
            "grid_auto_columns": null,
            "grid_auto_flow": null,
            "grid_auto_rows": null,
            "grid_column": null,
            "grid_gap": null,
            "grid_row": null,
            "grid_template_areas": null,
            "grid_template_columns": null,
            "grid_template_rows": null,
            "height": null,
            "justify_content": null,
            "justify_items": null,
            "left": null,
            "margin": null,
            "max_height": null,
            "max_width": null,
            "min_height": null,
            "min_width": null,
            "object_fit": null,
            "object_position": null,
            "order": null,
            "overflow": null,
            "overflow_x": null,
            "overflow_y": null,
            "padding": null,
            "right": null,
            "top": null,
            "visibility": null,
            "width": null
          }
        },
        "58be0213ae8f445da1f3d72dd4b277f5": {
          "model_module": "@jupyter-widgets/controls",
          "model_name": "ProgressStyleModel",
          "model_module_version": "1.5.0",
          "state": {
            "_model_module": "@jupyter-widgets/controls",
            "_model_module_version": "1.5.0",
            "_model_name": "ProgressStyleModel",
            "_view_count": null,
            "_view_module": "@jupyter-widgets/base",
            "_view_module_version": "1.2.0",
            "_view_name": "StyleView",
            "bar_color": null,
            "description_width": ""
          }
        },
        "683e47106123421faaf7b2459e2f17a8": {
          "model_module": "@jupyter-widgets/base",
          "model_name": "LayoutModel",
          "model_module_version": "1.2.0",
          "state": {
            "_model_module": "@jupyter-widgets/base",
            "_model_module_version": "1.2.0",
            "_model_name": "LayoutModel",
            "_view_count": null,
            "_view_module": "@jupyter-widgets/base",
            "_view_module_version": "1.2.0",
            "_view_name": "LayoutView",
            "align_content": null,
            "align_items": null,
            "align_self": null,
            "border": null,
            "bottom": null,
            "display": null,
            "flex": null,
            "flex_flow": null,
            "grid_area": null,
            "grid_auto_columns": null,
            "grid_auto_flow": null,
            "grid_auto_rows": null,
            "grid_column": null,
            "grid_gap": null,
            "grid_row": null,
            "grid_template_areas": null,
            "grid_template_columns": null,
            "grid_template_rows": null,
            "height": null,
            "justify_content": null,
            "justify_items": null,
            "left": null,
            "margin": null,
            "max_height": null,
            "max_width": null,
            "min_height": null,
            "min_width": null,
            "object_fit": null,
            "object_position": null,
            "order": null,
            "overflow": null,
            "overflow_x": null,
            "overflow_y": null,
            "padding": null,
            "right": null,
            "top": null,
            "visibility": null,
            "width": null
          }
        },
        "5cdeee1c56ad45e68986a1e7f51174e1": {
          "model_module": "@jupyter-widgets/controls",
          "model_name": "DescriptionStyleModel",
          "model_module_version": "1.5.0",
          "state": {
            "_model_module": "@jupyter-widgets/controls",
            "_model_module_version": "1.5.0",
            "_model_name": "DescriptionStyleModel",
            "_view_count": null,
            "_view_module": "@jupyter-widgets/base",
            "_view_module_version": "1.2.0",
            "_view_name": "StyleView",
            "description_width": ""
          }
        }
      }
    }
  },
  "nbformat": 4,
  "nbformat_minor": 0
}