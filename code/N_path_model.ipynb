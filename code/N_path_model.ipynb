{
  "nbformat": 4,
  "nbformat_minor": 0,
  "metadata": {
    "colab": {
      "provenance": [],
      "collapsed_sections": []
    },
    "kernelspec": {
      "name": "python3",
      "display_name": "Python 3"
    },
    "language_info": {
      "name": "python"
    },
    "widgets": {
      "application/vnd.jupyter.widget-state+json": {
        "f9048ea2b3b94f2f8e920b9c8bf46244": {
          "model_module": "@jupyter-widgets/controls",
          "model_name": "HBoxModel",
          "model_module_version": "1.5.0",
          "state": {
            "_dom_classes": [],
            "_model_module": "@jupyter-widgets/controls",
            "_model_module_version": "1.5.0",
            "_model_name": "HBoxModel",
            "_view_count": null,
            "_view_module": "@jupyter-widgets/controls",
            "_view_module_version": "1.5.0",
            "_view_name": "HBoxView",
            "box_style": "",
            "children": [
              "IPY_MODEL_fe16656c9ea64d9f9e58f643cb98ab18",
              "IPY_MODEL_038fa3c548894f6c94fd00facf869fe5",
              "IPY_MODEL_50228d3b2c4d4fb4954f75e14c842543"
            ],
            "layout": "IPY_MODEL_8eae083bae2c414980a42ffcc43e28a1"
          }
        },
        "fe16656c9ea64d9f9e58f643cb98ab18": {
          "model_module": "@jupyter-widgets/controls",
          "model_name": "HTMLModel",
          "model_module_version": "1.5.0",
          "state": {
            "_dom_classes": [],
            "_model_module": "@jupyter-widgets/controls",
            "_model_module_version": "1.5.0",
            "_model_name": "HTMLModel",
            "_view_count": null,
            "_view_module": "@jupyter-widgets/controls",
            "_view_module_version": "1.5.0",
            "_view_name": "HTMLView",
            "description": "",
            "description_tooltip": null,
            "layout": "IPY_MODEL_9da27ae2bc4b475890e53c8e537cb262",
            "placeholder": "​",
            "style": "IPY_MODEL_b0493dbd34a541f29e42aa4a2a24ec7e",
            "value": "100%"
          }
        },
        "038fa3c548894f6c94fd00facf869fe5": {
          "model_module": "@jupyter-widgets/controls",
          "model_name": "FloatProgressModel",
          "model_module_version": "1.5.0",
          "state": {
            "_dom_classes": [],
            "_model_module": "@jupyter-widgets/controls",
            "_model_module_version": "1.5.0",
            "_model_name": "FloatProgressModel",
            "_view_count": null,
            "_view_module": "@jupyter-widgets/controls",
            "_view_module_version": "1.5.0",
            "_view_name": "ProgressView",
            "bar_style": "success",
            "description": "",
            "description_tooltip": null,
            "layout": "IPY_MODEL_854429fa5e6648449f999b7b7438cc30",
            "max": 9912422,
            "min": 0,
            "orientation": "horizontal",
            "style": "IPY_MODEL_4083f2668aa14829a9f9b7bac70001a2",
            "value": 9912422
          }
        },
        "50228d3b2c4d4fb4954f75e14c842543": {
          "model_module": "@jupyter-widgets/controls",
          "model_name": "HTMLModel",
          "model_module_version": "1.5.0",
          "state": {
            "_dom_classes": [],
            "_model_module": "@jupyter-widgets/controls",
            "_model_module_version": "1.5.0",
            "_model_name": "HTMLModel",
            "_view_count": null,
            "_view_module": "@jupyter-widgets/controls",
            "_view_module_version": "1.5.0",
            "_view_name": "HTMLView",
            "description": "",
            "description_tooltip": null,
            "layout": "IPY_MODEL_1ed073b3a7a14fce83502c4a67602f8a",
            "placeholder": "​",
            "style": "IPY_MODEL_7984b2b8d1914ebfb9bb9a4ab3cedc03",
            "value": " 9912422/9912422 [00:00&lt;00:00, 51677878.58it/s]"
          }
        },
        "8eae083bae2c414980a42ffcc43e28a1": {
          "model_module": "@jupyter-widgets/base",
          "model_name": "LayoutModel",
          "model_module_version": "1.2.0",
          "state": {
            "_model_module": "@jupyter-widgets/base",
            "_model_module_version": "1.2.0",
            "_model_name": "LayoutModel",
            "_view_count": null,
            "_view_module": "@jupyter-widgets/base",
            "_view_module_version": "1.2.0",
            "_view_name": "LayoutView",
            "align_content": null,
            "align_items": null,
            "align_self": null,
            "border": null,
            "bottom": null,
            "display": null,
            "flex": null,
            "flex_flow": null,
            "grid_area": null,
            "grid_auto_columns": null,
            "grid_auto_flow": null,
            "grid_auto_rows": null,
            "grid_column": null,
            "grid_gap": null,
            "grid_row": null,
            "grid_template_areas": null,
            "grid_template_columns": null,
            "grid_template_rows": null,
            "height": null,
            "justify_content": null,
            "justify_items": null,
            "left": null,
            "margin": null,
            "max_height": null,
            "max_width": null,
            "min_height": null,
            "min_width": null,
            "object_fit": null,
            "object_position": null,
            "order": null,
            "overflow": null,
            "overflow_x": null,
            "overflow_y": null,
            "padding": null,
            "right": null,
            "top": null,
            "visibility": null,
            "width": null
          }
        },
        "9da27ae2bc4b475890e53c8e537cb262": {
          "model_module": "@jupyter-widgets/base",
          "model_name": "LayoutModel",
          "model_module_version": "1.2.0",
          "state": {
            "_model_module": "@jupyter-widgets/base",
            "_model_module_version": "1.2.0",
            "_model_name": "LayoutModel",
            "_view_count": null,
            "_view_module": "@jupyter-widgets/base",
            "_view_module_version": "1.2.0",
            "_view_name": "LayoutView",
            "align_content": null,
            "align_items": null,
            "align_self": null,
            "border": null,
            "bottom": null,
            "display": null,
            "flex": null,
            "flex_flow": null,
            "grid_area": null,
            "grid_auto_columns": null,
            "grid_auto_flow": null,
            "grid_auto_rows": null,
            "grid_column": null,
            "grid_gap": null,
            "grid_row": null,
            "grid_template_areas": null,
            "grid_template_columns": null,
            "grid_template_rows": null,
            "height": null,
            "justify_content": null,
            "justify_items": null,
            "left": null,
            "margin": null,
            "max_height": null,
            "max_width": null,
            "min_height": null,
            "min_width": null,
            "object_fit": null,
            "object_position": null,
            "order": null,
            "overflow": null,
            "overflow_x": null,
            "overflow_y": null,
            "padding": null,
            "right": null,
            "top": null,
            "visibility": null,
            "width": null
          }
        },
        "b0493dbd34a541f29e42aa4a2a24ec7e": {
          "model_module": "@jupyter-widgets/controls",
          "model_name": "DescriptionStyleModel",
          "model_module_version": "1.5.0",
          "state": {
            "_model_module": "@jupyter-widgets/controls",
            "_model_module_version": "1.5.0",
            "_model_name": "DescriptionStyleModel",
            "_view_count": null,
            "_view_module": "@jupyter-widgets/base",
            "_view_module_version": "1.2.0",
            "_view_name": "StyleView",
            "description_width": ""
          }
        },
        "854429fa5e6648449f999b7b7438cc30": {
          "model_module": "@jupyter-widgets/base",
          "model_name": "LayoutModel",
          "model_module_version": "1.2.0",
          "state": {
            "_model_module": "@jupyter-widgets/base",
            "_model_module_version": "1.2.0",
            "_model_name": "LayoutModel",
            "_view_count": null,
            "_view_module": "@jupyter-widgets/base",
            "_view_module_version": "1.2.0",
            "_view_name": "LayoutView",
            "align_content": null,
            "align_items": null,
            "align_self": null,
            "border": null,
            "bottom": null,
            "display": null,
            "flex": null,
            "flex_flow": null,
            "grid_area": null,
            "grid_auto_columns": null,
            "grid_auto_flow": null,
            "grid_auto_rows": null,
            "grid_column": null,
            "grid_gap": null,
            "grid_row": null,
            "grid_template_areas": null,
            "grid_template_columns": null,
            "grid_template_rows": null,
            "height": null,
            "justify_content": null,
            "justify_items": null,
            "left": null,
            "margin": null,
            "max_height": null,
            "max_width": null,
            "min_height": null,
            "min_width": null,
            "object_fit": null,
            "object_position": null,
            "order": null,
            "overflow": null,
            "overflow_x": null,
            "overflow_y": null,
            "padding": null,
            "right": null,
            "top": null,
            "visibility": null,
            "width": null
          }
        },
        "4083f2668aa14829a9f9b7bac70001a2": {
          "model_module": "@jupyter-widgets/controls",
          "model_name": "ProgressStyleModel",
          "model_module_version": "1.5.0",
          "state": {
            "_model_module": "@jupyter-widgets/controls",
            "_model_module_version": "1.5.0",
            "_model_name": "ProgressStyleModel",
            "_view_count": null,
            "_view_module": "@jupyter-widgets/base",
            "_view_module_version": "1.2.0",
            "_view_name": "StyleView",
            "bar_color": null,
            "description_width": ""
          }
        },
        "1ed073b3a7a14fce83502c4a67602f8a": {
          "model_module": "@jupyter-widgets/base",
          "model_name": "LayoutModel",
          "model_module_version": "1.2.0",
          "state": {
            "_model_module": "@jupyter-widgets/base",
            "_model_module_version": "1.2.0",
            "_model_name": "LayoutModel",
            "_view_count": null,
            "_view_module": "@jupyter-widgets/base",
            "_view_module_version": "1.2.0",
            "_view_name": "LayoutView",
            "align_content": null,
            "align_items": null,
            "align_self": null,
            "border": null,
            "bottom": null,
            "display": null,
            "flex": null,
            "flex_flow": null,
            "grid_area": null,
            "grid_auto_columns": null,
            "grid_auto_flow": null,
            "grid_auto_rows": null,
            "grid_column": null,
            "grid_gap": null,
            "grid_row": null,
            "grid_template_areas": null,
            "grid_template_columns": null,
            "grid_template_rows": null,
            "height": null,
            "justify_content": null,
            "justify_items": null,
            "left": null,
            "margin": null,
            "max_height": null,
            "max_width": null,
            "min_height": null,
            "min_width": null,
            "object_fit": null,
            "object_position": null,
            "order": null,
            "overflow": null,
            "overflow_x": null,
            "overflow_y": null,
            "padding": null,
            "right": null,
            "top": null,
            "visibility": null,
            "width": null
          }
        },
        "7984b2b8d1914ebfb9bb9a4ab3cedc03": {
          "model_module": "@jupyter-widgets/controls",
          "model_name": "DescriptionStyleModel",
          "model_module_version": "1.5.0",
          "state": {
            "_model_module": "@jupyter-widgets/controls",
            "_model_module_version": "1.5.0",
            "_model_name": "DescriptionStyleModel",
            "_view_count": null,
            "_view_module": "@jupyter-widgets/base",
            "_view_module_version": "1.2.0",
            "_view_name": "StyleView",
            "description_width": ""
          }
        },
        "4890e4131f8c425e9250d6f58106ae5e": {
          "model_module": "@jupyter-widgets/controls",
          "model_name": "HBoxModel",
          "model_module_version": "1.5.0",
          "state": {
            "_dom_classes": [],
            "_model_module": "@jupyter-widgets/controls",
            "_model_module_version": "1.5.0",
            "_model_name": "HBoxModel",
            "_view_count": null,
            "_view_module": "@jupyter-widgets/controls",
            "_view_module_version": "1.5.0",
            "_view_name": "HBoxView",
            "box_style": "",
            "children": [
              "IPY_MODEL_887f758d075f4c42a3672a5301ab2948",
              "IPY_MODEL_744db4a995d74d0f858f20d9e4c31111",
              "IPY_MODEL_34b215340aa94aa989f971ebf0e13d9b"
            ],
            "layout": "IPY_MODEL_75f84a3f8b0e46aeae6f8c8aab5a0dc7"
          }
        },
        "887f758d075f4c42a3672a5301ab2948": {
          "model_module": "@jupyter-widgets/controls",
          "model_name": "HTMLModel",
          "model_module_version": "1.5.0",
          "state": {
            "_dom_classes": [],
            "_model_module": "@jupyter-widgets/controls",
            "_model_module_version": "1.5.0",
            "_model_name": "HTMLModel",
            "_view_count": null,
            "_view_module": "@jupyter-widgets/controls",
            "_view_module_version": "1.5.0",
            "_view_name": "HTMLView",
            "description": "",
            "description_tooltip": null,
            "layout": "IPY_MODEL_2e504458bff2427c87116eba7442136b",
            "placeholder": "​",
            "style": "IPY_MODEL_6892976a8d1c40bca6b1aa5685e89faa",
            "value": "100%"
          }
        },
        "744db4a995d74d0f858f20d9e4c31111": {
          "model_module": "@jupyter-widgets/controls",
          "model_name": "FloatProgressModel",
          "model_module_version": "1.5.0",
          "state": {
            "_dom_classes": [],
            "_model_module": "@jupyter-widgets/controls",
            "_model_module_version": "1.5.0",
            "_model_name": "FloatProgressModel",
            "_view_count": null,
            "_view_module": "@jupyter-widgets/controls",
            "_view_module_version": "1.5.0",
            "_view_name": "ProgressView",
            "bar_style": "success",
            "description": "",
            "description_tooltip": null,
            "layout": "IPY_MODEL_bcc9a31a574e4640b54593b03e72761e",
            "max": 28881,
            "min": 0,
            "orientation": "horizontal",
            "style": "IPY_MODEL_dac5a486ed2e4401b877948a28760d7a",
            "value": 28881
          }
        },
        "34b215340aa94aa989f971ebf0e13d9b": {
          "model_module": "@jupyter-widgets/controls",
          "model_name": "HTMLModel",
          "model_module_version": "1.5.0",
          "state": {
            "_dom_classes": [],
            "_model_module": "@jupyter-widgets/controls",
            "_model_module_version": "1.5.0",
            "_model_name": "HTMLModel",
            "_view_count": null,
            "_view_module": "@jupyter-widgets/controls",
            "_view_module_version": "1.5.0",
            "_view_name": "HTMLView",
            "description": "",
            "description_tooltip": null,
            "layout": "IPY_MODEL_d86161fa0d3546eaacd61a41d79d464c",
            "placeholder": "​",
            "style": "IPY_MODEL_bcd0233646014e5c81d0f915d2a3c723",
            "value": " 28881/28881 [00:00&lt;00:00, 289724.84it/s]"
          }
        },
        "75f84a3f8b0e46aeae6f8c8aab5a0dc7": {
          "model_module": "@jupyter-widgets/base",
          "model_name": "LayoutModel",
          "model_module_version": "1.2.0",
          "state": {
            "_model_module": "@jupyter-widgets/base",
            "_model_module_version": "1.2.0",
            "_model_name": "LayoutModel",
            "_view_count": null,
            "_view_module": "@jupyter-widgets/base",
            "_view_module_version": "1.2.0",
            "_view_name": "LayoutView",
            "align_content": null,
            "align_items": null,
            "align_self": null,
            "border": null,
            "bottom": null,
            "display": null,
            "flex": null,
            "flex_flow": null,
            "grid_area": null,
            "grid_auto_columns": null,
            "grid_auto_flow": null,
            "grid_auto_rows": null,
            "grid_column": null,
            "grid_gap": null,
            "grid_row": null,
            "grid_template_areas": null,
            "grid_template_columns": null,
            "grid_template_rows": null,
            "height": null,
            "justify_content": null,
            "justify_items": null,
            "left": null,
            "margin": null,
            "max_height": null,
            "max_width": null,
            "min_height": null,
            "min_width": null,
            "object_fit": null,
            "object_position": null,
            "order": null,
            "overflow": null,
            "overflow_x": null,
            "overflow_y": null,
            "padding": null,
            "right": null,
            "top": null,
            "visibility": null,
            "width": null
          }
        },
        "2e504458bff2427c87116eba7442136b": {
          "model_module": "@jupyter-widgets/base",
          "model_name": "LayoutModel",
          "model_module_version": "1.2.0",
          "state": {
            "_model_module": "@jupyter-widgets/base",
            "_model_module_version": "1.2.0",
            "_model_name": "LayoutModel",
            "_view_count": null,
            "_view_module": "@jupyter-widgets/base",
            "_view_module_version": "1.2.0",
            "_view_name": "LayoutView",
            "align_content": null,
            "align_items": null,
            "align_self": null,
            "border": null,
            "bottom": null,
            "display": null,
            "flex": null,
            "flex_flow": null,
            "grid_area": null,
            "grid_auto_columns": null,
            "grid_auto_flow": null,
            "grid_auto_rows": null,
            "grid_column": null,
            "grid_gap": null,
            "grid_row": null,
            "grid_template_areas": null,
            "grid_template_columns": null,
            "grid_template_rows": null,
            "height": null,
            "justify_content": null,
            "justify_items": null,
            "left": null,
            "margin": null,
            "max_height": null,
            "max_width": null,
            "min_height": null,
            "min_width": null,
            "object_fit": null,
            "object_position": null,
            "order": null,
            "overflow": null,
            "overflow_x": null,
            "overflow_y": null,
            "padding": null,
            "right": null,
            "top": null,
            "visibility": null,
            "width": null
          }
        },
        "6892976a8d1c40bca6b1aa5685e89faa": {
          "model_module": "@jupyter-widgets/controls",
          "model_name": "DescriptionStyleModel",
          "model_module_version": "1.5.0",
          "state": {
            "_model_module": "@jupyter-widgets/controls",
            "_model_module_version": "1.5.0",
            "_model_name": "DescriptionStyleModel",
            "_view_count": null,
            "_view_module": "@jupyter-widgets/base",
            "_view_module_version": "1.2.0",
            "_view_name": "StyleView",
            "description_width": ""
          }
        },
        "bcc9a31a574e4640b54593b03e72761e": {
          "model_module": "@jupyter-widgets/base",
          "model_name": "LayoutModel",
          "model_module_version": "1.2.0",
          "state": {
            "_model_module": "@jupyter-widgets/base",
            "_model_module_version": "1.2.0",
            "_model_name": "LayoutModel",
            "_view_count": null,
            "_view_module": "@jupyter-widgets/base",
            "_view_module_version": "1.2.0",
            "_view_name": "LayoutView",
            "align_content": null,
            "align_items": null,
            "align_self": null,
            "border": null,
            "bottom": null,
            "display": null,
            "flex": null,
            "flex_flow": null,
            "grid_area": null,
            "grid_auto_columns": null,
            "grid_auto_flow": null,
            "grid_auto_rows": null,
            "grid_column": null,
            "grid_gap": null,
            "grid_row": null,
            "grid_template_areas": null,
            "grid_template_columns": null,
            "grid_template_rows": null,
            "height": null,
            "justify_content": null,
            "justify_items": null,
            "left": null,
            "margin": null,
            "max_height": null,
            "max_width": null,
            "min_height": null,
            "min_width": null,
            "object_fit": null,
            "object_position": null,
            "order": null,
            "overflow": null,
            "overflow_x": null,
            "overflow_y": null,
            "padding": null,
            "right": null,
            "top": null,
            "visibility": null,
            "width": null
          }
        },
        "dac5a486ed2e4401b877948a28760d7a": {
          "model_module": "@jupyter-widgets/controls",
          "model_name": "ProgressStyleModel",
          "model_module_version": "1.5.0",
          "state": {
            "_model_module": "@jupyter-widgets/controls",
            "_model_module_version": "1.5.0",
            "_model_name": "ProgressStyleModel",
            "_view_count": null,
            "_view_module": "@jupyter-widgets/base",
            "_view_module_version": "1.2.0",
            "_view_name": "StyleView",
            "bar_color": null,
            "description_width": ""
          }
        },
        "d86161fa0d3546eaacd61a41d79d464c": {
          "model_module": "@jupyter-widgets/base",
          "model_name": "LayoutModel",
          "model_module_version": "1.2.0",
          "state": {
            "_model_module": "@jupyter-widgets/base",
            "_model_module_version": "1.2.0",
            "_model_name": "LayoutModel",
            "_view_count": null,
            "_view_module": "@jupyter-widgets/base",
            "_view_module_version": "1.2.0",
            "_view_name": "LayoutView",
            "align_content": null,
            "align_items": null,
            "align_self": null,
            "border": null,
            "bottom": null,
            "display": null,
            "flex": null,
            "flex_flow": null,
            "grid_area": null,
            "grid_auto_columns": null,
            "grid_auto_flow": null,
            "grid_auto_rows": null,
            "grid_column": null,
            "grid_gap": null,
            "grid_row": null,
            "grid_template_areas": null,
            "grid_template_columns": null,
            "grid_template_rows": null,
            "height": null,
            "justify_content": null,
            "justify_items": null,
            "left": null,
            "margin": null,
            "max_height": null,
            "max_width": null,
            "min_height": null,
            "min_width": null,
            "object_fit": null,
            "object_position": null,
            "order": null,
            "overflow": null,
            "overflow_x": null,
            "overflow_y": null,
            "padding": null,
            "right": null,
            "top": null,
            "visibility": null,
            "width": null
          }
        },
        "bcd0233646014e5c81d0f915d2a3c723": {
          "model_module": "@jupyter-widgets/controls",
          "model_name": "DescriptionStyleModel",
          "model_module_version": "1.5.0",
          "state": {
            "_model_module": "@jupyter-widgets/controls",
            "_model_module_version": "1.5.0",
            "_model_name": "DescriptionStyleModel",
            "_view_count": null,
            "_view_module": "@jupyter-widgets/base",
            "_view_module_version": "1.2.0",
            "_view_name": "StyleView",
            "description_width": ""
          }
        },
        "0d49fa010f89410a92b32f5c7abdc9a0": {
          "model_module": "@jupyter-widgets/controls",
          "model_name": "HBoxModel",
          "model_module_version": "1.5.0",
          "state": {
            "_dom_classes": [],
            "_model_module": "@jupyter-widgets/controls",
            "_model_module_version": "1.5.0",
            "_model_name": "HBoxModel",
            "_view_count": null,
            "_view_module": "@jupyter-widgets/controls",
            "_view_module_version": "1.5.0",
            "_view_name": "HBoxView",
            "box_style": "",
            "children": [
              "IPY_MODEL_62010083c74d458d96d99060dc58eae2",
              "IPY_MODEL_6901998d251a40f0b42f9dcddae9f7e6",
              "IPY_MODEL_eabe4a12312e4c889215008d3281bcc0"
            ],
            "layout": "IPY_MODEL_0f544770b05a4a0cbb8b6ef36bc88c1e"
          }
        },
        "62010083c74d458d96d99060dc58eae2": {
          "model_module": "@jupyter-widgets/controls",
          "model_name": "HTMLModel",
          "model_module_version": "1.5.0",
          "state": {
            "_dom_classes": [],
            "_model_module": "@jupyter-widgets/controls",
            "_model_module_version": "1.5.0",
            "_model_name": "HTMLModel",
            "_view_count": null,
            "_view_module": "@jupyter-widgets/controls",
            "_view_module_version": "1.5.0",
            "_view_name": "HTMLView",
            "description": "",
            "description_tooltip": null,
            "layout": "IPY_MODEL_2f345b992e094986a1c3a09f676e6f52",
            "placeholder": "​",
            "style": "IPY_MODEL_900830b05ccc4221b54f72598b05d50c",
            "value": "100%"
          }
        },
        "6901998d251a40f0b42f9dcddae9f7e6": {
          "model_module": "@jupyter-widgets/controls",
          "model_name": "FloatProgressModel",
          "model_module_version": "1.5.0",
          "state": {
            "_dom_classes": [],
            "_model_module": "@jupyter-widgets/controls",
            "_model_module_version": "1.5.0",
            "_model_name": "FloatProgressModel",
            "_view_count": null,
            "_view_module": "@jupyter-widgets/controls",
            "_view_module_version": "1.5.0",
            "_view_name": "ProgressView",
            "bar_style": "success",
            "description": "",
            "description_tooltip": null,
            "layout": "IPY_MODEL_a2c8ed92111648c49db101a7b5cfd0aa",
            "max": 1648877,
            "min": 0,
            "orientation": "horizontal",
            "style": "IPY_MODEL_01915ba459374967903b3dbc9a8be294",
            "value": 1648877
          }
        },
        "eabe4a12312e4c889215008d3281bcc0": {
          "model_module": "@jupyter-widgets/controls",
          "model_name": "HTMLModel",
          "model_module_version": "1.5.0",
          "state": {
            "_dom_classes": [],
            "_model_module": "@jupyter-widgets/controls",
            "_model_module_version": "1.5.0",
            "_model_name": "HTMLModel",
            "_view_count": null,
            "_view_module": "@jupyter-widgets/controls",
            "_view_module_version": "1.5.0",
            "_view_name": "HTMLView",
            "description": "",
            "description_tooltip": null,
            "layout": "IPY_MODEL_4de910ebdec845b88f930540b6a162e8",
            "placeholder": "​",
            "style": "IPY_MODEL_c209b03187774792be00a8d9bc38ca61",
            "value": " 1648877/1648877 [00:00&lt;00:00, 46454974.35it/s]"
          }
        },
        "0f544770b05a4a0cbb8b6ef36bc88c1e": {
          "model_module": "@jupyter-widgets/base",
          "model_name": "LayoutModel",
          "model_module_version": "1.2.0",
          "state": {
            "_model_module": "@jupyter-widgets/base",
            "_model_module_version": "1.2.0",
            "_model_name": "LayoutModel",
            "_view_count": null,
            "_view_module": "@jupyter-widgets/base",
            "_view_module_version": "1.2.0",
            "_view_name": "LayoutView",
            "align_content": null,
            "align_items": null,
            "align_self": null,
            "border": null,
            "bottom": null,
            "display": null,
            "flex": null,
            "flex_flow": null,
            "grid_area": null,
            "grid_auto_columns": null,
            "grid_auto_flow": null,
            "grid_auto_rows": null,
            "grid_column": null,
            "grid_gap": null,
            "grid_row": null,
            "grid_template_areas": null,
            "grid_template_columns": null,
            "grid_template_rows": null,
            "height": null,
            "justify_content": null,
            "justify_items": null,
            "left": null,
            "margin": null,
            "max_height": null,
            "max_width": null,
            "min_height": null,
            "min_width": null,
            "object_fit": null,
            "object_position": null,
            "order": null,
            "overflow": null,
            "overflow_x": null,
            "overflow_y": null,
            "padding": null,
            "right": null,
            "top": null,
            "visibility": null,
            "width": null
          }
        },
        "2f345b992e094986a1c3a09f676e6f52": {
          "model_module": "@jupyter-widgets/base",
          "model_name": "LayoutModel",
          "model_module_version": "1.2.0",
          "state": {
            "_model_module": "@jupyter-widgets/base",
            "_model_module_version": "1.2.0",
            "_model_name": "LayoutModel",
            "_view_count": null,
            "_view_module": "@jupyter-widgets/base",
            "_view_module_version": "1.2.0",
            "_view_name": "LayoutView",
            "align_content": null,
            "align_items": null,
            "align_self": null,
            "border": null,
            "bottom": null,
            "display": null,
            "flex": null,
            "flex_flow": null,
            "grid_area": null,
            "grid_auto_columns": null,
            "grid_auto_flow": null,
            "grid_auto_rows": null,
            "grid_column": null,
            "grid_gap": null,
            "grid_row": null,
            "grid_template_areas": null,
            "grid_template_columns": null,
            "grid_template_rows": null,
            "height": null,
            "justify_content": null,
            "justify_items": null,
            "left": null,
            "margin": null,
            "max_height": null,
            "max_width": null,
            "min_height": null,
            "min_width": null,
            "object_fit": null,
            "object_position": null,
            "order": null,
            "overflow": null,
            "overflow_x": null,
            "overflow_y": null,
            "padding": null,
            "right": null,
            "top": null,
            "visibility": null,
            "width": null
          }
        },
        "900830b05ccc4221b54f72598b05d50c": {
          "model_module": "@jupyter-widgets/controls",
          "model_name": "DescriptionStyleModel",
          "model_module_version": "1.5.0",
          "state": {
            "_model_module": "@jupyter-widgets/controls",
            "_model_module_version": "1.5.0",
            "_model_name": "DescriptionStyleModel",
            "_view_count": null,
            "_view_module": "@jupyter-widgets/base",
            "_view_module_version": "1.2.0",
            "_view_name": "StyleView",
            "description_width": ""
          }
        },
        "a2c8ed92111648c49db101a7b5cfd0aa": {
          "model_module": "@jupyter-widgets/base",
          "model_name": "LayoutModel",
          "model_module_version": "1.2.0",
          "state": {
            "_model_module": "@jupyter-widgets/base",
            "_model_module_version": "1.2.0",
            "_model_name": "LayoutModel",
            "_view_count": null,
            "_view_module": "@jupyter-widgets/base",
            "_view_module_version": "1.2.0",
            "_view_name": "LayoutView",
            "align_content": null,
            "align_items": null,
            "align_self": null,
            "border": null,
            "bottom": null,
            "display": null,
            "flex": null,
            "flex_flow": null,
            "grid_area": null,
            "grid_auto_columns": null,
            "grid_auto_flow": null,
            "grid_auto_rows": null,
            "grid_column": null,
            "grid_gap": null,
            "grid_row": null,
            "grid_template_areas": null,
            "grid_template_columns": null,
            "grid_template_rows": null,
            "height": null,
            "justify_content": null,
            "justify_items": null,
            "left": null,
            "margin": null,
            "max_height": null,
            "max_width": null,
            "min_height": null,
            "min_width": null,
            "object_fit": null,
            "object_position": null,
            "order": null,
            "overflow": null,
            "overflow_x": null,
            "overflow_y": null,
            "padding": null,
            "right": null,
            "top": null,
            "visibility": null,
            "width": null
          }
        },
        "01915ba459374967903b3dbc9a8be294": {
          "model_module": "@jupyter-widgets/controls",
          "model_name": "ProgressStyleModel",
          "model_module_version": "1.5.0",
          "state": {
            "_model_module": "@jupyter-widgets/controls",
            "_model_module_version": "1.5.0",
            "_model_name": "ProgressStyleModel",
            "_view_count": null,
            "_view_module": "@jupyter-widgets/base",
            "_view_module_version": "1.2.0",
            "_view_name": "StyleView",
            "bar_color": null,
            "description_width": ""
          }
        },
        "4de910ebdec845b88f930540b6a162e8": {
          "model_module": "@jupyter-widgets/base",
          "model_name": "LayoutModel",
          "model_module_version": "1.2.0",
          "state": {
            "_model_module": "@jupyter-widgets/base",
            "_model_module_version": "1.2.0",
            "_model_name": "LayoutModel",
            "_view_count": null,
            "_view_module": "@jupyter-widgets/base",
            "_view_module_version": "1.2.0",
            "_view_name": "LayoutView",
            "align_content": null,
            "align_items": null,
            "align_self": null,
            "border": null,
            "bottom": null,
            "display": null,
            "flex": null,
            "flex_flow": null,
            "grid_area": null,
            "grid_auto_columns": null,
            "grid_auto_flow": null,
            "grid_auto_rows": null,
            "grid_column": null,
            "grid_gap": null,
            "grid_row": null,
            "grid_template_areas": null,
            "grid_template_columns": null,
            "grid_template_rows": null,
            "height": null,
            "justify_content": null,
            "justify_items": null,
            "left": null,
            "margin": null,
            "max_height": null,
            "max_width": null,
            "min_height": null,
            "min_width": null,
            "object_fit": null,
            "object_position": null,
            "order": null,
            "overflow": null,
            "overflow_x": null,
            "overflow_y": null,
            "padding": null,
            "right": null,
            "top": null,
            "visibility": null,
            "width": null
          }
        },
        "c209b03187774792be00a8d9bc38ca61": {
          "model_module": "@jupyter-widgets/controls",
          "model_name": "DescriptionStyleModel",
          "model_module_version": "1.5.0",
          "state": {
            "_model_module": "@jupyter-widgets/controls",
            "_model_module_version": "1.5.0",
            "_model_name": "DescriptionStyleModel",
            "_view_count": null,
            "_view_module": "@jupyter-widgets/base",
            "_view_module_version": "1.2.0",
            "_view_name": "StyleView",
            "description_width": ""
          }
        },
        "8e5a94a08acb46f2993911ae1f38d609": {
          "model_module": "@jupyter-widgets/controls",
          "model_name": "HBoxModel",
          "model_module_version": "1.5.0",
          "state": {
            "_dom_classes": [],
            "_model_module": "@jupyter-widgets/controls",
            "_model_module_version": "1.5.0",
            "_model_name": "HBoxModel",
            "_view_count": null,
            "_view_module": "@jupyter-widgets/controls",
            "_view_module_version": "1.5.0",
            "_view_name": "HBoxView",
            "box_style": "",
            "children": [
              "IPY_MODEL_dd7b46cca30f484fa76f3242dbe2fb9b",
              "IPY_MODEL_41ef018b05c64bedbc198a1ba89ba214",
              "IPY_MODEL_2b0936874828427080b2a1c03954da95"
            ],
            "layout": "IPY_MODEL_247fa2090cc140a79dcb1acb327cb620"
          }
        },
        "dd7b46cca30f484fa76f3242dbe2fb9b": {
          "model_module": "@jupyter-widgets/controls",
          "model_name": "HTMLModel",
          "model_module_version": "1.5.0",
          "state": {
            "_dom_classes": [],
            "_model_module": "@jupyter-widgets/controls",
            "_model_module_version": "1.5.0",
            "_model_name": "HTMLModel",
            "_view_count": null,
            "_view_module": "@jupyter-widgets/controls",
            "_view_module_version": "1.5.0",
            "_view_name": "HTMLView",
            "description": "",
            "description_tooltip": null,
            "layout": "IPY_MODEL_f1e4249edd1442cfa962738b2f578b3b",
            "placeholder": "​",
            "style": "IPY_MODEL_240d7357daa4401b8d68bf26bdd2cd76",
            "value": "100%"
          }
        },
        "41ef018b05c64bedbc198a1ba89ba214": {
          "model_module": "@jupyter-widgets/controls",
          "model_name": "FloatProgressModel",
          "model_module_version": "1.5.0",
          "state": {
            "_dom_classes": [],
            "_model_module": "@jupyter-widgets/controls",
            "_model_module_version": "1.5.0",
            "_model_name": "FloatProgressModel",
            "_view_count": null,
            "_view_module": "@jupyter-widgets/controls",
            "_view_module_version": "1.5.0",
            "_view_name": "ProgressView",
            "bar_style": "success",
            "description": "",
            "description_tooltip": null,
            "layout": "IPY_MODEL_50519c52d3a64d3f8904014f0166352e",
            "max": 4542,
            "min": 0,
            "orientation": "horizontal",
            "style": "IPY_MODEL_b09aafb728a346d4b740742d2707d525",
            "value": 4542
          }
        },
        "2b0936874828427080b2a1c03954da95": {
          "model_module": "@jupyter-widgets/controls",
          "model_name": "HTMLModel",
          "model_module_version": "1.5.0",
          "state": {
            "_dom_classes": [],
            "_model_module": "@jupyter-widgets/controls",
            "_model_module_version": "1.5.0",
            "_model_name": "HTMLModel",
            "_view_count": null,
            "_view_module": "@jupyter-widgets/controls",
            "_view_module_version": "1.5.0",
            "_view_name": "HTMLView",
            "description": "",
            "description_tooltip": null,
            "layout": "IPY_MODEL_5ce973331b864004962e681d06afb59f",
            "placeholder": "​",
            "style": "IPY_MODEL_259c3616d8a24a6d8294be96d9a3e17d",
            "value": " 4542/4542 [00:00&lt;00:00, 143430.10it/s]"
          }
        },
        "247fa2090cc140a79dcb1acb327cb620": {
          "model_module": "@jupyter-widgets/base",
          "model_name": "LayoutModel",
          "model_module_version": "1.2.0",
          "state": {
            "_model_module": "@jupyter-widgets/base",
            "_model_module_version": "1.2.0",
            "_model_name": "LayoutModel",
            "_view_count": null,
            "_view_module": "@jupyter-widgets/base",
            "_view_module_version": "1.2.0",
            "_view_name": "LayoutView",
            "align_content": null,
            "align_items": null,
            "align_self": null,
            "border": null,
            "bottom": null,
            "display": null,
            "flex": null,
            "flex_flow": null,
            "grid_area": null,
            "grid_auto_columns": null,
            "grid_auto_flow": null,
            "grid_auto_rows": null,
            "grid_column": null,
            "grid_gap": null,
            "grid_row": null,
            "grid_template_areas": null,
            "grid_template_columns": null,
            "grid_template_rows": null,
            "height": null,
            "justify_content": null,
            "justify_items": null,
            "left": null,
            "margin": null,
            "max_height": null,
            "max_width": null,
            "min_height": null,
            "min_width": null,
            "object_fit": null,
            "object_position": null,
            "order": null,
            "overflow": null,
            "overflow_x": null,
            "overflow_y": null,
            "padding": null,
            "right": null,
            "top": null,
            "visibility": null,
            "width": null
          }
        },
        "f1e4249edd1442cfa962738b2f578b3b": {
          "model_module": "@jupyter-widgets/base",
          "model_name": "LayoutModel",
          "model_module_version": "1.2.0",
          "state": {
            "_model_module": "@jupyter-widgets/base",
            "_model_module_version": "1.2.0",
            "_model_name": "LayoutModel",
            "_view_count": null,
            "_view_module": "@jupyter-widgets/base",
            "_view_module_version": "1.2.0",
            "_view_name": "LayoutView",
            "align_content": null,
            "align_items": null,
            "align_self": null,
            "border": null,
            "bottom": null,
            "display": null,
            "flex": null,
            "flex_flow": null,
            "grid_area": null,
            "grid_auto_columns": null,
            "grid_auto_flow": null,
            "grid_auto_rows": null,
            "grid_column": null,
            "grid_gap": null,
            "grid_row": null,
            "grid_template_areas": null,
            "grid_template_columns": null,
            "grid_template_rows": null,
            "height": null,
            "justify_content": null,
            "justify_items": null,
            "left": null,
            "margin": null,
            "max_height": null,
            "max_width": null,
            "min_height": null,
            "min_width": null,
            "object_fit": null,
            "object_position": null,
            "order": null,
            "overflow": null,
            "overflow_x": null,
            "overflow_y": null,
            "padding": null,
            "right": null,
            "top": null,
            "visibility": null,
            "width": null
          }
        },
        "240d7357daa4401b8d68bf26bdd2cd76": {
          "model_module": "@jupyter-widgets/controls",
          "model_name": "DescriptionStyleModel",
          "model_module_version": "1.5.0",
          "state": {
            "_model_module": "@jupyter-widgets/controls",
            "_model_module_version": "1.5.0",
            "_model_name": "DescriptionStyleModel",
            "_view_count": null,
            "_view_module": "@jupyter-widgets/base",
            "_view_module_version": "1.2.0",
            "_view_name": "StyleView",
            "description_width": ""
          }
        },
        "50519c52d3a64d3f8904014f0166352e": {
          "model_module": "@jupyter-widgets/base",
          "model_name": "LayoutModel",
          "model_module_version": "1.2.0",
          "state": {
            "_model_module": "@jupyter-widgets/base",
            "_model_module_version": "1.2.0",
            "_model_name": "LayoutModel",
            "_view_count": null,
            "_view_module": "@jupyter-widgets/base",
            "_view_module_version": "1.2.0",
            "_view_name": "LayoutView",
            "align_content": null,
            "align_items": null,
            "align_self": null,
            "border": null,
            "bottom": null,
            "display": null,
            "flex": null,
            "flex_flow": null,
            "grid_area": null,
            "grid_auto_columns": null,
            "grid_auto_flow": null,
            "grid_auto_rows": null,
            "grid_column": null,
            "grid_gap": null,
            "grid_row": null,
            "grid_template_areas": null,
            "grid_template_columns": null,
            "grid_template_rows": null,
            "height": null,
            "justify_content": null,
            "justify_items": null,
            "left": null,
            "margin": null,
            "max_height": null,
            "max_width": null,
            "min_height": null,
            "min_width": null,
            "object_fit": null,
            "object_position": null,
            "order": null,
            "overflow": null,
            "overflow_x": null,
            "overflow_y": null,
            "padding": null,
            "right": null,
            "top": null,
            "visibility": null,
            "width": null
          }
        },
        "b09aafb728a346d4b740742d2707d525": {
          "model_module": "@jupyter-widgets/controls",
          "model_name": "ProgressStyleModel",
          "model_module_version": "1.5.0",
          "state": {
            "_model_module": "@jupyter-widgets/controls",
            "_model_module_version": "1.5.0",
            "_model_name": "ProgressStyleModel",
            "_view_count": null,
            "_view_module": "@jupyter-widgets/base",
            "_view_module_version": "1.2.0",
            "_view_name": "StyleView",
            "bar_color": null,
            "description_width": ""
          }
        },
        "5ce973331b864004962e681d06afb59f": {
          "model_module": "@jupyter-widgets/base",
          "model_name": "LayoutModel",
          "model_module_version": "1.2.0",
          "state": {
            "_model_module": "@jupyter-widgets/base",
            "_model_module_version": "1.2.0",
            "_model_name": "LayoutModel",
            "_view_count": null,
            "_view_module": "@jupyter-widgets/base",
            "_view_module_version": "1.2.0",
            "_view_name": "LayoutView",
            "align_content": null,
            "align_items": null,
            "align_self": null,
            "border": null,
            "bottom": null,
            "display": null,
            "flex": null,
            "flex_flow": null,
            "grid_area": null,
            "grid_auto_columns": null,
            "grid_auto_flow": null,
            "grid_auto_rows": null,
            "grid_column": null,
            "grid_gap": null,
            "grid_row": null,
            "grid_template_areas": null,
            "grid_template_columns": null,
            "grid_template_rows": null,
            "height": null,
            "justify_content": null,
            "justify_items": null,
            "left": null,
            "margin": null,
            "max_height": null,
            "max_width": null,
            "min_height": null,
            "min_width": null,
            "object_fit": null,
            "object_position": null,
            "order": null,
            "overflow": null,
            "overflow_x": null,
            "overflow_y": null,
            "padding": null,
            "right": null,
            "top": null,
            "visibility": null,
            "width": null
          }
        },
        "259c3616d8a24a6d8294be96d9a3e17d": {
          "model_module": "@jupyter-widgets/controls",
          "model_name": "DescriptionStyleModel",
          "model_module_version": "1.5.0",
          "state": {
            "_model_module": "@jupyter-widgets/controls",
            "_model_module_version": "1.5.0",
            "_model_name": "DescriptionStyleModel",
            "_view_count": null,
            "_view_module": "@jupyter-widgets/base",
            "_view_module_version": "1.2.0",
            "_view_name": "StyleView",
            "description_width": ""
          }
        },
        "264f9368ede14e1f84c4963330f4c057": {
          "model_module": "@jupyter-widgets/controls",
          "model_name": "HBoxModel",
          "model_module_version": "1.5.0",
          "state": {
            "_dom_classes": [],
            "_model_module": "@jupyter-widgets/controls",
            "_model_module_version": "1.5.0",
            "_model_name": "HBoxModel",
            "_view_count": null,
            "_view_module": "@jupyter-widgets/controls",
            "_view_module_version": "1.5.0",
            "_view_name": "HBoxView",
            "box_style": "",
            "children": [
              "IPY_MODEL_df5657d1998f4dc08f94f403daf13a2f",
              "IPY_MODEL_08f2d168194f44de86b31fa9f811164a",
              "IPY_MODEL_4ec8c6ccf2314cecbe10a8b765eca4ab"
            ],
            "layout": "IPY_MODEL_796ce684792e4c79a817511fae1c4a56"
          }
        },
        "df5657d1998f4dc08f94f403daf13a2f": {
          "model_module": "@jupyter-widgets/controls",
          "model_name": "HTMLModel",
          "model_module_version": "1.5.0",
          "state": {
            "_dom_classes": [],
            "_model_module": "@jupyter-widgets/controls",
            "_model_module_version": "1.5.0",
            "_model_name": "HTMLModel",
            "_view_count": null,
            "_view_module": "@jupyter-widgets/controls",
            "_view_module_version": "1.5.0",
            "_view_name": "HTMLView",
            "description": "",
            "description_tooltip": null,
            "layout": "IPY_MODEL_29f9c1cd32734f7283722e104408e6b7",
            "placeholder": "​",
            "style": "IPY_MODEL_8b413eea333b4d869286b20aadadefb6",
            "value": "100%"
          }
        },
        "08f2d168194f44de86b31fa9f811164a": {
          "model_module": "@jupyter-widgets/controls",
          "model_name": "FloatProgressModel",
          "model_module_version": "1.5.0",
          "state": {
            "_dom_classes": [],
            "_model_module": "@jupyter-widgets/controls",
            "_model_module_version": "1.5.0",
            "_model_name": "FloatProgressModel",
            "_view_count": null,
            "_view_module": "@jupyter-widgets/controls",
            "_view_module_version": "1.5.0",
            "_view_name": "ProgressView",
            "bar_style": "success",
            "description": "",
            "description_tooltip": null,
            "layout": "IPY_MODEL_d6abd7ca86c641af8afc0f45ac878571",
            "max": 9912422,
            "min": 0,
            "orientation": "horizontal",
            "style": "IPY_MODEL_5005c1b2995a4543b65afff9a6cc45c7",
            "value": 9912422
          }
        },
        "4ec8c6ccf2314cecbe10a8b765eca4ab": {
          "model_module": "@jupyter-widgets/controls",
          "model_name": "HTMLModel",
          "model_module_version": "1.5.0",
          "state": {
            "_dom_classes": [],
            "_model_module": "@jupyter-widgets/controls",
            "_model_module_version": "1.5.0",
            "_model_name": "HTMLModel",
            "_view_count": null,
            "_view_module": "@jupyter-widgets/controls",
            "_view_module_version": "1.5.0",
            "_view_name": "HTMLView",
            "description": "",
            "description_tooltip": null,
            "layout": "IPY_MODEL_78187c53ad5e4e1a91a59b16b86c2330",
            "placeholder": "​",
            "style": "IPY_MODEL_ecbe42a87b474a28acbbd64be69fb950",
            "value": " 9912422/9912422 [00:00&lt;00:00, 127744850.33it/s]"
          }
        },
        "796ce684792e4c79a817511fae1c4a56": {
          "model_module": "@jupyter-widgets/base",
          "model_name": "LayoutModel",
          "model_module_version": "1.2.0",
          "state": {
            "_model_module": "@jupyter-widgets/base",
            "_model_module_version": "1.2.0",
            "_model_name": "LayoutModel",
            "_view_count": null,
            "_view_module": "@jupyter-widgets/base",
            "_view_module_version": "1.2.0",
            "_view_name": "LayoutView",
            "align_content": null,
            "align_items": null,
            "align_self": null,
            "border": null,
            "bottom": null,
            "display": null,
            "flex": null,
            "flex_flow": null,
            "grid_area": null,
            "grid_auto_columns": null,
            "grid_auto_flow": null,
            "grid_auto_rows": null,
            "grid_column": null,
            "grid_gap": null,
            "grid_row": null,
            "grid_template_areas": null,
            "grid_template_columns": null,
            "grid_template_rows": null,
            "height": null,
            "justify_content": null,
            "justify_items": null,
            "left": null,
            "margin": null,
            "max_height": null,
            "max_width": null,
            "min_height": null,
            "min_width": null,
            "object_fit": null,
            "object_position": null,
            "order": null,
            "overflow": null,
            "overflow_x": null,
            "overflow_y": null,
            "padding": null,
            "right": null,
            "top": null,
            "visibility": null,
            "width": null
          }
        },
        "29f9c1cd32734f7283722e104408e6b7": {
          "model_module": "@jupyter-widgets/base",
          "model_name": "LayoutModel",
          "model_module_version": "1.2.0",
          "state": {
            "_model_module": "@jupyter-widgets/base",
            "_model_module_version": "1.2.0",
            "_model_name": "LayoutModel",
            "_view_count": null,
            "_view_module": "@jupyter-widgets/base",
            "_view_module_version": "1.2.0",
            "_view_name": "LayoutView",
            "align_content": null,
            "align_items": null,
            "align_self": null,
            "border": null,
            "bottom": null,
            "display": null,
            "flex": null,
            "flex_flow": null,
            "grid_area": null,
            "grid_auto_columns": null,
            "grid_auto_flow": null,
            "grid_auto_rows": null,
            "grid_column": null,
            "grid_gap": null,
            "grid_row": null,
            "grid_template_areas": null,
            "grid_template_columns": null,
            "grid_template_rows": null,
            "height": null,
            "justify_content": null,
            "justify_items": null,
            "left": null,
            "margin": null,
            "max_height": null,
            "max_width": null,
            "min_height": null,
            "min_width": null,
            "object_fit": null,
            "object_position": null,
            "order": null,
            "overflow": null,
            "overflow_x": null,
            "overflow_y": null,
            "padding": null,
            "right": null,
            "top": null,
            "visibility": null,
            "width": null
          }
        },
        "8b413eea333b4d869286b20aadadefb6": {
          "model_module": "@jupyter-widgets/controls",
          "model_name": "DescriptionStyleModel",
          "model_module_version": "1.5.0",
          "state": {
            "_model_module": "@jupyter-widgets/controls",
            "_model_module_version": "1.5.0",
            "_model_name": "DescriptionStyleModel",
            "_view_count": null,
            "_view_module": "@jupyter-widgets/base",
            "_view_module_version": "1.2.0",
            "_view_name": "StyleView",
            "description_width": ""
          }
        },
        "d6abd7ca86c641af8afc0f45ac878571": {
          "model_module": "@jupyter-widgets/base",
          "model_name": "LayoutModel",
          "model_module_version": "1.2.0",
          "state": {
            "_model_module": "@jupyter-widgets/base",
            "_model_module_version": "1.2.0",
            "_model_name": "LayoutModel",
            "_view_count": null,
            "_view_module": "@jupyter-widgets/base",
            "_view_module_version": "1.2.0",
            "_view_name": "LayoutView",
            "align_content": null,
            "align_items": null,
            "align_self": null,
            "border": null,
            "bottom": null,
            "display": null,
            "flex": null,
            "flex_flow": null,
            "grid_area": null,
            "grid_auto_columns": null,
            "grid_auto_flow": null,
            "grid_auto_rows": null,
            "grid_column": null,
            "grid_gap": null,
            "grid_row": null,
            "grid_template_areas": null,
            "grid_template_columns": null,
            "grid_template_rows": null,
            "height": null,
            "justify_content": null,
            "justify_items": null,
            "left": null,
            "margin": null,
            "max_height": null,
            "max_width": null,
            "min_height": null,
            "min_width": null,
            "object_fit": null,
            "object_position": null,
            "order": null,
            "overflow": null,
            "overflow_x": null,
            "overflow_y": null,
            "padding": null,
            "right": null,
            "top": null,
            "visibility": null,
            "width": null
          }
        },
        "5005c1b2995a4543b65afff9a6cc45c7": {
          "model_module": "@jupyter-widgets/controls",
          "model_name": "ProgressStyleModel",
          "model_module_version": "1.5.0",
          "state": {
            "_model_module": "@jupyter-widgets/controls",
            "_model_module_version": "1.5.0",
            "_model_name": "ProgressStyleModel",
            "_view_count": null,
            "_view_module": "@jupyter-widgets/base",
            "_view_module_version": "1.2.0",
            "_view_name": "StyleView",
            "bar_color": null,
            "description_width": ""
          }
        },
        "78187c53ad5e4e1a91a59b16b86c2330": {
          "model_module": "@jupyter-widgets/base",
          "model_name": "LayoutModel",
          "model_module_version": "1.2.0",
          "state": {
            "_model_module": "@jupyter-widgets/base",
            "_model_module_version": "1.2.0",
            "_model_name": "LayoutModel",
            "_view_count": null,
            "_view_module": "@jupyter-widgets/base",
            "_view_module_version": "1.2.0",
            "_view_name": "LayoutView",
            "align_content": null,
            "align_items": null,
            "align_self": null,
            "border": null,
            "bottom": null,
            "display": null,
            "flex": null,
            "flex_flow": null,
            "grid_area": null,
            "grid_auto_columns": null,
            "grid_auto_flow": null,
            "grid_auto_rows": null,
            "grid_column": null,
            "grid_gap": null,
            "grid_row": null,
            "grid_template_areas": null,
            "grid_template_columns": null,
            "grid_template_rows": null,
            "height": null,
            "justify_content": null,
            "justify_items": null,
            "left": null,
            "margin": null,
            "max_height": null,
            "max_width": null,
            "min_height": null,
            "min_width": null,
            "object_fit": null,
            "object_position": null,
            "order": null,
            "overflow": null,
            "overflow_x": null,
            "overflow_y": null,
            "padding": null,
            "right": null,
            "top": null,
            "visibility": null,
            "width": null
          }
        },
        "ecbe42a87b474a28acbbd64be69fb950": {
          "model_module": "@jupyter-widgets/controls",
          "model_name": "DescriptionStyleModel",
          "model_module_version": "1.5.0",
          "state": {
            "_model_module": "@jupyter-widgets/controls",
            "_model_module_version": "1.5.0",
            "_model_name": "DescriptionStyleModel",
            "_view_count": null,
            "_view_module": "@jupyter-widgets/base",
            "_view_module_version": "1.2.0",
            "_view_name": "StyleView",
            "description_width": ""
          }
        },
        "18214587543246fb91c5037ba3b3763f": {
          "model_module": "@jupyter-widgets/controls",
          "model_name": "HBoxModel",
          "model_module_version": "1.5.0",
          "state": {
            "_dom_classes": [],
            "_model_module": "@jupyter-widgets/controls",
            "_model_module_version": "1.5.0",
            "_model_name": "HBoxModel",
            "_view_count": null,
            "_view_module": "@jupyter-widgets/controls",
            "_view_module_version": "1.5.0",
            "_view_name": "HBoxView",
            "box_style": "",
            "children": [
              "IPY_MODEL_1da042a614384d909d5a903b406c4ce0",
              "IPY_MODEL_0b57920086d94142969ce6fd6021b3f3",
              "IPY_MODEL_a205e4183627406e9f2857f2e092cb17"
            ],
            "layout": "IPY_MODEL_c7a95af9e92046818bcacdbbeba4b36e"
          }
        },
        "1da042a614384d909d5a903b406c4ce0": {
          "model_module": "@jupyter-widgets/controls",
          "model_name": "HTMLModel",
          "model_module_version": "1.5.0",
          "state": {
            "_dom_classes": [],
            "_model_module": "@jupyter-widgets/controls",
            "_model_module_version": "1.5.0",
            "_model_name": "HTMLModel",
            "_view_count": null,
            "_view_module": "@jupyter-widgets/controls",
            "_view_module_version": "1.5.0",
            "_view_name": "HTMLView",
            "description": "",
            "description_tooltip": null,
            "layout": "IPY_MODEL_d8e2d472f3274e65b67b069e52290e5b",
            "placeholder": "​",
            "style": "IPY_MODEL_861fdabc42e94901b53455e040f52c51",
            "value": "100%"
          }
        },
        "0b57920086d94142969ce6fd6021b3f3": {
          "model_module": "@jupyter-widgets/controls",
          "model_name": "FloatProgressModel",
          "model_module_version": "1.5.0",
          "state": {
            "_dom_classes": [],
            "_model_module": "@jupyter-widgets/controls",
            "_model_module_version": "1.5.0",
            "_model_name": "FloatProgressModel",
            "_view_count": null,
            "_view_module": "@jupyter-widgets/controls",
            "_view_module_version": "1.5.0",
            "_view_name": "ProgressView",
            "bar_style": "success",
            "description": "",
            "description_tooltip": null,
            "layout": "IPY_MODEL_9b187cff82e04af98d4b7d9130a6c3fc",
            "max": 28881,
            "min": 0,
            "orientation": "horizontal",
            "style": "IPY_MODEL_3b1593b26d6e4b82856dcebb74b66526",
            "value": 28881
          }
        },
        "a205e4183627406e9f2857f2e092cb17": {
          "model_module": "@jupyter-widgets/controls",
          "model_name": "HTMLModel",
          "model_module_version": "1.5.0",
          "state": {
            "_dom_classes": [],
            "_model_module": "@jupyter-widgets/controls",
            "_model_module_version": "1.5.0",
            "_model_name": "HTMLModel",
            "_view_count": null,
            "_view_module": "@jupyter-widgets/controls",
            "_view_module_version": "1.5.0",
            "_view_name": "HTMLView",
            "description": "",
            "description_tooltip": null,
            "layout": "IPY_MODEL_8e12299768604058ac796bd05147937b",
            "placeholder": "​",
            "style": "IPY_MODEL_d5a5faf486fb4ab8a43a550c3949a646",
            "value": " 28881/28881 [00:00&lt;00:00, 848865.78it/s]"
          }
        },
        "c7a95af9e92046818bcacdbbeba4b36e": {
          "model_module": "@jupyter-widgets/base",
          "model_name": "LayoutModel",
          "model_module_version": "1.2.0",
          "state": {
            "_model_module": "@jupyter-widgets/base",
            "_model_module_version": "1.2.0",
            "_model_name": "LayoutModel",
            "_view_count": null,
            "_view_module": "@jupyter-widgets/base",
            "_view_module_version": "1.2.0",
            "_view_name": "LayoutView",
            "align_content": null,
            "align_items": null,
            "align_self": null,
            "border": null,
            "bottom": null,
            "display": null,
            "flex": null,
            "flex_flow": null,
            "grid_area": null,
            "grid_auto_columns": null,
            "grid_auto_flow": null,
            "grid_auto_rows": null,
            "grid_column": null,
            "grid_gap": null,
            "grid_row": null,
            "grid_template_areas": null,
            "grid_template_columns": null,
            "grid_template_rows": null,
            "height": null,
            "justify_content": null,
            "justify_items": null,
            "left": null,
            "margin": null,
            "max_height": null,
            "max_width": null,
            "min_height": null,
            "min_width": null,
            "object_fit": null,
            "object_position": null,
            "order": null,
            "overflow": null,
            "overflow_x": null,
            "overflow_y": null,
            "padding": null,
            "right": null,
            "top": null,
            "visibility": null,
            "width": null
          }
        },
        "d8e2d472f3274e65b67b069e52290e5b": {
          "model_module": "@jupyter-widgets/base",
          "model_name": "LayoutModel",
          "model_module_version": "1.2.0",
          "state": {
            "_model_module": "@jupyter-widgets/base",
            "_model_module_version": "1.2.0",
            "_model_name": "LayoutModel",
            "_view_count": null,
            "_view_module": "@jupyter-widgets/base",
            "_view_module_version": "1.2.0",
            "_view_name": "LayoutView",
            "align_content": null,
            "align_items": null,
            "align_self": null,
            "border": null,
            "bottom": null,
            "display": null,
            "flex": null,
            "flex_flow": null,
            "grid_area": null,
            "grid_auto_columns": null,
            "grid_auto_flow": null,
            "grid_auto_rows": null,
            "grid_column": null,
            "grid_gap": null,
            "grid_row": null,
            "grid_template_areas": null,
            "grid_template_columns": null,
            "grid_template_rows": null,
            "height": null,
            "justify_content": null,
            "justify_items": null,
            "left": null,
            "margin": null,
            "max_height": null,
            "max_width": null,
            "min_height": null,
            "min_width": null,
            "object_fit": null,
            "object_position": null,
            "order": null,
            "overflow": null,
            "overflow_x": null,
            "overflow_y": null,
            "padding": null,
            "right": null,
            "top": null,
            "visibility": null,
            "width": null
          }
        },
        "861fdabc42e94901b53455e040f52c51": {
          "model_module": "@jupyter-widgets/controls",
          "model_name": "DescriptionStyleModel",
          "model_module_version": "1.5.0",
          "state": {
            "_model_module": "@jupyter-widgets/controls",
            "_model_module_version": "1.5.0",
            "_model_name": "DescriptionStyleModel",
            "_view_count": null,
            "_view_module": "@jupyter-widgets/base",
            "_view_module_version": "1.2.0",
            "_view_name": "StyleView",
            "description_width": ""
          }
        },
        "9b187cff82e04af98d4b7d9130a6c3fc": {
          "model_module": "@jupyter-widgets/base",
          "model_name": "LayoutModel",
          "model_module_version": "1.2.0",
          "state": {
            "_model_module": "@jupyter-widgets/base",
            "_model_module_version": "1.2.0",
            "_model_name": "LayoutModel",
            "_view_count": null,
            "_view_module": "@jupyter-widgets/base",
            "_view_module_version": "1.2.0",
            "_view_name": "LayoutView",
            "align_content": null,
            "align_items": null,
            "align_self": null,
            "border": null,
            "bottom": null,
            "display": null,
            "flex": null,
            "flex_flow": null,
            "grid_area": null,
            "grid_auto_columns": null,
            "grid_auto_flow": null,
            "grid_auto_rows": null,
            "grid_column": null,
            "grid_gap": null,
            "grid_row": null,
            "grid_template_areas": null,
            "grid_template_columns": null,
            "grid_template_rows": null,
            "height": null,
            "justify_content": null,
            "justify_items": null,
            "left": null,
            "margin": null,
            "max_height": null,
            "max_width": null,
            "min_height": null,
            "min_width": null,
            "object_fit": null,
            "object_position": null,
            "order": null,
            "overflow": null,
            "overflow_x": null,
            "overflow_y": null,
            "padding": null,
            "right": null,
            "top": null,
            "visibility": null,
            "width": null
          }
        },
        "3b1593b26d6e4b82856dcebb74b66526": {
          "model_module": "@jupyter-widgets/controls",
          "model_name": "ProgressStyleModel",
          "model_module_version": "1.5.0",
          "state": {
            "_model_module": "@jupyter-widgets/controls",
            "_model_module_version": "1.5.0",
            "_model_name": "ProgressStyleModel",
            "_view_count": null,
            "_view_module": "@jupyter-widgets/base",
            "_view_module_version": "1.2.0",
            "_view_name": "StyleView",
            "bar_color": null,
            "description_width": ""
          }
        },
        "8e12299768604058ac796bd05147937b": {
          "model_module": "@jupyter-widgets/base",
          "model_name": "LayoutModel",
          "model_module_version": "1.2.0",
          "state": {
            "_model_module": "@jupyter-widgets/base",
            "_model_module_version": "1.2.0",
            "_model_name": "LayoutModel",
            "_view_count": null,
            "_view_module": "@jupyter-widgets/base",
            "_view_module_version": "1.2.0",
            "_view_name": "LayoutView",
            "align_content": null,
            "align_items": null,
            "align_self": null,
            "border": null,
            "bottom": null,
            "display": null,
            "flex": null,
            "flex_flow": null,
            "grid_area": null,
            "grid_auto_columns": null,
            "grid_auto_flow": null,
            "grid_auto_rows": null,
            "grid_column": null,
            "grid_gap": null,
            "grid_row": null,
            "grid_template_areas": null,
            "grid_template_columns": null,
            "grid_template_rows": null,
            "height": null,
            "justify_content": null,
            "justify_items": null,
            "left": null,
            "margin": null,
            "max_height": null,
            "max_width": null,
            "min_height": null,
            "min_width": null,
            "object_fit": null,
            "object_position": null,
            "order": null,
            "overflow": null,
            "overflow_x": null,
            "overflow_y": null,
            "padding": null,
            "right": null,
            "top": null,
            "visibility": null,
            "width": null
          }
        },
        "d5a5faf486fb4ab8a43a550c3949a646": {
          "model_module": "@jupyter-widgets/controls",
          "model_name": "DescriptionStyleModel",
          "model_module_version": "1.5.0",
          "state": {
            "_model_module": "@jupyter-widgets/controls",
            "_model_module_version": "1.5.0",
            "_model_name": "DescriptionStyleModel",
            "_view_count": null,
            "_view_module": "@jupyter-widgets/base",
            "_view_module_version": "1.2.0",
            "_view_name": "StyleView",
            "description_width": ""
          }
        },
        "fe2675fdb00d431fb6055d21f50dcc98": {
          "model_module": "@jupyter-widgets/controls",
          "model_name": "HBoxModel",
          "model_module_version": "1.5.0",
          "state": {
            "_dom_classes": [],
            "_model_module": "@jupyter-widgets/controls",
            "_model_module_version": "1.5.0",
            "_model_name": "HBoxModel",
            "_view_count": null,
            "_view_module": "@jupyter-widgets/controls",
            "_view_module_version": "1.5.0",
            "_view_name": "HBoxView",
            "box_style": "",
            "children": [
              "IPY_MODEL_933010cb6a93489e8791158d25a1293c",
              "IPY_MODEL_8429a4fa530d4cff9563e5d505bcf78c",
              "IPY_MODEL_d9127089277f46008115be774d5f7483"
            ],
            "layout": "IPY_MODEL_b9a7efee81bd450b88358d84560f2eeb"
          }
        },
        "933010cb6a93489e8791158d25a1293c": {
          "model_module": "@jupyter-widgets/controls",
          "model_name": "HTMLModel",
          "model_module_version": "1.5.0",
          "state": {
            "_dom_classes": [],
            "_model_module": "@jupyter-widgets/controls",
            "_model_module_version": "1.5.0",
            "_model_name": "HTMLModel",
            "_view_count": null,
            "_view_module": "@jupyter-widgets/controls",
            "_view_module_version": "1.5.0",
            "_view_name": "HTMLView",
            "description": "",
            "description_tooltip": null,
            "layout": "IPY_MODEL_fa0bfbfdbf944d2b8f1e701cd564a009",
            "placeholder": "​",
            "style": "IPY_MODEL_a221571133a442f582fbcf1fdf000b11",
            "value": "100%"
          }
        },
        "8429a4fa530d4cff9563e5d505bcf78c": {
          "model_module": "@jupyter-widgets/controls",
          "model_name": "FloatProgressModel",
          "model_module_version": "1.5.0",
          "state": {
            "_dom_classes": [],
            "_model_module": "@jupyter-widgets/controls",
            "_model_module_version": "1.5.0",
            "_model_name": "FloatProgressModel",
            "_view_count": null,
            "_view_module": "@jupyter-widgets/controls",
            "_view_module_version": "1.5.0",
            "_view_name": "ProgressView",
            "bar_style": "success",
            "description": "",
            "description_tooltip": null,
            "layout": "IPY_MODEL_5e5ca2ff82794c97ad405f86b3ef1c66",
            "max": 1648877,
            "min": 0,
            "orientation": "horizontal",
            "style": "IPY_MODEL_ab3f54f377164937b8487eb8ffc32a32",
            "value": 1648877
          }
        },
        "d9127089277f46008115be774d5f7483": {
          "model_module": "@jupyter-widgets/controls",
          "model_name": "HTMLModel",
          "model_module_version": "1.5.0",
          "state": {
            "_dom_classes": [],
            "_model_module": "@jupyter-widgets/controls",
            "_model_module_version": "1.5.0",
            "_model_name": "HTMLModel",
            "_view_count": null,
            "_view_module": "@jupyter-widgets/controls",
            "_view_module_version": "1.5.0",
            "_view_name": "HTMLView",
            "description": "",
            "description_tooltip": null,
            "layout": "IPY_MODEL_cd34ca13abf84a7192d68441f0000127",
            "placeholder": "​",
            "style": "IPY_MODEL_d230bfb2145043ec88113a310f8c9b6a",
            "value": " 1648877/1648877 [00:00&lt;00:00, 40137496.86it/s]"
          }
        },
        "b9a7efee81bd450b88358d84560f2eeb": {
          "model_module": "@jupyter-widgets/base",
          "model_name": "LayoutModel",
          "model_module_version": "1.2.0",
          "state": {
            "_model_module": "@jupyter-widgets/base",
            "_model_module_version": "1.2.0",
            "_model_name": "LayoutModel",
            "_view_count": null,
            "_view_module": "@jupyter-widgets/base",
            "_view_module_version": "1.2.0",
            "_view_name": "LayoutView",
            "align_content": null,
            "align_items": null,
            "align_self": null,
            "border": null,
            "bottom": null,
            "display": null,
            "flex": null,
            "flex_flow": null,
            "grid_area": null,
            "grid_auto_columns": null,
            "grid_auto_flow": null,
            "grid_auto_rows": null,
            "grid_column": null,
            "grid_gap": null,
            "grid_row": null,
            "grid_template_areas": null,
            "grid_template_columns": null,
            "grid_template_rows": null,
            "height": null,
            "justify_content": null,
            "justify_items": null,
            "left": null,
            "margin": null,
            "max_height": null,
            "max_width": null,
            "min_height": null,
            "min_width": null,
            "object_fit": null,
            "object_position": null,
            "order": null,
            "overflow": null,
            "overflow_x": null,
            "overflow_y": null,
            "padding": null,
            "right": null,
            "top": null,
            "visibility": null,
            "width": null
          }
        },
        "fa0bfbfdbf944d2b8f1e701cd564a009": {
          "model_module": "@jupyter-widgets/base",
          "model_name": "LayoutModel",
          "model_module_version": "1.2.0",
          "state": {
            "_model_module": "@jupyter-widgets/base",
            "_model_module_version": "1.2.0",
            "_model_name": "LayoutModel",
            "_view_count": null,
            "_view_module": "@jupyter-widgets/base",
            "_view_module_version": "1.2.0",
            "_view_name": "LayoutView",
            "align_content": null,
            "align_items": null,
            "align_self": null,
            "border": null,
            "bottom": null,
            "display": null,
            "flex": null,
            "flex_flow": null,
            "grid_area": null,
            "grid_auto_columns": null,
            "grid_auto_flow": null,
            "grid_auto_rows": null,
            "grid_column": null,
            "grid_gap": null,
            "grid_row": null,
            "grid_template_areas": null,
            "grid_template_columns": null,
            "grid_template_rows": null,
            "height": null,
            "justify_content": null,
            "justify_items": null,
            "left": null,
            "margin": null,
            "max_height": null,
            "max_width": null,
            "min_height": null,
            "min_width": null,
            "object_fit": null,
            "object_position": null,
            "order": null,
            "overflow": null,
            "overflow_x": null,
            "overflow_y": null,
            "padding": null,
            "right": null,
            "top": null,
            "visibility": null,
            "width": null
          }
        },
        "a221571133a442f582fbcf1fdf000b11": {
          "model_module": "@jupyter-widgets/controls",
          "model_name": "DescriptionStyleModel",
          "model_module_version": "1.5.0",
          "state": {
            "_model_module": "@jupyter-widgets/controls",
            "_model_module_version": "1.5.0",
            "_model_name": "DescriptionStyleModel",
            "_view_count": null,
            "_view_module": "@jupyter-widgets/base",
            "_view_module_version": "1.2.0",
            "_view_name": "StyleView",
            "description_width": ""
          }
        },
        "5e5ca2ff82794c97ad405f86b3ef1c66": {
          "model_module": "@jupyter-widgets/base",
          "model_name": "LayoutModel",
          "model_module_version": "1.2.0",
          "state": {
            "_model_module": "@jupyter-widgets/base",
            "_model_module_version": "1.2.0",
            "_model_name": "LayoutModel",
            "_view_count": null,
            "_view_module": "@jupyter-widgets/base",
            "_view_module_version": "1.2.0",
            "_view_name": "LayoutView",
            "align_content": null,
            "align_items": null,
            "align_self": null,
            "border": null,
            "bottom": null,
            "display": null,
            "flex": null,
            "flex_flow": null,
            "grid_area": null,
            "grid_auto_columns": null,
            "grid_auto_flow": null,
            "grid_auto_rows": null,
            "grid_column": null,
            "grid_gap": null,
            "grid_row": null,
            "grid_template_areas": null,
            "grid_template_columns": null,
            "grid_template_rows": null,
            "height": null,
            "justify_content": null,
            "justify_items": null,
            "left": null,
            "margin": null,
            "max_height": null,
            "max_width": null,
            "min_height": null,
            "min_width": null,
            "object_fit": null,
            "object_position": null,
            "order": null,
            "overflow": null,
            "overflow_x": null,
            "overflow_y": null,
            "padding": null,
            "right": null,
            "top": null,
            "visibility": null,
            "width": null
          }
        },
        "ab3f54f377164937b8487eb8ffc32a32": {
          "model_module": "@jupyter-widgets/controls",
          "model_name": "ProgressStyleModel",
          "model_module_version": "1.5.0",
          "state": {
            "_model_module": "@jupyter-widgets/controls",
            "_model_module_version": "1.5.0",
            "_model_name": "ProgressStyleModel",
            "_view_count": null,
            "_view_module": "@jupyter-widgets/base",
            "_view_module_version": "1.2.0",
            "_view_name": "StyleView",
            "bar_color": null,
            "description_width": ""
          }
        },
        "cd34ca13abf84a7192d68441f0000127": {
          "model_module": "@jupyter-widgets/base",
          "model_name": "LayoutModel",
          "model_module_version": "1.2.0",
          "state": {
            "_model_module": "@jupyter-widgets/base",
            "_model_module_version": "1.2.0",
            "_model_name": "LayoutModel",
            "_view_count": null,
            "_view_module": "@jupyter-widgets/base",
            "_view_module_version": "1.2.0",
            "_view_name": "LayoutView",
            "align_content": null,
            "align_items": null,
            "align_self": null,
            "border": null,
            "bottom": null,
            "display": null,
            "flex": null,
            "flex_flow": null,
            "grid_area": null,
            "grid_auto_columns": null,
            "grid_auto_flow": null,
            "grid_auto_rows": null,
            "grid_column": null,
            "grid_gap": null,
            "grid_row": null,
            "grid_template_areas": null,
            "grid_template_columns": null,
            "grid_template_rows": null,
            "height": null,
            "justify_content": null,
            "justify_items": null,
            "left": null,
            "margin": null,
            "max_height": null,
            "max_width": null,
            "min_height": null,
            "min_width": null,
            "object_fit": null,
            "object_position": null,
            "order": null,
            "overflow": null,
            "overflow_x": null,
            "overflow_y": null,
            "padding": null,
            "right": null,
            "top": null,
            "visibility": null,
            "width": null
          }
        },
        "d230bfb2145043ec88113a310f8c9b6a": {
          "model_module": "@jupyter-widgets/controls",
          "model_name": "DescriptionStyleModel",
          "model_module_version": "1.5.0",
          "state": {
            "_model_module": "@jupyter-widgets/controls",
            "_model_module_version": "1.5.0",
            "_model_name": "DescriptionStyleModel",
            "_view_count": null,
            "_view_module": "@jupyter-widgets/base",
            "_view_module_version": "1.2.0",
            "_view_name": "StyleView",
            "description_width": ""
          }
        },
        "aa84343dd3ce499bbb5a751e1791cd4f": {
          "model_module": "@jupyter-widgets/controls",
          "model_name": "HBoxModel",
          "model_module_version": "1.5.0",
          "state": {
            "_dom_classes": [],
            "_model_module": "@jupyter-widgets/controls",
            "_model_module_version": "1.5.0",
            "_model_name": "HBoxModel",
            "_view_count": null,
            "_view_module": "@jupyter-widgets/controls",
            "_view_module_version": "1.5.0",
            "_view_name": "HBoxView",
            "box_style": "",
            "children": [
              "IPY_MODEL_f69b95b714c543f3b2bad3c201a35841",
              "IPY_MODEL_14dcb47600dd478b9309f15c6b9b8132",
              "IPY_MODEL_a381110f0bcc4e3aa17dbb2755dc4373"
            ],
            "layout": "IPY_MODEL_6353cd45f7be47bfaa9259246f306104"
          }
        },
        "f69b95b714c543f3b2bad3c201a35841": {
          "model_module": "@jupyter-widgets/controls",
          "model_name": "HTMLModel",
          "model_module_version": "1.5.0",
          "state": {
            "_dom_classes": [],
            "_model_module": "@jupyter-widgets/controls",
            "_model_module_version": "1.5.0",
            "_model_name": "HTMLModel",
            "_view_count": null,
            "_view_module": "@jupyter-widgets/controls",
            "_view_module_version": "1.5.0",
            "_view_name": "HTMLView",
            "description": "",
            "description_tooltip": null,
            "layout": "IPY_MODEL_7eb6c1cd18164647a665ee14a206d595",
            "placeholder": "​",
            "style": "IPY_MODEL_29f9facd17264d6888c7325174cbb854",
            "value": "100%"
          }
        },
        "14dcb47600dd478b9309f15c6b9b8132": {
          "model_module": "@jupyter-widgets/controls",
          "model_name": "FloatProgressModel",
          "model_module_version": "1.5.0",
          "state": {
            "_dom_classes": [],
            "_model_module": "@jupyter-widgets/controls",
            "_model_module_version": "1.5.0",
            "_model_name": "FloatProgressModel",
            "_view_count": null,
            "_view_module": "@jupyter-widgets/controls",
            "_view_module_version": "1.5.0",
            "_view_name": "ProgressView",
            "bar_style": "success",
            "description": "",
            "description_tooltip": null,
            "layout": "IPY_MODEL_113915dd40d74dafae13abeac842424e",
            "max": 4542,
            "min": 0,
            "orientation": "horizontal",
            "style": "IPY_MODEL_988bcd46ca294da4b61ab7617d6fd5c5",
            "value": 4542
          }
        },
        "a381110f0bcc4e3aa17dbb2755dc4373": {
          "model_module": "@jupyter-widgets/controls",
          "model_name": "HTMLModel",
          "model_module_version": "1.5.0",
          "state": {
            "_dom_classes": [],
            "_model_module": "@jupyter-widgets/controls",
            "_model_module_version": "1.5.0",
            "_model_name": "HTMLModel",
            "_view_count": null,
            "_view_module": "@jupyter-widgets/controls",
            "_view_module_version": "1.5.0",
            "_view_name": "HTMLView",
            "description": "",
            "description_tooltip": null,
            "layout": "IPY_MODEL_08aa9bfad83b4803adac9e249ebc6a6a",
            "placeholder": "​",
            "style": "IPY_MODEL_1a67f00ef88742a2a4986deb6527c529",
            "value": " 4542/4542 [00:00&lt;00:00, 154004.65it/s]"
          }
        },
        "6353cd45f7be47bfaa9259246f306104": {
          "model_module": "@jupyter-widgets/base",
          "model_name": "LayoutModel",
          "model_module_version": "1.2.0",
          "state": {
            "_model_module": "@jupyter-widgets/base",
            "_model_module_version": "1.2.0",
            "_model_name": "LayoutModel",
            "_view_count": null,
            "_view_module": "@jupyter-widgets/base",
            "_view_module_version": "1.2.0",
            "_view_name": "LayoutView",
            "align_content": null,
            "align_items": null,
            "align_self": null,
            "border": null,
            "bottom": null,
            "display": null,
            "flex": null,
            "flex_flow": null,
            "grid_area": null,
            "grid_auto_columns": null,
            "grid_auto_flow": null,
            "grid_auto_rows": null,
            "grid_column": null,
            "grid_gap": null,
            "grid_row": null,
            "grid_template_areas": null,
            "grid_template_columns": null,
            "grid_template_rows": null,
            "height": null,
            "justify_content": null,
            "justify_items": null,
            "left": null,
            "margin": null,
            "max_height": null,
            "max_width": null,
            "min_height": null,
            "min_width": null,
            "object_fit": null,
            "object_position": null,
            "order": null,
            "overflow": null,
            "overflow_x": null,
            "overflow_y": null,
            "padding": null,
            "right": null,
            "top": null,
            "visibility": null,
            "width": null
          }
        },
        "7eb6c1cd18164647a665ee14a206d595": {
          "model_module": "@jupyter-widgets/base",
          "model_name": "LayoutModel",
          "model_module_version": "1.2.0",
          "state": {
            "_model_module": "@jupyter-widgets/base",
            "_model_module_version": "1.2.0",
            "_model_name": "LayoutModel",
            "_view_count": null,
            "_view_module": "@jupyter-widgets/base",
            "_view_module_version": "1.2.0",
            "_view_name": "LayoutView",
            "align_content": null,
            "align_items": null,
            "align_self": null,
            "border": null,
            "bottom": null,
            "display": null,
            "flex": null,
            "flex_flow": null,
            "grid_area": null,
            "grid_auto_columns": null,
            "grid_auto_flow": null,
            "grid_auto_rows": null,
            "grid_column": null,
            "grid_gap": null,
            "grid_row": null,
            "grid_template_areas": null,
            "grid_template_columns": null,
            "grid_template_rows": null,
            "height": null,
            "justify_content": null,
            "justify_items": null,
            "left": null,
            "margin": null,
            "max_height": null,
            "max_width": null,
            "min_height": null,
            "min_width": null,
            "object_fit": null,
            "object_position": null,
            "order": null,
            "overflow": null,
            "overflow_x": null,
            "overflow_y": null,
            "padding": null,
            "right": null,
            "top": null,
            "visibility": null,
            "width": null
          }
        },
        "29f9facd17264d6888c7325174cbb854": {
          "model_module": "@jupyter-widgets/controls",
          "model_name": "DescriptionStyleModel",
          "model_module_version": "1.5.0",
          "state": {
            "_model_module": "@jupyter-widgets/controls",
            "_model_module_version": "1.5.0",
            "_model_name": "DescriptionStyleModel",
            "_view_count": null,
            "_view_module": "@jupyter-widgets/base",
            "_view_module_version": "1.2.0",
            "_view_name": "StyleView",
            "description_width": ""
          }
        },
        "113915dd40d74dafae13abeac842424e": {
          "model_module": "@jupyter-widgets/base",
          "model_name": "LayoutModel",
          "model_module_version": "1.2.0",
          "state": {
            "_model_module": "@jupyter-widgets/base",
            "_model_module_version": "1.2.0",
            "_model_name": "LayoutModel",
            "_view_count": null,
            "_view_module": "@jupyter-widgets/base",
            "_view_module_version": "1.2.0",
            "_view_name": "LayoutView",
            "align_content": null,
            "align_items": null,
            "align_self": null,
            "border": null,
            "bottom": null,
            "display": null,
            "flex": null,
            "flex_flow": null,
            "grid_area": null,
            "grid_auto_columns": null,
            "grid_auto_flow": null,
            "grid_auto_rows": null,
            "grid_column": null,
            "grid_gap": null,
            "grid_row": null,
            "grid_template_areas": null,
            "grid_template_columns": null,
            "grid_template_rows": null,
            "height": null,
            "justify_content": null,
            "justify_items": null,
            "left": null,
            "margin": null,
            "max_height": null,
            "max_width": null,
            "min_height": null,
            "min_width": null,
            "object_fit": null,
            "object_position": null,
            "order": null,
            "overflow": null,
            "overflow_x": null,
            "overflow_y": null,
            "padding": null,
            "right": null,
            "top": null,
            "visibility": null,
            "width": null
          }
        },
        "988bcd46ca294da4b61ab7617d6fd5c5": {
          "model_module": "@jupyter-widgets/controls",
          "model_name": "ProgressStyleModel",
          "model_module_version": "1.5.0",
          "state": {
            "_model_module": "@jupyter-widgets/controls",
            "_model_module_version": "1.5.0",
            "_model_name": "ProgressStyleModel",
            "_view_count": null,
            "_view_module": "@jupyter-widgets/base",
            "_view_module_version": "1.2.0",
            "_view_name": "StyleView",
            "bar_color": null,
            "description_width": ""
          }
        },
        "08aa9bfad83b4803adac9e249ebc6a6a": {
          "model_module": "@jupyter-widgets/base",
          "model_name": "LayoutModel",
          "model_module_version": "1.2.0",
          "state": {
            "_model_module": "@jupyter-widgets/base",
            "_model_module_version": "1.2.0",
            "_model_name": "LayoutModel",
            "_view_count": null,
            "_view_module": "@jupyter-widgets/base",
            "_view_module_version": "1.2.0",
            "_view_name": "LayoutView",
            "align_content": null,
            "align_items": null,
            "align_self": null,
            "border": null,
            "bottom": null,
            "display": null,
            "flex": null,
            "flex_flow": null,
            "grid_area": null,
            "grid_auto_columns": null,
            "grid_auto_flow": null,
            "grid_auto_rows": null,
            "grid_column": null,
            "grid_gap": null,
            "grid_row": null,
            "grid_template_areas": null,
            "grid_template_columns": null,
            "grid_template_rows": null,
            "height": null,
            "justify_content": null,
            "justify_items": null,
            "left": null,
            "margin": null,
            "max_height": null,
            "max_width": null,
            "min_height": null,
            "min_width": null,
            "object_fit": null,
            "object_position": null,
            "order": null,
            "overflow": null,
            "overflow_x": null,
            "overflow_y": null,
            "padding": null,
            "right": null,
            "top": null,
            "visibility": null,
            "width": null
          }
        },
        "1a67f00ef88742a2a4986deb6527c529": {
          "model_module": "@jupyter-widgets/controls",
          "model_name": "DescriptionStyleModel",
          "model_module_version": "1.5.0",
          "state": {
            "_model_module": "@jupyter-widgets/controls",
            "_model_module_version": "1.5.0",
            "_model_name": "DescriptionStyleModel",
            "_view_count": null,
            "_view_module": "@jupyter-widgets/base",
            "_view_module_version": "1.2.0",
            "_view_name": "StyleView",
            "description_width": ""
          }
        }
      }
    },
    "accelerator": "GPU",
    "gpuClass": "standard"
  },
  "cells": [
    {
      "cell_type": "markdown",
      "source": [
        "Imports"
      ],
      "metadata": {
        "id": "B0d7Y0fsga5p"
      }
    },
    {
      "cell_type": "code",
      "execution_count": 1,
      "metadata": {
        "id": "M77oMfwzgTpU"
      },
      "outputs": [],
      "source": [
        "import torch\n",
        "import numpy as np\n",
        "import argparse\n",
        "import torch.nn as nn\n",
        "import torch.nn.functional as F\n",
        "import re\n",
        "import torch.optim as optim\n",
        "import torch.nn.init as initialization\n",
        "from torch.autograd import Variable\n",
        "from torchvision import datasets, transforms\n",
        "from torch.utils.data import DataLoader\n",
        "import matplotlib.pyplot as plt\n",
        "from itertools import product as cartesian_prod\n",
        "import random"
      ]
    },
    {
      "cell_type": "markdown",
      "source": [
        "Constants and Hyperparameters"
      ],
      "metadata": {
        "id": "xM_aPVHjgjr-"
      }
    },
    {
      "cell_type": "code",
      "source": [
        "device = torch.device('cuda' if torch.cuda.is_available() else 'cpu')\n",
        "device"
      ],
      "metadata": {
        "id": "5U9ERwydhUMe",
        "colab": {
          "base_uri": "https://localhost:8080/"
        },
        "outputId": "0d9c7538-8d46-49e1-8f76-a99d14d12e0a"
      },
      "execution_count": 2,
      "outputs": [
        {
          "output_type": "execute_result",
          "data": {
            "text/plain": [
              "device(type='cuda')"
            ]
          },
          "metadata": {},
          "execution_count": 2
        }
      ]
    },
    {
      "cell_type": "code",
      "source": [
        "# Use the Negative Log Likelihood Loss function on the outputs after log_softmax activation\n",
        "lossFn = nn.NLLLoss()"
      ],
      "metadata": {
        "id": "HEgHOKcCggfW"
      },
      "execution_count": 3,
      "outputs": []
    },
    {
      "cell_type": "code",
      "source": [
        "args={}\n",
        "kwargs={}\n",
        "\n",
        "args['input_size'] = 784  #Number of features in the input image(of size 28x28)\n",
        "args['depth'] = 4  #Number of layers in the neural network\n",
        "args['width']=64  #Number of neurons in each hidden layer\n",
        "args['batch_size']=32  #Number of samples in each batch\n",
        "args['epochs']=30  #The number of Epochs is the number of times you go through the full dataset. \n",
        "args['lr']=5e-5  #Learning rate is how fast it will decend. \n",
        "args['eps']=1e-7  #Epsilon value for Adam\n",
        "args['classes']=10\n",
        "\n",
        "args['cuda']=False  #Use GPU or not"
      ],
      "metadata": {
        "id": "MfhE63E0goKH"
      },
      "execution_count": 4,
      "outputs": []
    },
    {
      "cell_type": "code",
      "source": [
        "eps, beta = 0.1, 4"
      ],
      "metadata": {
        "id": "ROwyWoVmhErY"
      },
      "execution_count": 5,
      "outputs": []
    },
    {
      "cell_type": "markdown",
      "source": [
        "Load the dataset"
      ],
      "metadata": {
        "id": "U_quuSWEgqWV"
      }
    },
    {
      "cell_type": "code",
      "source": [
        "#load the train data and validation data, and normalize it\n",
        "\n",
        "mnist_transforms=[\n",
        "    transforms.ToTensor(),\n",
        "    transforms.Normalize((0.1307,), (0.3081,))\n",
        "     ]\n",
        "\n",
        "train_loader = DataLoader(\n",
        "    datasets.MNIST('../data', train=True, download=True,\n",
        "                   transform=transforms.Compose(mnist_transforms)),\n",
        "    batch_size=args['batch_size'], shuffle=True, **kwargs)\n",
        "\n",
        "validation_loader = DataLoader(\n",
        "    datasets.MNIST('../data', train=False, transform=transforms.Compose(mnist_transforms)),\n",
        "    batch_size=args['batch_size'], shuffle=True, **kwargs)\n"
      ],
      "metadata": {
        "id": "rbENtn9BgsQH",
        "colab": {
          "base_uri": "https://localhost:8080/",
          "height": 437,
          "referenced_widgets": [
            "f9048ea2b3b94f2f8e920b9c8bf46244",
            "fe16656c9ea64d9f9e58f643cb98ab18",
            "038fa3c548894f6c94fd00facf869fe5",
            "50228d3b2c4d4fb4954f75e14c842543",
            "8eae083bae2c414980a42ffcc43e28a1",
            "9da27ae2bc4b475890e53c8e537cb262",
            "b0493dbd34a541f29e42aa4a2a24ec7e",
            "854429fa5e6648449f999b7b7438cc30",
            "4083f2668aa14829a9f9b7bac70001a2",
            "1ed073b3a7a14fce83502c4a67602f8a",
            "7984b2b8d1914ebfb9bb9a4ab3cedc03",
            "4890e4131f8c425e9250d6f58106ae5e",
            "887f758d075f4c42a3672a5301ab2948",
            "744db4a995d74d0f858f20d9e4c31111",
            "34b215340aa94aa989f971ebf0e13d9b",
            "75f84a3f8b0e46aeae6f8c8aab5a0dc7",
            "2e504458bff2427c87116eba7442136b",
            "6892976a8d1c40bca6b1aa5685e89faa",
            "bcc9a31a574e4640b54593b03e72761e",
            "dac5a486ed2e4401b877948a28760d7a",
            "d86161fa0d3546eaacd61a41d79d464c",
            "bcd0233646014e5c81d0f915d2a3c723",
            "0d49fa010f89410a92b32f5c7abdc9a0",
            "62010083c74d458d96d99060dc58eae2",
            "6901998d251a40f0b42f9dcddae9f7e6",
            "eabe4a12312e4c889215008d3281bcc0",
            "0f544770b05a4a0cbb8b6ef36bc88c1e",
            "2f345b992e094986a1c3a09f676e6f52",
            "900830b05ccc4221b54f72598b05d50c",
            "a2c8ed92111648c49db101a7b5cfd0aa",
            "01915ba459374967903b3dbc9a8be294",
            "4de910ebdec845b88f930540b6a162e8",
            "c209b03187774792be00a8d9bc38ca61",
            "8e5a94a08acb46f2993911ae1f38d609",
            "dd7b46cca30f484fa76f3242dbe2fb9b",
            "41ef018b05c64bedbc198a1ba89ba214",
            "2b0936874828427080b2a1c03954da95",
            "247fa2090cc140a79dcb1acb327cb620",
            "f1e4249edd1442cfa962738b2f578b3b",
            "240d7357daa4401b8d68bf26bdd2cd76",
            "50519c52d3a64d3f8904014f0166352e",
            "b09aafb728a346d4b740742d2707d525",
            "5ce973331b864004962e681d06afb59f",
            "259c3616d8a24a6d8294be96d9a3e17d"
          ]
        },
        "outputId": "85905ef3-d6bd-4f21-a7e1-c5e9769d7137"
      },
      "execution_count": 6,
      "outputs": [
        {
          "output_type": "stream",
          "name": "stdout",
          "text": [
            "Downloading http://yann.lecun.com/exdb/mnist/train-images-idx3-ubyte.gz\n",
            "Downloading http://yann.lecun.com/exdb/mnist/train-images-idx3-ubyte.gz to ../data/MNIST/raw/train-images-idx3-ubyte.gz\n"
          ]
        },
        {
          "output_type": "display_data",
          "data": {
            "text/plain": [
              "  0%|          | 0/9912422 [00:00<?, ?it/s]"
            ],
            "application/vnd.jupyter.widget-view+json": {
              "version_major": 2,
              "version_minor": 0,
              "model_id": "f9048ea2b3b94f2f8e920b9c8bf46244"
            }
          },
          "metadata": {}
        },
        {
          "output_type": "stream",
          "name": "stdout",
          "text": [
            "Extracting ../data/MNIST/raw/train-images-idx3-ubyte.gz to ../data/MNIST/raw\n",
            "\n",
            "Downloading http://yann.lecun.com/exdb/mnist/train-labels-idx1-ubyte.gz\n",
            "Downloading http://yann.lecun.com/exdb/mnist/train-labels-idx1-ubyte.gz to ../data/MNIST/raw/train-labels-idx1-ubyte.gz\n"
          ]
        },
        {
          "output_type": "display_data",
          "data": {
            "text/plain": [
              "  0%|          | 0/28881 [00:00<?, ?it/s]"
            ],
            "application/vnd.jupyter.widget-view+json": {
              "version_major": 2,
              "version_minor": 0,
              "model_id": "4890e4131f8c425e9250d6f58106ae5e"
            }
          },
          "metadata": {}
        },
        {
          "output_type": "stream",
          "name": "stdout",
          "text": [
            "Extracting ../data/MNIST/raw/train-labels-idx1-ubyte.gz to ../data/MNIST/raw\n",
            "\n",
            "Downloading http://yann.lecun.com/exdb/mnist/t10k-images-idx3-ubyte.gz\n",
            "Downloading http://yann.lecun.com/exdb/mnist/t10k-images-idx3-ubyte.gz to ../data/MNIST/raw/t10k-images-idx3-ubyte.gz\n"
          ]
        },
        {
          "output_type": "display_data",
          "data": {
            "text/plain": [
              "  0%|          | 0/1648877 [00:00<?, ?it/s]"
            ],
            "application/vnd.jupyter.widget-view+json": {
              "version_major": 2,
              "version_minor": 0,
              "model_id": "0d49fa010f89410a92b32f5c7abdc9a0"
            }
          },
          "metadata": {}
        },
        {
          "output_type": "stream",
          "name": "stdout",
          "text": [
            "Extracting ../data/MNIST/raw/t10k-images-idx3-ubyte.gz to ../data/MNIST/raw\n",
            "\n",
            "Downloading http://yann.lecun.com/exdb/mnist/t10k-labels-idx1-ubyte.gz\n",
            "Downloading http://yann.lecun.com/exdb/mnist/t10k-labels-idx1-ubyte.gz to ../data/MNIST/raw/t10k-labels-idx1-ubyte.gz\n"
          ]
        },
        {
          "output_type": "display_data",
          "data": {
            "text/plain": [
              "  0%|          | 0/4542 [00:00<?, ?it/s]"
            ],
            "application/vnd.jupyter.widget-view+json": {
              "version_major": 2,
              "version_minor": 0,
              "model_id": "8e5a94a08acb46f2993911ae1f38d609"
            }
          },
          "metadata": {}
        },
        {
          "output_type": "stream",
          "name": "stdout",
          "text": [
            "Extracting ../data/MNIST/raw/t10k-labels-idx1-ubyte.gz to ../data/MNIST/raw\n",
            "\n"
          ]
        }
      ]
    },
    {
      "cell_type": "markdown",
      "source": [
        "Train and validation functions"
      ],
      "metadata": {
        "id": "h4bo2ouKgwoE"
      }
    },
    {
      "cell_type": "code",
      "source": [
        "def train(model, epoch, train_loader, lossFn, optimizer):\n",
        "  model.train()\n",
        "  loss = 0\n",
        "  net_loss = 0\n",
        "  correct = 0\n",
        "  \n",
        "  for batch_idx, (data, target) in enumerate(train_loader):\n",
        "      if args['cuda']:\n",
        "          data, target = data.cuda(), target.cuda()\n",
        "      \n",
        "      #Reshape the input image to 1D vector\n",
        "      data = data.reshape(-1, 28*28).to(device)\n",
        "      target = target.to(device)\n",
        "\n",
        "      #This will zero out the gradients for this batch. \n",
        "      optimizer.zero_grad()\n",
        "\n",
        "      #Run the model on the train data\n",
        "      output = model(data)\n",
        "      \n",
        "      # Calculate the loss\n",
        "      loss = lossFn(output, target)\n",
        "      net_loss += loss.data\n",
        "\n",
        "      #dloss/dx for every Variable \n",
        "      loss.backward()\n",
        "\n",
        "      #to do a one-step update on our parameter.\n",
        "      optimizer.step()\n",
        "\n",
        "      pred = output.data.max(1, keepdim=True)[1]  #get the index of the max log-probability which is the predicted class\n",
        "\n",
        "      correct += pred.eq(target.data.view_as(pred)).long().cpu().sum()\n",
        "\n",
        "      \n",
        "  #Print out the loss\n",
        "  print('Train Epoch: {} \\tLoss: {:.6f}, Accuracy: {}/{} ({:.0f}%)'.format(\n",
        "          epoch, net_loss/len(train_loader.dataset), correct, len(train_loader.dataset),\n",
        "      100. * correct / len(train_loader.dataset)))\n",
        "\n",
        "def validate(model, validation_loader, lossFn):\n",
        "\n",
        "  model.eval()\n",
        "  validation_loss = 0\n",
        "  correct = 0\n",
        "\n",
        "  # since we're not training, we don't need to calculate the gradients for our outputs\n",
        "  with torch.no_grad():\n",
        "    for data, target in validation_loader:\n",
        "      if args['cuda']:\n",
        "          data, target = data.cuda(), target.cuda()\n",
        "\n",
        "      #Reshape the input image to 1D vector\n",
        "      data = data.reshape(-1, 28*28).to(device)\n",
        "      target = target.to(device)\n",
        "\n",
        "      #Run the model on the validation data and get its predictions\n",
        "      output = model(data)\n",
        "\n",
        "      #Calculate the loss\n",
        "      validation_loss += lossFn(output, target).data.item()  #sum up batch loss\n",
        "\n",
        "      pred = output.data.max(1, keepdim=True)[1]  #get the index of the max log-probability which is the predicted class\n",
        "\n",
        "      correct += pred.eq(target.data.view_as(pred)).long().cpu().sum()  #find the number of correct predictions\n",
        "\n",
        "  print('\\nValidation set: Average loss: {:.4f}, Accuracy: {}/{} ({:.0f}%)\\n'.format(\n",
        "      validation_loss/len(validation_loader.dataset), correct, len(validation_loader.dataset),\n",
        "      100. * correct / len(validation_loader.dataset)))"
      ],
      "metadata": {
        "id": "5eJ4S4NXgwwW"
      },
      "execution_count": null,
      "outputs": []
    },
    {
      "cell_type": "markdown",
      "source": [
        "DLGN "
      ],
      "metadata": {
        "id": "Hq_QGSyyg9ut"
      }
    },
    {
      "cell_type": "code",
      "source": [
        "#Class implementing the soft ReLU activation function\n",
        "class SoftGate(nn.Module):\n",
        "    def __init__(self, **kwargs):\n",
        "        super(SoftGate, self).__init__()\n",
        "\n",
        "    def build(self, input_shape):\n",
        "        super(SoftGate, self).build(input_shape)  \n",
        "\n",
        "    def forward(self, x):\n",
        "        activation = (1 + eps)*F.sigmoid(beta*x)\n",
        "        return activation\n",
        "\n",
        "    def compute_output_shape(self, input_shape):\n",
        "        return input_shape\n"
      ],
      "metadata": {
        "id": "XkWRYxr_g_5u"
      },
      "execution_count": 7,
      "outputs": []
    },
    {
      "cell_type": "code",
      "source": [
        "class GaluConstantNPVWithNPFBias(nn.Module):\n",
        "  def __init__(self, depth, width, classes, input_size):\n",
        "\n",
        "    super(GaluConstantNPVWithNPFBias, self).__init__()\n",
        "\n",
        "    self.depth = depth\n",
        "    self.width = width\n",
        "\n",
        "    setattr(self,'NPF_L1', nn.Linear(input_size, width))  #NPF network's layer 1\n",
        "\n",
        "    setattr(self,'NPV_L1', nn.Linear(input_size, width, bias=False))\n",
        "\n",
        "    for i in range(depth - 2):\n",
        "      setattr(self,'NPF_L{}'.format(i+2), nn.Linear(width, width))\n",
        "\n",
        "      setattr(self,'NPV_L{}'.format(i+2), nn.Linear(width, width, bias=False))\n",
        "\n",
        "    setattr(self,'NPV_L{}'.format(depth), nn.Linear(width, classes, bias=False))\n",
        "      \n",
        "  def forward(self, x):\n",
        "    Zf = getattr(self,'NPF_L1')(x)  #Linear activations(So Qf = Zf) of layer 1 of NPF network\n",
        "    G = SoftGate()(Zf)  #Gating values\n",
        "\n",
        "    Qv = getattr(self,'NPV_L1')(torch.Tensor(np.ones(x.shape)))  #Pre-activations of layer 1 of NPV network with constant input\n",
        "    Zv = torch.mul(G, Qv)  #Gating value(from NPF) times Pre-Activations of layer 1 of NPV network is the Activations for layer 1 of NPV network\n",
        "\n",
        "    # Repeat the above computations for all the hidden layers\n",
        "    for i in range(self.depth-2):\n",
        "      Zf = getattr(self,'NPF_L{}'.format(i+2))(Zf)\n",
        "      G = SoftGate()(Zf)\n",
        "\n",
        "      Qv = getattr(self,'NPV_L{}'.format(i+2))(Zv)\n",
        "      Zv = torch.mul(G, Qv)\n",
        "\n",
        "    Q_out = getattr(self,'NPV_L{}'.format(self.depth))(Zv)\n",
        "    Z_out = F.log_softmax(Q_out)\n",
        "\n",
        "    return Q_out, Z_out"
      ],
      "metadata": {
        "id": "jhT_LJYPiNpX"
      },
      "execution_count": 8,
      "outputs": []
    },
    {
      "cell_type": "code",
      "source": [
        "decoupled_const_NPV_model_with_NPF_bias = GaluConstantNPVWithNPFBias(args['depth'], args['width'], args['classes'], args['input_size'])\n",
        "print(decoupled_const_NPV_model_with_NPF_bias)\n",
        "print()"
      ],
      "metadata": {
        "colab": {
          "base_uri": "https://localhost:8080/"
        },
        "id": "qN4Zj0Ceif0f",
        "outputId": "f3dcabf5-b1b3-4a3a-9e56-08a8e57faa74"
      },
      "execution_count": null,
      "outputs": [
        {
          "output_type": "stream",
          "name": "stdout",
          "text": [
            "GaluConstantNPVWithNPFBias(\n",
            "  (NPF_L1): Linear(in_features=784, out_features=64, bias=True)\n",
            "  (NPV_L1): Linear(in_features=784, out_features=64, bias=False)\n",
            "  (NPF_L2): Linear(in_features=64, out_features=64, bias=True)\n",
            "  (NPV_L2): Linear(in_features=64, out_features=64, bias=False)\n",
            "  (NPF_L3): Linear(in_features=64, out_features=64, bias=True)\n",
            "  (NPV_L3): Linear(in_features=64, out_features=64, bias=False)\n",
            "  (NPV_L4): Linear(in_features=64, out_features=10, bias=False)\n",
            ")\n",
            "\n"
          ]
        }
      ]
    },
    {
      "cell_type": "code",
      "source": [
        "if args['cuda']:\n",
        "    decoupled_const_NPV_model_with_NPF_bias.cuda()\n",
        "\n",
        "optimizer = optim.Adam(decoupled_const_NPV_model_with_NPF_bias.parameters(), lr=args['lr'], eps=args['eps'])\n",
        "\n",
        "for epoch in range(1, args['epochs'] + 1):\n",
        "    train(decoupled_const_NPV_model_with_NPF_bias, epoch, train_loader, lossFn, optimizer)\n",
        "    validate(decoupled_const_NPV_model_with_NPF_bias, validation_loader, lossFn)"
      ],
      "metadata": {
        "colab": {
          "base_uri": "https://localhost:8080/"
        },
        "id": "5sp_FScF41sN",
        "outputId": "59d43d13-9aa0-4c97-c221-8040873438e4"
      },
      "execution_count": null,
      "outputs": [
        {
          "output_type": "stream",
          "name": "stderr",
          "text": [
            "/usr/local/lib/python3.7/dist-packages/torch/nn/functional.py:1960: UserWarning: nn.functional.sigmoid is deprecated. Use torch.sigmoid instead.\n",
            "  warnings.warn(\"nn.functional.sigmoid is deprecated. Use torch.sigmoid instead.\")\n",
            "/usr/local/lib/python3.7/dist-packages/ipykernel_launcher.py:35: UserWarning: Implicit dimension choice for log_softmax has been deprecated. Change the call to include dim=X as an argument.\n"
          ]
        },
        {
          "output_type": "stream",
          "name": "stdout",
          "text": [
            "Train Epoch: 1 \tLoss: 0.014585, Accuracy: 51990/60000 (87%)\n",
            "\n",
            "Validation set: Average loss: 0.0074, Accuracy: 9301/10000 (93%)\n",
            "\n",
            "Train Epoch: 2 \tLoss: 0.006653, Accuracy: 56106/60000 (94%)\n",
            "\n",
            "Validation set: Average loss: 0.0057, Accuracy: 9442/10000 (94%)\n",
            "\n",
            "Train Epoch: 3 \tLoss: 0.005121, Accuracy: 57020/60000 (95%)\n",
            "\n",
            "Validation set: Average loss: 0.0048, Accuracy: 9532/10000 (95%)\n",
            "\n",
            "Train Epoch: 4 \tLoss: 0.004186, Accuracy: 57573/60000 (96%)\n",
            "\n",
            "Validation set: Average loss: 0.0044, Accuracy: 9562/10000 (96%)\n",
            "\n",
            "Train Epoch: 5 \tLoss: 0.003545, Accuracy: 57942/60000 (97%)\n",
            "\n",
            "Validation set: Average loss: 0.0040, Accuracy: 9603/10000 (96%)\n",
            "\n",
            "Train Epoch: 6 \tLoss: 0.003082, Accuracy: 58200/60000 (97%)\n",
            "\n",
            "Validation set: Average loss: 0.0035, Accuracy: 9654/10000 (97%)\n",
            "\n",
            "Train Epoch: 7 \tLoss: 0.002677, Accuracy: 58386/60000 (97%)\n",
            "\n",
            "Validation set: Average loss: 0.0034, Accuracy: 9668/10000 (97%)\n",
            "\n",
            "Train Epoch: 8 \tLoss: 0.002374, Accuracy: 58611/60000 (98%)\n",
            "\n",
            "Validation set: Average loss: 0.0033, Accuracy: 9664/10000 (97%)\n",
            "\n",
            "Train Epoch: 9 \tLoss: 0.002102, Accuracy: 58728/60000 (98%)\n",
            "\n",
            "Validation set: Average loss: 0.0032, Accuracy: 9683/10000 (97%)\n",
            "\n",
            "Train Epoch: 10 \tLoss: 0.001826, Accuracy: 58918/60000 (98%)\n",
            "\n",
            "Validation set: Average loss: 0.0034, Accuracy: 9676/10000 (97%)\n",
            "\n",
            "Train Epoch: 11 \tLoss: 0.001650, Accuracy: 58995/60000 (98%)\n",
            "\n",
            "Validation set: Average loss: 0.0030, Accuracy: 9706/10000 (97%)\n",
            "\n",
            "Train Epoch: 12 \tLoss: 0.001451, Accuracy: 59119/60000 (99%)\n",
            "\n",
            "Validation set: Average loss: 0.0034, Accuracy: 9673/10000 (97%)\n",
            "\n",
            "Train Epoch: 13 \tLoss: 0.001287, Accuracy: 59229/60000 (99%)\n",
            "\n",
            "Validation set: Average loss: 0.0030, Accuracy: 9723/10000 (97%)\n",
            "\n",
            "Train Epoch: 14 \tLoss: 0.001164, Accuracy: 59336/60000 (99%)\n",
            "\n",
            "Validation set: Average loss: 0.0031, Accuracy: 9717/10000 (97%)\n",
            "\n",
            "Train Epoch: 15 \tLoss: 0.001038, Accuracy: 59367/60000 (99%)\n",
            "\n",
            "Validation set: Average loss: 0.0034, Accuracy: 9691/10000 (97%)\n",
            "\n",
            "Train Epoch: 16 \tLoss: 0.000904, Accuracy: 59478/60000 (99%)\n",
            "\n",
            "Validation set: Average loss: 0.0032, Accuracy: 9718/10000 (97%)\n",
            "\n",
            "Train Epoch: 17 \tLoss: 0.000806, Accuracy: 59527/60000 (99%)\n",
            "\n",
            "Validation set: Average loss: 0.0032, Accuracy: 9717/10000 (97%)\n",
            "\n",
            "Train Epoch: 18 \tLoss: 0.000721, Accuracy: 59569/60000 (99%)\n",
            "\n",
            "Validation set: Average loss: 0.0034, Accuracy: 9711/10000 (97%)\n",
            "\n",
            "Train Epoch: 19 \tLoss: 0.000619, Accuracy: 59643/60000 (99%)\n",
            "\n",
            "Validation set: Average loss: 0.0034, Accuracy: 9722/10000 (97%)\n",
            "\n",
            "Train Epoch: 20 \tLoss: 0.000554, Accuracy: 59689/60000 (99%)\n",
            "\n",
            "Validation set: Average loss: 0.0036, Accuracy: 9719/10000 (97%)\n",
            "\n",
            "Train Epoch: 21 \tLoss: 0.000513, Accuracy: 59695/60000 (99%)\n",
            "\n",
            "Validation set: Average loss: 0.0040, Accuracy: 9704/10000 (97%)\n",
            "\n",
            "Train Epoch: 22 \tLoss: 0.000425, Accuracy: 59754/60000 (100%)\n",
            "\n",
            "Validation set: Average loss: 0.0036, Accuracy: 9734/10000 (97%)\n",
            "\n",
            "Train Epoch: 23 \tLoss: 0.000406, Accuracy: 59772/60000 (100%)\n",
            "\n",
            "Validation set: Average loss: 0.0039, Accuracy: 9720/10000 (97%)\n",
            "\n",
            "Train Epoch: 24 \tLoss: 0.000346, Accuracy: 59801/60000 (100%)\n",
            "\n",
            "Validation set: Average loss: 0.0040, Accuracy: 9723/10000 (97%)\n",
            "\n",
            "Train Epoch: 25 \tLoss: 0.000297, Accuracy: 59838/60000 (100%)\n",
            "\n",
            "Validation set: Average loss: 0.0042, Accuracy: 9726/10000 (97%)\n",
            "\n",
            "Train Epoch: 26 \tLoss: 0.000300, Accuracy: 59819/60000 (100%)\n",
            "\n",
            "Validation set: Average loss: 0.0043, Accuracy: 9719/10000 (97%)\n",
            "\n",
            "Train Epoch: 27 \tLoss: 0.000250, Accuracy: 59847/60000 (100%)\n",
            "\n",
            "Validation set: Average loss: 0.0041, Accuracy: 9733/10000 (97%)\n",
            "\n",
            "Train Epoch: 28 \tLoss: 0.000235, Accuracy: 59863/60000 (100%)\n",
            "\n",
            "Validation set: Average loss: 0.0047, Accuracy: 9705/10000 (97%)\n",
            "\n",
            "Train Epoch: 29 \tLoss: 0.000220, Accuracy: 59864/60000 (100%)\n",
            "\n",
            "Validation set: Average loss: 0.0046, Accuracy: 9728/10000 (97%)\n",
            "\n",
            "Train Epoch: 30 \tLoss: 0.000181, Accuracy: 59895/60000 (100%)\n",
            "\n",
            "Validation set: Average loss: 0.0045, Accuracy: 9735/10000 (97%)\n",
            "\n"
          ]
        }
      ]
    },
    {
      "cell_type": "code",
      "source": [
        "for name,params in decoupled_const_NPV_model_with_NPF_bias.named_parameters():\n",
        "  print(f\"{name} \\t {params.shape}\")"
      ],
      "metadata": {
        "colab": {
          "base_uri": "https://localhost:8080/"
        },
        "id": "0-pLG-NZS352",
        "outputId": "9dfa04b9-4d73-4724-c516-17a5fdf8b1b9"
      },
      "execution_count": null,
      "outputs": [
        {
          "output_type": "stream",
          "name": "stdout",
          "text": [
            "NPF_L1.weight \t torch.Size([64, 784])\n",
            "NPF_L1.bias \t torch.Size([64])\n",
            "NPV_L1.weight \t torch.Size([64, 784])\n",
            "NPF_L2.weight \t torch.Size([64, 64])\n",
            "NPF_L2.bias \t torch.Size([64])\n",
            "NPV_L2.weight \t torch.Size([64, 64])\n",
            "NPF_L3.weight \t torch.Size([64, 64])\n",
            "NPF_L3.bias \t torch.Size([64])\n",
            "NPV_L3.weight \t torch.Size([64, 64])\n",
            "NPV_L4.weight \t torch.Size([10, 64])\n"
          ]
        }
      ]
    },
    {
      "cell_type": "markdown",
      "source": [
        "Store weights of all layers"
      ],
      "metadata": {
        "id": "lCVw-3ETaZwy"
      }
    },
    {
      "cell_type": "code",
      "source": [
        "torch.save(decoupled_const_NPV_model_with_NPF_bias.state_dict(), './Constant NPV Model With Bias for NPF')"
      ],
      "metadata": {
        "id": "_9izWYJEuK4w"
      },
      "execution_count": null,
      "outputs": []
    },
    {
      "cell_type": "markdown",
      "source": [
        "Load the model"
      ],
      "metadata": {
        "id": "aOhpul3GJ8Mh"
      }
    },
    {
      "cell_type": "code",
      "source": [
        "decoupled_const_NPV_model_with_NPF_bias = GaluConstantNPVWithNPFBias(args['depth'], args['width'], args['classes'], args['input_size'])\n",
        "decoupled_const_NPV_model_with_NPF_bias.load_state_dict(torch.load('./Constant NPV Model With Bias for NPF'))\n",
        "decoupled_const_NPV_model_with_NPF_bias.eval()"
      ],
      "metadata": {
        "colab": {
          "base_uri": "https://localhost:8080/"
        },
        "outputId": "d55b9665-cf15-4ddb-9490-9bdeca705742",
        "id": "fcr6YhFnIVuf"
      },
      "execution_count": 9,
      "outputs": [
        {
          "output_type": "execute_result",
          "data": {
            "text/plain": [
              "GaluConstantNPVWithNPFBias(\n",
              "  (NPF_L1): Linear(in_features=784, out_features=64, bias=True)\n",
              "  (NPV_L1): Linear(in_features=784, out_features=64, bias=False)\n",
              "  (NPF_L2): Linear(in_features=64, out_features=64, bias=True)\n",
              "  (NPV_L2): Linear(in_features=64, out_features=64, bias=False)\n",
              "  (NPF_L3): Linear(in_features=64, out_features=64, bias=True)\n",
              "  (NPV_L3): Linear(in_features=64, out_features=64, bias=False)\n",
              "  (NPV_L4): Linear(in_features=64, out_features=10, bias=False)\n",
              ")"
            ]
          },
          "metadata": {},
          "execution_count": 9
        }
      ]
    },
    {
      "cell_type": "markdown",
      "source": [
        "Function to get the weights of NPV network"
      ],
      "metadata": {
        "id": "WTHDzTudwUeQ"
      }
    },
    {
      "cell_type": "code",
      "source": [
        "def get_params(model, str, bias=False):\n",
        "  weights = []\n",
        "  biases = []\n",
        "\n",
        "  for i in range(args['depth']):\n",
        "    layer_weight = model.state_dict()[str+'_L{}.weight'.format(i+1)]\n",
        "    weights.append(layer_weight)\n",
        "\n",
        "    if bias:\n",
        "      layer_bias = model.state_dict()[str+'_L{}.bias'.format(i+1)]\n",
        "      biases.append(layer_bias)\n",
        "\n",
        "  if bias:\n",
        "    return weights, biases\n",
        "    \n",
        "  return weights"
      ],
      "metadata": {
        "id": "PcaERL53aZS1"
      },
      "execution_count": 10,
      "outputs": []
    },
    {
      "cell_type": "markdown",
      "source": [
        "Function to get the effective weights of NPF network"
      ],
      "metadata": {
        "id": "-8fe2ULa2Ia0"
      }
    },
    {
      "cell_type": "code",
      "source": [
        "def get_NPF_effective_weights(model, bias=False):\n",
        "\n",
        "  effective_weights = []\n",
        "  effective_biases = []\n",
        "  \n",
        "  for i in range(args['depth']-1):\n",
        "      curr_weight = model.state_dict()['NPF_L{}.weight'.format(i+1)]\n",
        "      if i==0:\n",
        "          effective_weights.append(curr_weight)\n",
        "          if bias:\n",
        "            curr_bias = model.state_dict()['NPF_L{}.bias'.format(i+1)]\n",
        "            effective_biases.append(curr_bias)\n",
        "      else:\n",
        "          effective_weights.append(torch.matmul(curr_weight,effective_weights[-1]))\n",
        "          if bias:\n",
        "            curr_bias = model.state_dict()['NPF_L{}.bias'.format(i+1)]\n",
        "            effective_biases.append(torch.matmul(curr_weight, effective_biases[-1])+curr_bias)\n",
        "\n",
        "  if bias:\n",
        "    return effective_weights, effective_biases\n",
        "    \n",
        "  return effective_weights\n",
        "  # effective_weights is a list of size depth-1"
      ],
      "metadata": {
        "id": "kBYadqlGJHzs"
      },
      "execution_count": 11,
      "outputs": []
    },
    {
      "cell_type": "markdown",
      "source": [
        "Calculate importance value for all paths"
      ],
      "metadata": {
        "id": "rbmf094ZyVka"
      }
    },
    {
      "cell_type": "code",
      "source": [
        "def get_path_value(weights, paths):\n",
        "  \n",
        "  output_layer = args['depth']-1\n",
        "  path_values = dict()\n",
        "  path_vectors = dict()\n",
        "\n",
        "  for path in paths:\n",
        "    \n",
        "    importance_value = np.ones((args['input_size']))   # initialize to constant(input to NPV network is all 1s)\n",
        "    prev_nodes = range(args['input_size'])   # nodes to be considered in the previous layer\n",
        "\n",
        "   # loop to compute importance value of current path\n",
        "    for layer,node in enumerate(path):\n",
        "      importance_value = np.dot(weights[layer][node][prev_nodes], importance_value)\n",
        "      prev_nodes = node\n",
        "\n",
        "    importance_value = importance_value * weights[output_layer][:, prev_nodes]  # consider all output nodes for each path\n",
        "\n",
        "    # store the importance value and the path\n",
        "    path_vectors[path] = importance_value\n",
        "    path_values[path] = np.linalg.norm(importance_value, ord=1)  # Compute the L1 norm of 10-Dimensional vector\n",
        "\n",
        "\n",
        "  return path_values, path_vectors"
      ],
      "metadata": {
        "id": "os7xcr9sYByM"
      },
      "execution_count": 12,
      "outputs": []
    },
    {
      "cell_type": "markdown",
      "source": [
        "Generate all possible paths"
      ],
      "metadata": {
        "id": "o37tCAv5I9hC"
      }
    },
    {
      "cell_type": "code",
      "source": [
        "widths = [args['width']]*3\n",
        "print(widths)\n",
        "print(len(widths))"
      ],
      "metadata": {
        "colab": {
          "base_uri": "https://localhost:8080/"
        },
        "id": "p33-I-5atJVX",
        "outputId": "7cd3d670-5a45-4a44-be0b-50e6c05e28b1"
      },
      "execution_count": 13,
      "outputs": [
        {
          "output_type": "stream",
          "name": "stdout",
          "text": [
            "[64, 64, 64]\n",
            "3\n"
          ]
        }
      ]
    },
    {
      "cell_type": "code",
      "source": [
        "paths = list(cartesian_prod(*[range(x) for x in widths]))\n",
        "print(paths[:20])\n",
        "print()\n",
        "print(paths[-20:])"
      ],
      "metadata": {
        "colab": {
          "base_uri": "https://localhost:8080/"
        },
        "id": "JBlX5PKFIMbR",
        "outputId": "4521a6c1-a5cf-4523-8dd5-420b4f86d2fd"
      },
      "execution_count": 14,
      "outputs": [
        {
          "output_type": "stream",
          "name": "stdout",
          "text": [
            "[(0, 0, 0), (0, 0, 1), (0, 0, 2), (0, 0, 3), (0, 0, 4), (0, 0, 5), (0, 0, 6), (0, 0, 7), (0, 0, 8), (0, 0, 9), (0, 0, 10), (0, 0, 11), (0, 0, 12), (0, 0, 13), (0, 0, 14), (0, 0, 15), (0, 0, 16), (0, 0, 17), (0, 0, 18), (0, 0, 19)]\n",
            "\n",
            "[(63, 63, 44), (63, 63, 45), (63, 63, 46), (63, 63, 47), (63, 63, 48), (63, 63, 49), (63, 63, 50), (63, 63, 51), (63, 63, 52), (63, 63, 53), (63, 63, 54), (63, 63, 55), (63, 63, 56), (63, 63, 57), (63, 63, 58), (63, 63, 59), (63, 63, 60), (63, 63, 61), (63, 63, 62), (63, 63, 63)]\n"
          ]
        }
      ]
    },
    {
      "cell_type": "code",
      "source": [
        "NPV_weights = get_params(decoupled_const_NPV_model_with_NPF_bias, str='NPV', bias=False)"
      ],
      "metadata": {
        "id": "OHQcFN0IJnO5"
      },
      "execution_count": 15,
      "outputs": []
    },
    {
      "cell_type": "code",
      "source": [
        "NPV_weights[0].shape"
      ],
      "metadata": {
        "colab": {
          "base_uri": "https://localhost:8080/"
        },
        "id": "6VRrhn1mdWGC",
        "outputId": "4df3ff5b-b33f-4464-ddad-e8662e1b345a"
      },
      "execution_count": 16,
      "outputs": [
        {
          "output_type": "execute_result",
          "data": {
            "text/plain": [
              "torch.Size([64, 784])"
            ]
          },
          "metadata": {},
          "execution_count": 16
        }
      ]
    },
    {
      "cell_type": "code",
      "source": [
        "output_layer = args['depth']-1\n",
        "NPV_weights[output_layer][ :, 2].shape"
      ],
      "metadata": {
        "colab": {
          "base_uri": "https://localhost:8080/"
        },
        "id": "uV6I4rJCJ3la",
        "outputId": "d7b50f20-b682-4316-af3f-1d37989e54be"
      },
      "execution_count": 17,
      "outputs": [
        {
          "output_type": "execute_result",
          "data": {
            "text/plain": [
              "torch.Size([10])"
            ]
          },
          "metadata": {},
          "execution_count": 17
        }
      ]
    },
    {
      "cell_type": "code",
      "source": [
        "path_values, path_vectors = get_path_value(NPV_weights, paths)"
      ],
      "metadata": {
        "id": "bzHha5i0I8sg"
      },
      "execution_count": 18,
      "outputs": []
    },
    {
      "cell_type": "code",
      "source": [
        "print(len(paths))\n",
        "print(len(path_vectors))\n",
        "print(len(path_values))"
      ],
      "metadata": {
        "colab": {
          "base_uri": "https://localhost:8080/"
        },
        "id": "LAdkPrpnScVJ",
        "outputId": "84eb099c-8ee4-44fa-c8ae-c123a051c049"
      },
      "execution_count": 19,
      "outputs": [
        {
          "output_type": "stream",
          "name": "stdout",
          "text": [
            "262144\n",
            "262144\n",
            "262144\n"
          ]
        }
      ]
    },
    {
      "cell_type": "code",
      "source": [
        "64**3"
      ],
      "metadata": {
        "colab": {
          "base_uri": "https://localhost:8080/"
        },
        "id": "yIIDV-5-RAgU",
        "outputId": "4d6dad77-45ce-4f8b-c9bd-6cd2ddb742ce"
      },
      "execution_count": 20,
      "outputs": [
        {
          "output_type": "execute_result",
          "data": {
            "text/plain": [
              "262144"
            ]
          },
          "metadata": {},
          "execution_count": 20
        }
      ]
    },
    {
      "cell_type": "code",
      "source": [
        "print(\"Path: 1-2-3:\")\n",
        "print(path_vectors[(1,2,3)])\n",
        "print(\"L1 norm:\", path_values[(1,2,3)])\n",
        "print(\"numpy absolute sum:\", np.sum(np.absolute(np.array(path_vectors[(1,2,3)]))))\n",
        "print()\n",
        "print(\"Path: 29-11-27:\")\n",
        "print(path_vectors[(29,11,27)])\n",
        "print(\"L1 norm:\", path_values[(29,11,27)])"
      ],
      "metadata": {
        "colab": {
          "base_uri": "https://localhost:8080/"
        },
        "id": "U2YICZh0LN4L",
        "outputId": "fe27f76a-24dd-4b68-a0a1-d7301cdbc55c"
      },
      "execution_count": 21,
      "outputs": [
        {
          "output_type": "stream",
          "name": "stdout",
          "text": [
            "Path: 1-2-3:\n",
            "tensor([-2.1474e-04,  3.5769e-04, -4.9953e-04, -5.3865e-05, -4.3585e-05,\n",
            "        -6.4440e-05,  1.1406e-05,  2.0213e-04, -5.5540e-04, -9.1766e-06])\n",
            "L1 norm: 0.0020119685\n",
            "numpy absolute sum: 0.0020119685\n",
            "\n",
            "Path: 29-11-27:\n",
            "tensor([-0.0726,  0.2233,  0.0878, -0.1866,  0.0749,  0.0731,  0.4741,  0.0661,\n",
            "         0.1664, -0.1573])\n",
            "L1 norm: 1.5821931\n"
          ]
        }
      ]
    },
    {
      "cell_type": "markdown",
      "source": [
        "Sort the paths by L1 norm of importance value vector"
      ],
      "metadata": {
        "id": "tPHmFdwN2TQC"
      }
    },
    {
      "cell_type": "code",
      "source": [
        "sorted_keys = sorted(path_values, key = lambda dict_key: path_values[dict_key], reverse=True)\n",
        "for k in sorted_keys[:10]:\n",
        "  print(k, path_values[k])"
      ],
      "metadata": {
        "colab": {
          "base_uri": "https://localhost:8080/"
        },
        "id": "1R1Ejn3feRJL",
        "outputId": "2d691289-782e-4100-9a1e-1941c479155a"
      },
      "execution_count": 22,
      "outputs": [
        {
          "output_type": "stream",
          "name": "stdout",
          "text": [
            "(29, 11, 53) 1.8448086\n",
            "(1, 13, 33) 1.6740762\n",
            "(29, 11, 47) 1.6630576\n",
            "(1, 13, 14) 1.6324618\n",
            "(29, 39, 13) 1.6283665\n",
            "(29, 22, 17) 1.6084069\n",
            "(30, 44, 17) 1.5903083\n",
            "(29, 11, 27) 1.5821931\n",
            "(1, 13, 22) 1.5713902\n",
            "(30, 44, 38) 1.5403379\n"
          ]
        }
      ]
    },
    {
      "cell_type": "code",
      "source": [
        "NPF_effective_weights, NPF_effective_biases = get_NPF_effective_weights(decoupled_const_NPV_model_with_NPF_bias, bias=True)"
      ],
      "metadata": {
        "id": "4KeeuCe_KCq5"
      },
      "execution_count": 23,
      "outputs": []
    },
    {
      "cell_type": "code",
      "source": [
        "print(NPF_effective_biases[0][0])\n",
        "print(NPF_effective_biases[0][0].item())"
      ],
      "metadata": {
        "colab": {
          "base_uri": "https://localhost:8080/"
        },
        "id": "ARqdxRcCTQ8E",
        "outputId": "c1937cef-a68a-43b6-b6bf-2f4d4ea9c06d"
      },
      "execution_count": 24,
      "outputs": [
        {
          "output_type": "stream",
          "name": "stdout",
          "text": [
            "tensor(-0.0038)\n",
            "-0.0038126646541059017\n"
          ]
        }
      ]
    },
    {
      "cell_type": "markdown",
      "source": [
        "Function to compute pre-activations using pathwise decomposition"
      ],
      "metadata": {
        "id": "wRphw4vXDd8Q"
      }
    },
    {
      "cell_type": "code",
      "source": [
        "def pathwise_decomposition_network(paths, path_vectors, instance, NPF_effective_weights, NPF_effective_biases, n = None, threshold = None):\n",
        "\n",
        "  pre_activations = [0]*args['classes']\n",
        "  i = 1\n",
        "\n",
        "  for path in paths:\n",
        "    active = 1\n",
        "    \n",
        "    for layer, node in enumerate(path):\n",
        "      gating_signal = np.dot(NPF_effective_weights[layer][node], instance) + NPF_effective_biases[layer][node]\n",
        "      active *= SoftGate()(gating_signal)\n",
        "\n",
        "      # print(gating_signal)\n",
        "      # print(active)\n",
        "\n",
        "\n",
        "    if threshold is not None:\n",
        "      if active >= threshold:\n",
        "        pre_activations = np.add(pre_activations, np.array(active * path_vectors[path]))\n",
        "        i += 1\n",
        "\n",
        "        if i==n:\n",
        "          break\n",
        "\n",
        "    else:\n",
        "      pre_activations = np.add(pre_activations, np.array(active * path_vectors[path]))\n",
        "\n",
        "    # print(pre_activations)\n",
        "    # print()\n",
        "\n",
        "  \n",
        "  return pre_activations"
      ],
      "metadata": {
        "id": "NU7T6rh-DeGF"
      },
      "execution_count": 34,
      "outputs": []
    },
    {
      "cell_type": "markdown",
      "source": [
        "Choose a data instance"
      ],
      "metadata": {
        "id": "glySdXLIGhM9"
      }
    },
    {
      "cell_type": "code",
      "source": [
        "#load the train data and validation data, and normalize it\n",
        "\n",
        "# Transform to normalized Tensors \n",
        "transform = transforms.Compose([transforms.ToTensor(),\n",
        "                                transforms.Normalize((0.1307,), (0.3081,)),\n",
        "                                transforms.Lambda(lambda x: torch.flatten(x))])\n",
        "\n",
        "dataset = datasets.MNIST('./MNIST/', transform=transform, download=True)\n",
        "\n",
        "data_loader = DataLoader(dataset, batch_size=len(dataset))\n",
        "\n",
        "X = next(iter(data_loader))[0].numpy()\n",
        "Y = next(iter(data_loader))[1].numpy()"
      ],
      "metadata": {
        "colab": {
          "base_uri": "https://localhost:8080/",
          "height": 437,
          "referenced_widgets": [
            "264f9368ede14e1f84c4963330f4c057",
            "df5657d1998f4dc08f94f403daf13a2f",
            "08f2d168194f44de86b31fa9f811164a",
            "4ec8c6ccf2314cecbe10a8b765eca4ab",
            "796ce684792e4c79a817511fae1c4a56",
            "29f9c1cd32734f7283722e104408e6b7",
            "8b413eea333b4d869286b20aadadefb6",
            "d6abd7ca86c641af8afc0f45ac878571",
            "5005c1b2995a4543b65afff9a6cc45c7",
            "78187c53ad5e4e1a91a59b16b86c2330",
            "ecbe42a87b474a28acbbd64be69fb950",
            "18214587543246fb91c5037ba3b3763f",
            "1da042a614384d909d5a903b406c4ce0",
            "0b57920086d94142969ce6fd6021b3f3",
            "a205e4183627406e9f2857f2e092cb17",
            "c7a95af9e92046818bcacdbbeba4b36e",
            "d8e2d472f3274e65b67b069e52290e5b",
            "861fdabc42e94901b53455e040f52c51",
            "9b187cff82e04af98d4b7d9130a6c3fc",
            "3b1593b26d6e4b82856dcebb74b66526",
            "8e12299768604058ac796bd05147937b",
            "d5a5faf486fb4ab8a43a550c3949a646",
            "fe2675fdb00d431fb6055d21f50dcc98",
            "933010cb6a93489e8791158d25a1293c",
            "8429a4fa530d4cff9563e5d505bcf78c",
            "d9127089277f46008115be774d5f7483",
            "b9a7efee81bd450b88358d84560f2eeb",
            "fa0bfbfdbf944d2b8f1e701cd564a009",
            "a221571133a442f582fbcf1fdf000b11",
            "5e5ca2ff82794c97ad405f86b3ef1c66",
            "ab3f54f377164937b8487eb8ffc32a32",
            "cd34ca13abf84a7192d68441f0000127",
            "d230bfb2145043ec88113a310f8c9b6a",
            "aa84343dd3ce499bbb5a751e1791cd4f",
            "f69b95b714c543f3b2bad3c201a35841",
            "14dcb47600dd478b9309f15c6b9b8132",
            "a381110f0bcc4e3aa17dbb2755dc4373",
            "6353cd45f7be47bfaa9259246f306104",
            "7eb6c1cd18164647a665ee14a206d595",
            "29f9facd17264d6888c7325174cbb854",
            "113915dd40d74dafae13abeac842424e",
            "988bcd46ca294da4b61ab7617d6fd5c5",
            "08aa9bfad83b4803adac9e249ebc6a6a",
            "1a67f00ef88742a2a4986deb6527c529"
          ]
        },
        "id": "8-Gt_wUkNDMT",
        "outputId": "a87828c0-cfd1-4b9e-fa24-a78cd0a366e0"
      },
      "execution_count": 26,
      "outputs": [
        {
          "output_type": "stream",
          "name": "stdout",
          "text": [
            "Downloading http://yann.lecun.com/exdb/mnist/train-images-idx3-ubyte.gz\n",
            "Downloading http://yann.lecun.com/exdb/mnist/train-images-idx3-ubyte.gz to ./MNIST/MNIST/raw/train-images-idx3-ubyte.gz\n"
          ]
        },
        {
          "output_type": "display_data",
          "data": {
            "text/plain": [
              "  0%|          | 0/9912422 [00:00<?, ?it/s]"
            ],
            "application/vnd.jupyter.widget-view+json": {
              "version_major": 2,
              "version_minor": 0,
              "model_id": "264f9368ede14e1f84c4963330f4c057"
            }
          },
          "metadata": {}
        },
        {
          "output_type": "stream",
          "name": "stdout",
          "text": [
            "Extracting ./MNIST/MNIST/raw/train-images-idx3-ubyte.gz to ./MNIST/MNIST/raw\n",
            "\n",
            "Downloading http://yann.lecun.com/exdb/mnist/train-labels-idx1-ubyte.gz\n",
            "Downloading http://yann.lecun.com/exdb/mnist/train-labels-idx1-ubyte.gz to ./MNIST/MNIST/raw/train-labels-idx1-ubyte.gz\n"
          ]
        },
        {
          "output_type": "display_data",
          "data": {
            "text/plain": [
              "  0%|          | 0/28881 [00:00<?, ?it/s]"
            ],
            "application/vnd.jupyter.widget-view+json": {
              "version_major": 2,
              "version_minor": 0,
              "model_id": "18214587543246fb91c5037ba3b3763f"
            }
          },
          "metadata": {}
        },
        {
          "output_type": "stream",
          "name": "stdout",
          "text": [
            "Extracting ./MNIST/MNIST/raw/train-labels-idx1-ubyte.gz to ./MNIST/MNIST/raw\n",
            "\n",
            "Downloading http://yann.lecun.com/exdb/mnist/t10k-images-idx3-ubyte.gz\n",
            "Downloading http://yann.lecun.com/exdb/mnist/t10k-images-idx3-ubyte.gz to ./MNIST/MNIST/raw/t10k-images-idx3-ubyte.gz\n"
          ]
        },
        {
          "output_type": "display_data",
          "data": {
            "text/plain": [
              "  0%|          | 0/1648877 [00:00<?, ?it/s]"
            ],
            "application/vnd.jupyter.widget-view+json": {
              "version_major": 2,
              "version_minor": 0,
              "model_id": "fe2675fdb00d431fb6055d21f50dcc98"
            }
          },
          "metadata": {}
        },
        {
          "output_type": "stream",
          "name": "stdout",
          "text": [
            "Extracting ./MNIST/MNIST/raw/t10k-images-idx3-ubyte.gz to ./MNIST/MNIST/raw\n",
            "\n",
            "Downloading http://yann.lecun.com/exdb/mnist/t10k-labels-idx1-ubyte.gz\n",
            "Downloading http://yann.lecun.com/exdb/mnist/t10k-labels-idx1-ubyte.gz to ./MNIST/MNIST/raw/t10k-labels-idx1-ubyte.gz\n"
          ]
        },
        {
          "output_type": "display_data",
          "data": {
            "text/plain": [
              "  0%|          | 0/4542 [00:00<?, ?it/s]"
            ],
            "application/vnd.jupyter.widget-view+json": {
              "version_major": 2,
              "version_minor": 0,
              "model_id": "aa84343dd3ce499bbb5a751e1791cd4f"
            }
          },
          "metadata": {}
        },
        {
          "output_type": "stream",
          "name": "stdout",
          "text": [
            "Extracting ./MNIST/MNIST/raw/t10k-labels-idx1-ubyte.gz to ./MNIST/MNIST/raw\n",
            "\n"
          ]
        }
      ]
    },
    {
      "cell_type": "code",
      "source": [
        "i = random.randint(0, X.shape[0])\n",
        "print(i)"
      ],
      "metadata": {
        "colab": {
          "base_uri": "https://localhost:8080/"
        },
        "id": "pBuJkjmtGjQV",
        "outputId": "f5d15122-09b8-472d-fb78-8814d4865804"
      },
      "execution_count": 27,
      "outputs": [
        {
          "output_type": "stream",
          "name": "stdout",
          "text": [
            "52009\n"
          ]
        }
      ]
    },
    {
      "cell_type": "code",
      "source": [
        "data = X[i]\n",
        "label = Y[i]"
      ],
      "metadata": {
        "id": "w1CjgHjgHMiD"
      },
      "execution_count": 28,
      "outputs": []
    },
    {
      "cell_type": "code",
      "source": [
        "plt.imshow(np.reshape(data, (28,28)))"
      ],
      "metadata": {
        "colab": {
          "base_uri": "https://localhost:8080/",
          "height": 283
        },
        "id": "isKKvBc7HcWT",
        "outputId": "d22bac78-3003-4691-c694-7cf453de01b4"
      },
      "execution_count": 29,
      "outputs": [
        {
          "output_type": "execute_result",
          "data": {
            "text/plain": [
              "<matplotlib.image.AxesImage at 0x7fe2e46e2fd0>"
            ]
          },
          "metadata": {},
          "execution_count": 29
        },
        {
          "output_type": "display_data",
          "data": {
            "text/plain": [
              "<Figure size 432x288 with 1 Axes>"
            ],
            "image/png": "[encoded data removed]"
          },
          "metadata": {
            "needs_background": "light"
          }
        }
      ]
    },
    {
      "cell_type": "code",
      "source": [
        "label"
      ],
      "metadata": {
        "colab": {
          "base_uri": "https://localhost:8080/"
        },
        "id": "h-1ygnO0Nvqr",
        "outputId": "527d85b9-d545-4d59-9bdf-f830c09e57d8"
      },
      "execution_count": 30,
      "outputs": [
        {
          "output_type": "execute_result",
          "data": {
            "text/plain": [
              "9"
            ]
          },
          "metadata": {},
          "execution_count": 30
        }
      ]
    },
    {
      "cell_type": "markdown",
      "source": [
        "Testing pathwise decomposition"
      ],
      "metadata": {
        "id": "fDroR7yP0ZCR"
      }
    },
    {
      "cell_type": "code",
      "source": [
        "paths = sorted_keys[:2]\n",
        "pathwise_decomposition_network(paths, path_vectors, data, NPF_effective_weights, NPF_effective_biases)"
      ],
      "metadata": {
        "colab": {
          "base_uri": "https://localhost:8080/"
        },
        "id": "4ysDS3Kyt8sH",
        "outputId": "b58eaa4f-745a-4a39-d3a1-15db6e783cb1"
      },
      "execution_count": 33,
      "outputs": [
        {
          "output_type": "stream",
          "name": "stdout",
          "text": [
            "tensor(-0.4510)\n",
            "tensor(0.1555)\n",
            "tensor(-1.2757)\n",
            "tensor(0.0010)\n",
            "tensor(0.6749)\n",
            "tensor(0.0011)\n",
            "[-1.31398861e-04 -4.06888248e-05 -2.33475948e-04  2.02294497e-04\n",
            "  3.66874301e-05 -1.84164441e-04  2.00441107e-04  2.73991231e-04\n",
            " -3.12314427e-04 -3.50239512e-04]\n",
            "\n",
            "tensor(-0.6932)\n",
            "tensor(0.0647)\n",
            "tensor(-0.9305)\n",
            "tensor(0.0017)\n",
            "tensor(0.3089)\n",
            "tensor(0.0014)\n",
            "[ 1.91306332e-04  3.99180390e-05  2.27449782e-05  5.07381570e-04\n",
            " -2.90643118e-04 -1.13661954e-05 -8.29819473e-05  5.51842095e-04\n",
            " -2.61244430e-04 -2.96739454e-05]\n",
            "\n"
          ]
        },
        {
          "output_type": "execute_result",
          "data": {
            "text/plain": [
              "array([ 1.91306332e-04,  3.99180390e-05,  2.27449782e-05,  5.07381570e-04,\n",
              "       -2.90643118e-04, -1.13661954e-05, -8.29819473e-05,  5.51842095e-04,\n",
              "       -2.61244430e-04, -2.96739454e-05])"
            ]
          },
          "metadata": {},
          "execution_count": 33
        }
      ]
    },
    {
      "cell_type": "code",
      "source": [
        "path_vectors[sorted_keys[0]]"
      ],
      "metadata": {
        "colab": {
          "base_uri": "https://localhost:8080/"
        },
        "id": "bfNI6--900CA",
        "outputId": "94cb5f38-15c6-4b85-fc1e-73a2e7a90440"
      },
      "execution_count": 35,
      "outputs": [
        {
          "output_type": "execute_result",
          "data": {
            "text/plain": [
              "tensor([-0.1233, -0.0382, -0.2191,  0.1899,  0.0344, -0.1728,  0.1881,  0.2571,\n",
              "        -0.2931, -0.3287])"
            ]
          },
          "metadata": {},
          "execution_count": 35
        }
      ]
    },
    {
      "cell_type": "markdown",
      "source": [
        "DLGN Pre-activations"
      ],
      "metadata": {
        "id": "8jNa3vS3NyeM"
      }
    },
    {
      "cell_type": "code",
      "source": [
        "np.set_printoptions(formatter={'float': \"{0:0.5f}\".format})"
      ],
      "metadata": {
        "id": "iFNDu5yOq9T2"
      },
      "execution_count": 36,
      "outputs": []
    },
    {
      "cell_type": "code",
      "source": [
        "Q, Z = decoupled_const_NPV_model_with_NPF_bias(torch.tensor(data))\n",
        "print(Q)"
      ],
      "metadata": {
        "colab": {
          "base_uri": "https://localhost:8080/"
        },
        "id": "piJ7I7cqNx30",
        "outputId": "1c812db7-0f97-49a3-a05d-124265ea6e73"
      },
      "execution_count": 37,
      "outputs": [
        {
          "output_type": "stream",
          "name": "stdout",
          "text": [
            "tensor([-12.3727, -10.2158, -23.0097,   2.2903,  -3.3852, -11.7711,  -9.5779,\n",
            "          0.4873,  -6.0541,  17.2022], grad_fn=<SqueezeBackward3>)\n"
          ]
        },
        {
          "output_type": "stream",
          "name": "stderr",
          "text": [
            "/usr/local/lib/python3.7/dist-packages/ipykernel_launcher.py:36: UserWarning: Implicit dimension choice for log_softmax has been deprecated. Change the call to include dim=X as an argument.\n"
          ]
        }
      ]
    },
    {
      "cell_type": "markdown",
      "source": [
        "Top 1000-path model"
      ],
      "metadata": {
        "id": "fuPuovD4inz-"
      }
    },
    {
      "cell_type": "code",
      "source": [
        "paths = sorted_keys[:1000]\n",
        "Q_1000 = pathwise_decomposition_network(paths, path_vectors, data, NPF_effective_weights, NPF_effective_biases)\n",
        "print(Q_1000)"
      ],
      "metadata": {
        "colab": {
          "base_uri": "https://localhost:8080/"
        },
        "id": "KW-PEPaWOZhQ",
        "outputId": "aa4f30d0-b9e3-475c-a6a7-75ba62544ea7"
      },
      "execution_count": 38,
      "outputs": [
        {
          "output_type": "stream",
          "name": "stdout",
          "text": [
            "[-1.68871 -0.76373 0.22386 -0.56968 -0.55478 0.06074 0.90868 -0.77880\n",
            " 0.69287 1.86296]\n"
          ]
        }
      ]
    },
    {
      "cell_type": "markdown",
      "source": [
        "Top-100 path model"
      ],
      "metadata": {
        "id": "nwUSKxrqiqGs"
      }
    },
    {
      "cell_type": "code",
      "source": [
        "paths = sorted_keys[:100]\n",
        "Q_100 = pathwise_decomposition_network(paths, path_vectors, data, NPF_effective_weights, NPF_effective_biases)\n",
        "print(Q_100)"
      ],
      "metadata": {
        "colab": {
          "base_uri": "https://localhost:8080/"
        },
        "id": "Ch3mxc9yO0AP",
        "outputId": "4bb75537-2a6b-429b-9d03-a2a219fecbfa"
      },
      "execution_count": 39,
      "outputs": [
        {
          "output_type": "stream",
          "name": "stdout",
          "text": [
            "[0.00878 -0.21472 -0.10526 -0.19365 -0.28317 0.55880 0.34925 0.40468\n",
            " 0.07469 -0.14232]\n"
          ]
        }
      ]
    },
    {
      "cell_type": "markdown",
      "source": [
        "Top-1000 Active Path model"
      ],
      "metadata": {
        "id": "PHeSSdN90bLv"
      }
    },
    {
      "cell_type": "code",
      "source": [
        "Q_1000_active = pathwise_decomposition_network(sorted_keys, path_vectors, data, NPF_effective_weights, NPF_effective_biases, 1000, 0.5)\n",
        "print(Q_1000_active)"
      ],
      "metadata": {
        "colab": {
          "base_uri": "https://localhost:8080/"
        },
        "id": "KHaxUBeV0bTf",
        "outputId": "18d41ccb-e7c5-4b15-b648-653192ad345f"
      },
      "execution_count": 44,
      "outputs": [
        {
          "output_type": "stream",
          "name": "stdout",
          "text": [
            "[-4.59253 -5.90386 -4.74547 2.32592 -2.09452 1.97506 3.94375 -5.20105\n",
            " 0.92395 3.79259]\n"
          ]
        }
      ]
    },
    {
      "cell_type": "markdown",
      "source": [
        "Top-100 Active paths model"
      ],
      "metadata": {
        "id": "MINA8GlDireN"
      }
    },
    {
      "cell_type": "code",
      "source": [
        "Q_100_active = pathwise_decomposition_network(sorted_keys, path_vectors, data, NPF_effective_weights, NPF_effective_biases, 100, 0.5)\n",
        "print(Q_100_active)"
      ],
      "metadata": {
        "colab": {
          "base_uri": "https://localhost:8080/"
        },
        "id": "t0MclAsmnQz3",
        "outputId": "65a3cd96-8897-4a28-d43a-e7125ea34519"
      },
      "execution_count": 43,
      "outputs": [
        {
          "output_type": "stream",
          "name": "stdout",
          "text": [
            "[-0.49904 -0.45129 -0.31031 -0.18247 -0.32643 -0.00198 0.52249 -0.43970\n",
            " -0.07959 1.03414]\n"
          ]
        }
      ]
    },
    {
      "cell_type": "markdown",
      "source": [
        "Example 2"
      ],
      "metadata": {
        "id": "_1aQGp9Rz1Ke"
      }
    },
    {
      "cell_type": "code",
      "source": [
        "i = random.randint(0, X.shape[0])\n",
        "print(i)"
      ],
      "metadata": {
        "colab": {
          "base_uri": "https://localhost:8080/"
        },
        "outputId": "0641ee67-d6fe-4def-ee26-ec8ee7b96ae3",
        "id": "HW9eQqybzu_l"
      },
      "execution_count": 45,
      "outputs": [
        {
          "output_type": "stream",
          "name": "stdout",
          "text": [
            "57890\n"
          ]
        }
      ]
    },
    {
      "cell_type": "code",
      "source": [
        "data = X[i]\n",
        "label = Y[i]"
      ],
      "metadata": {
        "id": "UONLi3lGzu_m"
      },
      "execution_count": 46,
      "outputs": []
    },
    {
      "cell_type": "code",
      "source": [
        "plt.imshow(np.reshape(data, (28,28)))"
      ],
      "metadata": {
        "colab": {
          "base_uri": "https://localhost:8080/",
          "height": 283
        },
        "outputId": "cd51479b-4096-4d9b-e41c-8aba71eeacc3",
        "id": "DMcCURrJzu_m"
      },
      "execution_count": 47,
      "outputs": [
        {
          "output_type": "execute_result",
          "data": {
            "text/plain": [
              "<matplotlib.image.AxesImage at 0x7fe2e57263d0>"
            ]
          },
          "metadata": {},
          "execution_count": 47
        },
        {
          "output_type": "display_data",
          "data": {
            "text/plain": [
              "<Figure size 432x288 with 1 Axes>"
            ],
            "image/png": "[encoded data removed]"
          },
          "metadata": {
            "needs_background": "light"
          }
        }
      ]
    },
    {
      "cell_type": "code",
      "source": [
        "label"
      ],
      "metadata": {
        "colab": {
          "base_uri": "https://localhost:8080/"
        },
        "outputId": "84971bb2-f130-442e-8689-cf4e8ec8b4f9",
        "id": "yImcpnaPzu_m"
      },
      "execution_count": 48,
      "outputs": [
        {
          "output_type": "execute_result",
          "data": {
            "text/plain": [
              "2"
            ]
          },
          "metadata": {},
          "execution_count": 48
        }
      ]
    },
    {
      "cell_type": "markdown",
      "source": [
        "DLGN Pre-activations"
      ],
      "metadata": {
        "id": "wTecSmphzu_n"
      }
    },
    {
      "cell_type": "code",
      "source": [
        "np.set_printoptions(formatter={'float': \"{0:0.5f}\".format})"
      ],
      "metadata": {
        "id": "qG27ipk3zu_n"
      },
      "execution_count": 49,
      "outputs": []
    },
    {
      "cell_type": "code",
      "source": [
        "Q, Z = decoupled_const_NPV_model_with_NPF_bias(torch.tensor(data))\n",
        "print(Q)"
      ],
      "metadata": {
        "colab": {
          "base_uri": "https://localhost:8080/"
        },
        "outputId": "c9dd272e-0b19-4eef-b582-caea3e34dcd3",
        "id": "hVw1m6Yuzu_n"
      },
      "execution_count": 50,
      "outputs": [
        {
          "output_type": "stream",
          "name": "stdout",
          "text": [
            "tensor([ -6.1685,   2.3223,  19.6270,   9.7583, -14.5177,  -3.2860,   4.8247,\n",
            "         -7.1668,   7.5341, -24.2698], grad_fn=<SqueezeBackward3>)\n"
          ]
        },
        {
          "output_type": "stream",
          "name": "stderr",
          "text": [
            "/usr/local/lib/python3.7/dist-packages/ipykernel_launcher.py:36: UserWarning: Implicit dimension choice for log_softmax has been deprecated. Change the call to include dim=X as an argument.\n"
          ]
        }
      ]
    },
    {
      "cell_type": "markdown",
      "source": [
        "Top 1000-path model"
      ],
      "metadata": {
        "id": "3QxhK6Jpzu_n"
      }
    },
    {
      "cell_type": "code",
      "source": [
        "paths = sorted_keys[:1000]\n",
        "Q_1000 = pathwise_decomposition_network(paths, path_vectors, data, NPF_effective_weights, NPF_effective_biases)\n",
        "print(Q_1000)"
      ],
      "metadata": {
        "colab": {
          "base_uri": "https://localhost:8080/"
        },
        "outputId": "dabe4f16-37b8-4a00-b185-c3c8166b3384",
        "id": "FcVhqzwYzu_n"
      },
      "execution_count": 51,
      "outputs": [
        {
          "output_type": "stream",
          "name": "stdout",
          "text": [
            "[1.13015 -0.23399 4.64884 2.54057 0.50394 -0.16468 -0.20153 2.19490\n",
            " 0.46450 -0.48490]\n"
          ]
        }
      ]
    },
    {
      "cell_type": "markdown",
      "source": [
        "Top-100 path model"
      ],
      "metadata": {
        "id": "zgO2Dukrzu_o"
      }
    },
    {
      "cell_type": "code",
      "source": [
        "paths = sorted_keys[:100]\n",
        "Q_100 = pathwise_decomposition_network(paths, path_vectors, data, NPF_effective_weights, NPF_effective_biases)\n",
        "print(Q_100)"
      ],
      "metadata": {
        "colab": {
          "base_uri": "https://localhost:8080/"
        },
        "outputId": "6ee0e383-7645-42a6-a0c9-2f558ed94897",
        "id": "1xSuZiEVzu_o"
      },
      "execution_count": 52,
      "outputs": [
        {
          "output_type": "stream",
          "name": "stdout",
          "text": [
            "[0.32318 -0.02946 1.00372 0.76269 -0.40762 0.06273 -0.08551 1.25924\n",
            " -0.18349 0.41700]\n"
          ]
        }
      ]
    },
    {
      "cell_type": "markdown",
      "source": [
        "Top-1000 active path model"
      ],
      "metadata": {
        "id": "Y5cJoznU1v3y"
      }
    },
    {
      "cell_type": "code",
      "source": [
        "Q_1000_active = pathwise_decomposition_network(sorted_keys, path_vectors, data, NPF_effective_weights, NPF_effective_biases, 1000, 0.5)\n",
        "print(Q_1000_active)"
      ],
      "metadata": {
        "colab": {
          "base_uri": "https://localhost:8080/"
        },
        "id": "k92Vlw6Q1v__",
        "outputId": "4e02a1cc-18a8-4d0e-b0aa-430e5f04e0b5"
      },
      "execution_count": 53,
      "outputs": [
        {
          "output_type": "stream",
          "name": "stderr",
          "text": [
            "/usr/local/lib/python3.7/dist-packages/torch/nn/functional.py:1960: UserWarning: nn.functional.sigmoid is deprecated. Use torch.sigmoid instead.\n",
            "  warnings.warn(\"nn.functional.sigmoid is deprecated. Use torch.sigmoid instead.\")\n"
          ]
        },
        {
          "output_type": "stream",
          "name": "stdout",
          "text": [
            "[-3.02457 -0.87281 11.01346 6.07284 2.47910 -3.66706 0.52529 -1.16504\n",
            " 0.91123 -6.11133]\n"
          ]
        }
      ]
    },
    {
      "cell_type": "markdown",
      "source": [
        "Top-100 Active paths model"
      ],
      "metadata": {
        "id": "Nj0eyBN-zu_o"
      }
    },
    {
      "cell_type": "code",
      "source": [
        "Q_100_active = pathwise_decomposition_network(sorted_keys, path_vectors, data, NPF_effective_weights, NPF_effective_biases, 100, 0.5)\n",
        "print(Q_100_active)"
      ],
      "metadata": {
        "colab": {
          "base_uri": "https://localhost:8080/"
        },
        "outputId": "102e62f2-1a1b-4ab9-e798-7f4adf7b97b8",
        "id": "EQ3Xd6u7zu_o"
      },
      "execution_count": 54,
      "outputs": [
        {
          "output_type": "stream",
          "name": "stdout",
          "text": [
            "[1.23399 -0.64980 4.06058 3.86051 0.63123 -1.23619 -0.15244 3.61379\n",
            " -0.08883 -0.45382]\n"
          ]
        },
        {
          "output_type": "stream",
          "name": "stderr",
          "text": [
            "/usr/local/lib/python3.7/dist-packages/torch/nn/functional.py:1960: UserWarning: nn.functional.sigmoid is deprecated. Use torch.sigmoid instead.\n",
            "  warnings.warn(\"nn.functional.sigmoid is deprecated. Use torch.sigmoid instead.\")\n"
          ]
        }
      ]
    },
    {
      "cell_type": "markdown",
      "source": [
        "Top-5000 path model"
      ],
      "metadata": {
        "id": "NlHO-ZXDwNlH"
      }
    },
    {
      "cell_type": "code",
      "source": [
        "paths = sorted_keys[:5000]\n",
        "Q_5000 = pathwise_decomposition_network(paths, path_vectors, data, NPF_effective_weights, NPF_effective_biases)\n",
        "print(Q_5000)"
      ],
      "metadata": {
        "colab": {
          "base_uri": "https://localhost:8080/"
        },
        "id": "Kbctoz7RwNth",
        "outputId": "01afebd0-cd28-42f7-bd2a-e6ca75b9c659"
      },
      "execution_count": 55,
      "outputs": [
        {
          "output_type": "stream",
          "name": "stdout",
          "text": [
            "[-6.61767 -1.51182 9.61810 3.68124 1.45672 -0.16651 1.62819 -1.16713\n",
            " 1.27011 -3.51223]\n"
          ]
        }
      ]
    },
    {
      "cell_type": "code",
      "source": [],
      "metadata": {
        "id": "G85vuSbvwdTf"
      },
      "execution_count": null,
      "outputs": []
    },
    {
      "cell_type": "code",
      "source": [],
      "metadata": {
        "id": "HF-K7DpQwdWu"
      },
      "execution_count": null,
      "outputs": []
    }
  ]
}