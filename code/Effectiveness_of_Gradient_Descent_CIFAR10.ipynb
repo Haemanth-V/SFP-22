{
  "nbformat": 4,
  "nbformat_minor": 0,
  "metadata": {
    "colab": {
      "provenance": []
    },
    "kernelspec": {
      "name": "python3",
      "display_name": "Python 3"
    },
    "language_info": {
      "name": "python"
    }
  },
  "cells": [
    {
      "cell_type": "code",
      "execution_count": null,
      "metadata": {
        "id": "oIOls0kErvYN"
      },
      "outputs": [],
      "source": []
    },
    {
      "cell_type": "code",
      "execution_count": null,
      "metadata": {
        "id": "3NwX1eXikbNt"
      },
      "outputs": [],
      "source": [
        "import torch\n",
        "import numpy as np\n",
        "import argparse\n",
        "import torch.nn as nn\n",
        "import torch.nn.functional as F\n",
        "import re\n",
        "import torch.optim as optim\n",
        "import torch.nn.init as initialization\n",
        "from torch.autograd import Variable\n",
        "from torchvision import datasets, transforms\n",
        "from torch.utils.data import DataLoader, TensorDataset\n",
        "import matplotlib.pyplot as plt\n",
        "from itertools import product as cartesian_prod\n",
        "import random\n",
        "from scipy import spatial"
      ]
    },
    {
      "cell_type": "markdown",
      "source": [
        "Constants and Hyperparameters"
      ],
      "metadata": {
        "id": "XRgKpvb8dI9w"
      }
    },
    {
      "cell_type": "code",
      "source": [
        "device = torch.device('cuda' if torch.cuda.is_available() else 'cpu')"
      ],
      "metadata": {
        "id": "OKc1XvYxAyXP"
      },
      "execution_count": null,
      "outputs": []
    },
    {
      "cell_type": "code",
      "source": [
        "# Use the Negative Log Likelihood Loss function on the outputs after log_softmax activation\n",
        "lossFn = nn.BCELoss()"
      ],
      "metadata": {
        "id": "gSv5uR1QhvDb"
      },
      "execution_count": null,
      "outputs": []
    },
    {
      "cell_type": "code",
      "source": [
        "args={}\n",
        "kwargs={}\n",
        "\n",
        "args['input_shape'] = 32*32*3  #Number of features in the input image(of size 28x28)\n",
        "args['depth'] = 6  #Number of layers in the neural network\n",
        "args['width']=64  #Number of neurons in each hidden layer\n",
        "args['batch_size']=32  #Number of samples in each batch\n",
        "args['epochs']=30  #The number of Epochs is the number of times you go through the full dataset. \n",
        "args['lr']=3e-4  #Learning rate is how fast it will decend. \n",
        "args['eps']=1e-7  #Epsilon value for Adam\n",
        "\n",
        "args['cuda']=False  #Use GPU or not\n"
      ],
      "metadata": {
        "id": "HjbVQTflV0Oj"
      },
      "execution_count": null,
      "outputs": []
    },
    {
      "cell_type": "markdown",
      "source": [
        "Load the dataset"
      ],
      "metadata": {
        "id": "4BGj2e19LvUs"
      }
    },
    {
      "cell_type": "code",
      "source": [
        "mnist_transforms=[\n",
        "    transforms.ToTensor()\n",
        "     ]"
      ],
      "metadata": {
        "id": "dQDi2TTb655k"
      },
      "execution_count": null,
      "outputs": []
    },
    {
      "cell_type": "code",
      "source": [
        "trainset = datasets.CIFAR10('../data', train = True, download = True, transform=transforms.Compose(mnist_transforms))\n",
        "\n",
        "# Selecting classes 0 and 1\n",
        "y_train = np.array(trainset.targets)\n",
        "index = np.where(np.in1d(y_train, [0,1]))[0]\n",
        "y_train = y_train[index]\n",
        "trainset_01 = torch.utils.data.Subset(trainset, index)"
      ],
      "metadata": {
        "id": "ipjhAOYo1wgh",
        "colab": {
          "base_uri": "https://localhost:8080/"
        },
        "outputId": "9aee74a3-2aa9-4af5-f8f6-96eb86bbca54"
      },
      "execution_count": null,
      "outputs": [
        {
          "output_type": "stream",
          "name": "stdout",
          "text": [
            "Files already downloaded and verified\n"
          ]
        }
      ]
    },
    {
      "cell_type": "code",
      "source": [
        "valset = datasets.CIFAR10('../data', train = False, download = True, transform=transforms.Compose(mnist_transforms))\n",
        "\n",
        "y_val = np.array(valset.targets)\n",
        "index = np.where(np.in1d(y_val, [0,1]))[0]\n",
        "y_val = y_val[index]\n",
        "valset_01 = torch.utils.data.Subset(valset, index)"
      ],
      "metadata": {
        "id": "D49d_s9f2BGF",
        "colab": {
          "base_uri": "https://localhost:8080/"
        },
        "outputId": "86247199-6ad0-4932-e74b-5a3fb9ee534c"
      },
      "execution_count": null,
      "outputs": [
        {
          "output_type": "stream",
          "name": "stdout",
          "text": [
            "Files already downloaded and verified\n"
          ]
        }
      ]
    },
    {
      "cell_type": "code",
      "source": [
        "train_loader = torch.utils.data.DataLoader(trainset_01, batch_size=args['batch_size'],\n",
        "                                          shuffle=True, num_workers=2)\n",
        "\n",
        "val_loader = torch.utils.data.DataLoader(valset_01, batch_size=args['batch_size'],\n",
        "                                         shuffle=False, num_workers=2)"
      ],
      "metadata": {
        "id": "xWMRIVpXBea1"
      },
      "execution_count": null,
      "outputs": []
    },
    {
      "cell_type": "code",
      "source": [
        "example = iter(train_loader)\n",
        "data, target = next(example)"
      ],
      "metadata": {
        "id": "jiQbEXXrEnQ_"
      },
      "execution_count": null,
      "outputs": []
    },
    {
      "cell_type": "markdown",
      "source": [
        "Train and test function for the models"
      ],
      "metadata": {
        "id": "ShpcsJkzL4Vd"
      }
    },
    {
      "cell_type": "code",
      "source": [
        "def train(model, epoch, train_loader, lossFn, optimizer):\n",
        "  model.train()\n",
        "  loss = 0\n",
        "  net_loss = 0\n",
        "  correct = 0\n",
        "  \n",
        "  for batch_idx, (data, target) in enumerate(train_loader):\n",
        "      if args['cuda']:\n",
        "          data, target = data.cuda(), target.cuda()\n",
        "      \n",
        "      #Reshape the input image to 1D vector\n",
        "      data = data.reshape(-1, args['input_shape']).to(device)\n",
        "      target = target.to(device)\n",
        "\n",
        "      #This will zero out the gradients for this batch. \n",
        "      optimizer.zero_grad()\n",
        "\n",
        "      #Run the model on the train data\n",
        "      output = model(data)\n",
        "      \n",
        "      target = target.unsqueeze(1).float()\n",
        "\n",
        "      # Calculate the loss\n",
        "      loss = lossFn(output, target)\n",
        "      net_loss += loss.data\n",
        "\n",
        "      #dloss/dx for every Variable \n",
        "      loss.backward()\n",
        "\n",
        "      #to do a one-step update on our parameter.\n",
        "      optimizer.step()\n",
        "      \n",
        "      pred = (output > 0.5).float()\n",
        "      correct += pred.eq(target.data.view_as(pred)).long().cpu().sum()\n",
        "\n",
        "      \n",
        "  #Print out the loss\n",
        "  print('Train Epoch: {} \\tLoss: {:.6f}, Accuracy: {}/{} ({:.0f}%)'.format(\n",
        "          epoch, net_loss/len(train_loader.dataset), correct, len(train_loader.dataset),\n",
        "          100. * correct / len(train_loader.dataset)))\n",
        "\n",
        "def validate(model, validation_loader, lossFn):\n",
        "\n",
        "  model.eval()\n",
        "  validation_loss = 0\n",
        "  correct = 0\n",
        "\n",
        "  # since we're not training, we don't need to calculate the gradients for our outputs\n",
        "  with torch.no_grad():\n",
        "    for data, target in validation_loader:\n",
        "      if args['cuda']:\n",
        "          data, target = data.cuda(), target.cuda()\n",
        "\n",
        "      #Reshape the input image to 1D vector\n",
        "      data = data.reshape(-1, args['input_shape']).to(device)\n",
        "      target = target.to(device)\n",
        "\n",
        "      #Run the model on the validation data and get its predictions\n",
        "      output = model(data)\n",
        "\n",
        "      target = target.unsqueeze(1).float()\n",
        "\n",
        "      #Calculate the loss\n",
        "      validation_loss += lossFn(output, target).data.item()  #sum up batch loss\n",
        "\n",
        "      pred = (output > 0.5).float()\n",
        "\n",
        "      correct += pred.eq(target.data.view_as(pred)).long().cpu().sum()  #find the number of correct predictions\n",
        "\n",
        "  print('\\nValidation set: Average loss: {:.4f}, Accuracy: {}/{} ({:.0f}%)\\n'.format(\n",
        "      validation_loss/len(validation_loader.dataset), correct, len(validation_loader.dataset),\n",
        "      100. * correct / len(validation_loader.dataset)))"
      ],
      "metadata": {
        "id": "YBRxTCZ0WqKY"
      },
      "execution_count": null,
      "outputs": []
    },
    {
      "cell_type": "markdown",
      "source": [
        "ReLu network"
      ],
      "metadata": {
        "id": "rvePZnAiWhiJ"
      }
    },
    {
      "cell_type": "code",
      "source": [
        "class Relu(nn.Module):\n",
        "  \n",
        "  def __init__(self, depth, width, input_size):\n",
        "\n",
        "    super(Relu, self).__init__()\n",
        "    \n",
        "    # Get the depth and width of the network\n",
        "    self.depth = depth\n",
        "    self.width = width\n",
        "\n",
        "    #Create the layers with names L1, L2, ... dynamically\n",
        "    setattr(self,'L1', nn.Linear(input_size, width))\n",
        "    for i in range(depth - 2):\n",
        "        setattr(self,'L{}'.format(i+2), nn.Linear(width, width))\n",
        "\n",
        "    self.output = nn.Linear(width, 1) \n",
        "\n",
        "  def forward(self, x, **kwargs):\n",
        "    Z = F.relu(getattr(self,'L1')(x))  #activations of layer 1\n",
        "\n",
        "    #Repeat for all layers\n",
        "    for i in range(self.depth-2):\n",
        "      Z = F.relu(getattr(self,'L{}'.format(i+2))(Z))\n",
        "\n",
        "    return F.sigmoid(self.output(Z))   "
      ],
      "metadata": {
        "id": "QPOeBVriQjg0"
      },
      "execution_count": null,
      "outputs": []
    },
    {
      "cell_type": "code",
      "source": [
        "#Instantiate the ReLU model\n",
        "relu_model_without_patch = Relu(args['depth'], args['width'], args['input_shape'])\n",
        "print(relu_model_without_patch)\n",
        "print()\n",
        "\n",
        "if args['cuda']:\n",
        "    relu_model_without_patch.cuda()\n",
        "\n",
        "optimizer = optim.Adam(relu_model_without_patch.parameters(), lr=args['lr'], eps=args['eps'])\n",
        "\n",
        "for epoch in range(1, args['epochs'] + 1):\n",
        "    train(relu_model_without_patch, epoch, train_loader, lossFn, optimizer)\n",
        "    validate(relu_model_without_patch, val_loader, lossFn)"
      ],
      "metadata": {
        "colab": {
          "base_uri": "https://localhost:8080/"
        },
        "id": "mIdnrfjQEe_Y",
        "outputId": "31226a9b-ae47-462c-846d-6ebbfd15586e"
      },
      "execution_count": null,
      "outputs": [
        {
          "output_type": "stream",
          "name": "stdout",
          "text": [
            "Relu(\n",
            "  (L1): Linear(in_features=3072, out_features=64, bias=True)\n",
            "  (L2): Linear(in_features=64, out_features=64, bias=True)\n",
            "  (L3): Linear(in_features=64, out_features=64, bias=True)\n",
            "  (L4): Linear(in_features=64, out_features=64, bias=True)\n",
            "  (L5): Linear(in_features=64, out_features=64, bias=True)\n",
            "  (output): Linear(in_features=64, out_features=1, bias=True)\n",
            ")\n",
            "\n",
            "Train Epoch: 1 \tLoss: 0.015606, Accuracy: 7380/10000 (74%)\n",
            "\n",
            "Validation set: Average loss: 0.0108, Accuracy: 1710/2000 (86%)\n",
            "\n",
            "Train Epoch: 2 \tLoss: 0.010831, Accuracy: 8487/10000 (85%)\n",
            "\n",
            "Validation set: Average loss: 0.0108, Accuracy: 1680/2000 (84%)\n",
            "\n",
            "Train Epoch: 3 \tLoss: 0.010002, Accuracy: 8580/10000 (86%)\n",
            "\n",
            "Validation set: Average loss: 0.0100, Accuracy: 1745/2000 (87%)\n",
            "\n",
            "Train Epoch: 4 \tLoss: 0.009442, Accuracy: 8618/10000 (86%)\n",
            "\n",
            "Validation set: Average loss: 0.0085, Accuracy: 1769/2000 (88%)\n",
            "\n",
            "Train Epoch: 5 \tLoss: 0.008581, Accuracy: 8794/10000 (88%)\n",
            "\n",
            "Validation set: Average loss: 0.0087, Accuracy: 1745/2000 (87%)\n",
            "\n",
            "Train Epoch: 6 \tLoss: 0.008696, Accuracy: 8738/10000 (87%)\n",
            "\n",
            "Validation set: Average loss: 0.0079, Accuracy: 1785/2000 (89%)\n",
            "\n",
            "Train Epoch: 7 \tLoss: 0.008632, Accuracy: 8797/10000 (88%)\n",
            "\n",
            "Validation set: Average loss: 0.0079, Accuracy: 1798/2000 (90%)\n",
            "\n",
            "Train Epoch: 8 \tLoss: 0.007977, Accuracy: 8898/10000 (89%)\n",
            "\n",
            "Validation set: Average loss: 0.0085, Accuracy: 1786/2000 (89%)\n",
            "\n",
            "Train Epoch: 9 \tLoss: 0.007808, Accuracy: 8911/10000 (89%)\n",
            "\n",
            "Validation set: Average loss: 0.0074, Accuracy: 1792/2000 (90%)\n",
            "\n",
            "Train Epoch: 10 \tLoss: 0.007471, Accuracy: 8950/10000 (90%)\n",
            "\n",
            "Validation set: Average loss: 0.0080, Accuracy: 1776/2000 (89%)\n",
            "\n",
            "Train Epoch: 11 \tLoss: 0.007373, Accuracy: 8962/10000 (90%)\n",
            "\n",
            "Validation set: Average loss: 0.0077, Accuracy: 1800/2000 (90%)\n",
            "\n",
            "Train Epoch: 12 \tLoss: 0.007181, Accuracy: 9005/10000 (90%)\n",
            "\n",
            "Validation set: Average loss: 0.0111, Accuracy: 1674/2000 (84%)\n",
            "\n",
            "Train Epoch: 13 \tLoss: 0.007072, Accuracy: 8998/10000 (90%)\n",
            "\n",
            "Validation set: Average loss: 0.0074, Accuracy: 1800/2000 (90%)\n",
            "\n",
            "Train Epoch: 14 \tLoss: 0.006749, Accuracy: 9064/10000 (91%)\n",
            "\n",
            "Validation set: Average loss: 0.0070, Accuracy: 1812/2000 (91%)\n",
            "\n",
            "Train Epoch: 15 \tLoss: 0.006910, Accuracy: 9025/10000 (90%)\n",
            "\n",
            "Validation set: Average loss: 0.0073, Accuracy: 1790/2000 (90%)\n",
            "\n",
            "Train Epoch: 16 \tLoss: 0.006377, Accuracy: 9101/10000 (91%)\n",
            "\n",
            "Validation set: Average loss: 0.0093, Accuracy: 1723/2000 (86%)\n",
            "\n",
            "Train Epoch: 17 \tLoss: 0.006235, Accuracy: 9150/10000 (92%)\n",
            "\n",
            "Validation set: Average loss: 0.0069, Accuracy: 1822/2000 (91%)\n",
            "\n",
            "Train Epoch: 18 \tLoss: 0.006008, Accuracy: 9187/10000 (92%)\n",
            "\n",
            "Validation set: Average loss: 0.0074, Accuracy: 1796/2000 (90%)\n",
            "\n",
            "Train Epoch: 19 \tLoss: 0.006106, Accuracy: 9151/10000 (92%)\n",
            "\n",
            "Validation set: Average loss: 0.0069, Accuracy: 1814/2000 (91%)\n",
            "\n",
            "Train Epoch: 20 \tLoss: 0.006057, Accuracy: 9168/10000 (92%)\n",
            "\n",
            "Validation set: Average loss: 0.0067, Accuracy: 1827/2000 (91%)\n",
            "\n",
            "Train Epoch: 21 \tLoss: 0.005588, Accuracy: 9230/10000 (92%)\n",
            "\n",
            "Validation set: Average loss: 0.0070, Accuracy: 1814/2000 (91%)\n",
            "\n",
            "Train Epoch: 22 \tLoss: 0.005512, Accuracy: 9260/10000 (93%)\n",
            "\n",
            "Validation set: Average loss: 0.0071, Accuracy: 1817/2000 (91%)\n",
            "\n",
            "Train Epoch: 23 \tLoss: 0.005489, Accuracy: 9249/10000 (92%)\n",
            "\n",
            "Validation set: Average loss: 0.0072, Accuracy: 1809/2000 (90%)\n",
            "\n",
            "Train Epoch: 24 \tLoss: 0.005251, Accuracy: 9313/10000 (93%)\n",
            "\n",
            "Validation set: Average loss: 0.0094, Accuracy: 1757/2000 (88%)\n",
            "\n",
            "Train Epoch: 25 \tLoss: 0.005160, Accuracy: 9306/10000 (93%)\n",
            "\n",
            "Validation set: Average loss: 0.0067, Accuracy: 1826/2000 (91%)\n",
            "\n",
            "Train Epoch: 26 \tLoss: 0.005183, Accuracy: 9301/10000 (93%)\n",
            "\n",
            "Validation set: Average loss: 0.0079, Accuracy: 1787/2000 (89%)\n",
            "\n",
            "Train Epoch: 27 \tLoss: 0.005014, Accuracy: 9323/10000 (93%)\n",
            "\n",
            "Validation set: Average loss: 0.0070, Accuracy: 1809/2000 (90%)\n",
            "\n",
            "Train Epoch: 28 \tLoss: 0.004774, Accuracy: 9352/10000 (94%)\n",
            "\n",
            "Validation set: Average loss: 0.0068, Accuracy: 1833/2000 (92%)\n",
            "\n",
            "Train Epoch: 29 \tLoss: 0.004540, Accuracy: 9403/10000 (94%)\n",
            "\n",
            "Validation set: Average loss: 0.0069, Accuracy: 1816/2000 (91%)\n",
            "\n",
            "Train Epoch: 30 \tLoss: 0.004463, Accuracy: 9419/10000 (94%)\n",
            "\n",
            "Validation set: Average loss: 0.0091, Accuracy: 1807/2000 (90%)\n",
            "\n"
          ]
        }
      ]
    },
    {
      "cell_type": "markdown",
      "source": [],
      "metadata": {
        "id": "gJENcGEFlpFG"
      }
    },
    {
      "cell_type": "code",
      "source": [
        "def get_dataset(loader):\n",
        "  X = np.empty((0, 28, 28))\n",
        "  Y = np.empty((0))\n",
        "\n",
        "  for data, target in loader:\n",
        "    data = data.reshape(-1, 28, 28)\n",
        "    X = np.concatenate((X, data.cpu().detach().numpy()), axis=0)\n",
        "    Y = np.concatenate((Y, target.cpu().detach().numpy()), axis=0)\n",
        "\n",
        "  return X, Y"
      ],
      "metadata": {
        "id": "VYDlsjoSlo1X"
      },
      "execution_count": null,
      "outputs": []
    },
    {
      "cell_type": "markdown",
      "source": [],
      "metadata": {
        "id": "Tjt2mwkWlpM3"
      }
    },
    {
      "cell_type": "code",
      "source": [
        "def add_patch(dataset, patch_size=5):\n",
        "\n",
        "  Y = dataset.targets\n",
        "\n",
        "  index_0 = np.where(np.in1d(Y, [0]))[0]\n",
        "  index_1 = np.where(np.in1d(Y, [1]))[0]\n",
        "\n",
        "  patch_0 = random.choices(index_0, k=len(index_0)//2)\n",
        "  patch_1 = random.choices(index_1, k=len(index_1)//2)\n",
        "\n",
        "  for i in patch_0:\n",
        "    dataset.data[i][patch_size//2,28-patch_size:] = 0\n",
        "\n",
        "  for i in patch_1:\n",
        "    dataset.data[i][28-patch_size//2, :patch_size] = 0\n",
        "\n",
        "    plt.imshow(dataset.data[patch_0[1]])\n",
        "\n",
        "  return patch_0, patch_1"
      ],
      "metadata": {
        "id": "zSL7WDrJl_dQ"
      },
      "execution_count": null,
      "outputs": []
    },
    {
      "cell_type": "code",
      "source": [
        "patch_0_train, patch_1_train = add_patch(trainset, 7)"
      ],
      "metadata": {
        "colab": {
          "base_uri": "https://localhost:8080/",
          "height": 266
        },
        "id": "uI0jdpvJnfYk",
        "outputId": "72ce5ddf-f795-4bde-c348-ebdb9c2b47df"
      },
      "execution_count": null,
      "outputs": [
        {
          "output_type": "display_data",
          "data": {
            "text/plain": [
              "<Figure size 432x288 with 1 Axes>"
            ],
            "image/png": "[encoded data removed]"
          },
          "metadata": {
            "needs_background": "light"
          }
        }
      ]
    },
    {
      "cell_type": "code",
      "source": [
        "plt.imshow(trainset.data[patch_1_train[100]], cmap='gray')"
      ],
      "metadata": {
        "colab": {
          "base_uri": "https://localhost:8080/",
          "height": 283
        },
        "id": "ewj8RtBPszoi",
        "outputId": "9ad5a2dc-19aa-4629-eb55-d538e8f2b68d"
      },
      "execution_count": null,
      "outputs": [
        {
          "output_type": "execute_result",
          "data": {
            "text/plain": [
              "<matplotlib.image.AxesImage at 0x7f5826a53220>"
            ]
          },
          "metadata": {},
          "execution_count": 45
        },
        {
          "output_type": "display_data",
          "data": {
            "text/plain": [
              "<Figure size 432x288 with 1 Axes>"
            ],
            "image/png": "[encoded data removed]"
          },
          "metadata": {
            "needs_background": "light"
          }
        }
      ]
    },
    {
      "cell_type": "code",
      "source": [
        "patch_0_val, patch_1_val = add_patch(valset, 7)"
      ],
      "metadata": {
        "colab": {
          "base_uri": "https://localhost:8080/",
          "height": 266
        },
        "id": "VFVAWbaplzyD",
        "outputId": "36b84863-9e46-49bd-d145-7d033cf1ced8"
      },
      "execution_count": null,
      "outputs": [
        {
          "output_type": "display_data",
          "data": {
            "text/plain": [
              "<Figure size 432x288 with 1 Axes>"
            ],
            "image/png": "[encoded data removed]"
          },
          "metadata": {
            "needs_background": "light"
          }
        }
      ]
    },
    {
      "cell_type": "code",
      "source": [
        "# Selecting classes 0 and 1\n",
        "y_train = np.array(trainset.targets)\n",
        "index = np.where(np.in1d(y_train, [0,1]))[0]\n",
        "y_train = y_train[index]\n",
        "trainset_01 = torch.utils.data.Subset(trainset, index)\n",
        "\n",
        "y_val = np.array(valset.targets)\n",
        "index = np.where(np.in1d(y_val, [0,1]))[0]\n",
        "y_val = y_val[index]\n",
        "valset_01 = torch.utils.data.Subset(valset, index)\n",
        "\n",
        "train_loader = DataLoader(trainset_01, batch_size=args['batch_size'],\n",
        "                                          shuffle=True, num_workers=2)\n",
        "\n",
        "val_loader = DataLoader(valset_01, batch_size=args['batch_size'],\n",
        "                                         shuffle=False, num_workers=2)"
      ],
      "metadata": {
        "id": "H0q--GxX3_AY"
      },
      "execution_count": null,
      "outputs": []
    },
    {
      "cell_type": "code",
      "source": [
        "#Instantiate the ReLU model\n",
        "relu_model_with_patch = Relu(args['depth'], args['width'], args['input_shape'])\n",
        "print(relu_model_with_patch)\n",
        "print()\n",
        "\n",
        "if args['cuda']:\n",
        "    relu_model_with_patch.cuda()\n",
        "\n",
        "optimizer = optim.Adam(relu_model_with_patch.parameters(), lr=args['lr'], eps=args['eps'])\n",
        "\n",
        "for epoch in range(1, args['epochs'] + 1):\n",
        "    train(relu_model_with_patch, epoch, train_loader, lossFn, optimizer)\n",
        "    validate(relu_model_with_patch, val_loader, lossFn)"
      ],
      "metadata": {
        "colab": {
          "base_uri": "https://localhost:8080/"
        },
        "id": "JcuEq3sD4CS0",
        "outputId": "f409a6b6-4737-4bdb-e8e9-983f93b774a1"
      },
      "execution_count": null,
      "outputs": [
        {
          "output_type": "stream",
          "name": "stdout",
          "text": [
            "Relu(\n",
            "  (L1): Linear(in_features=3072, out_features=64, bias=True)\n",
            "  (L2): Linear(in_features=64, out_features=64, bias=True)\n",
            "  (L3): Linear(in_features=64, out_features=64, bias=True)\n",
            "  (L4): Linear(in_features=64, out_features=64, bias=True)\n",
            "  (L5): Linear(in_features=64, out_features=64, bias=True)\n",
            "  (output): Linear(in_features=64, out_features=1, bias=True)\n",
            ")\n",
            "\n",
            "Train Epoch: 1 \tLoss: 0.016482, Accuracy: 7354/10000 (74%)\n",
            "\n",
            "Validation set: Average loss: 0.0133, Accuracy: 1612/2000 (81%)\n",
            "\n",
            "Train Epoch: 2 \tLoss: 0.013499, Accuracy: 7980/10000 (80%)\n",
            "\n",
            "Validation set: Average loss: 0.0131, Accuracy: 1590/2000 (80%)\n",
            "\n",
            "Train Epoch: 3 \tLoss: 0.012509, Accuracy: 8094/10000 (81%)\n",
            "\n",
            "Validation set: Average loss: 0.0137, Accuracy: 1568/2000 (78%)\n",
            "\n",
            "Train Epoch: 4 \tLoss: 0.011170, Accuracy: 8381/10000 (84%)\n",
            "\n",
            "Validation set: Average loss: 0.0144, Accuracy: 1555/2000 (78%)\n",
            "\n",
            "Train Epoch: 5 \tLoss: 0.009773, Accuracy: 8610/10000 (86%)\n",
            "\n",
            "Validation set: Average loss: 0.0090, Accuracy: 1752/2000 (88%)\n",
            "\n",
            "Train Epoch: 6 \tLoss: 0.008707, Accuracy: 8782/10000 (88%)\n",
            "\n",
            "Validation set: Average loss: 0.0078, Accuracy: 1798/2000 (90%)\n",
            "\n",
            "Train Epoch: 7 \tLoss: 0.007491, Accuracy: 8975/10000 (90%)\n",
            "\n",
            "Validation set: Average loss: 0.0077, Accuracy: 1792/2000 (90%)\n",
            "\n",
            "Train Epoch: 8 \tLoss: 0.007251, Accuracy: 9020/10000 (90%)\n",
            "\n",
            "Validation set: Average loss: 0.0091, Accuracy: 1734/2000 (87%)\n",
            "\n",
            "Train Epoch: 9 \tLoss: 0.006730, Accuracy: 9078/10000 (91%)\n",
            "\n",
            "Validation set: Average loss: 0.0065, Accuracy: 1835/2000 (92%)\n",
            "\n",
            "Train Epoch: 10 \tLoss: 0.006400, Accuracy: 9147/10000 (91%)\n",
            "\n",
            "Validation set: Average loss: 0.0061, Accuracy: 1845/2000 (92%)\n",
            "\n",
            "Train Epoch: 11 \tLoss: 0.005968, Accuracy: 9222/10000 (92%)\n",
            "\n",
            "Validation set: Average loss: 0.0059, Accuracy: 1845/2000 (92%)\n",
            "\n",
            "Train Epoch: 12 \tLoss: 0.005330, Accuracy: 9298/10000 (93%)\n",
            "\n",
            "Validation set: Average loss: 0.0048, Accuracy: 1882/2000 (94%)\n",
            "\n",
            "Train Epoch: 13 \tLoss: 0.004858, Accuracy: 9385/10000 (94%)\n",
            "\n",
            "Validation set: Average loss: 0.0048, Accuracy: 1878/2000 (94%)\n",
            "\n",
            "Train Epoch: 14 \tLoss: 0.004747, Accuracy: 9380/10000 (94%)\n",
            "\n",
            "Validation set: Average loss: 0.0061, Accuracy: 1838/2000 (92%)\n",
            "\n",
            "Train Epoch: 15 \tLoss: 0.004392, Accuracy: 9421/10000 (94%)\n",
            "\n",
            "Validation set: Average loss: 0.0051, Accuracy: 1867/2000 (93%)\n",
            "\n",
            "Train Epoch: 16 \tLoss: 0.003970, Accuracy: 9489/10000 (95%)\n",
            "\n",
            "Validation set: Average loss: 0.0049, Accuracy: 1882/2000 (94%)\n",
            "\n",
            "Train Epoch: 17 \tLoss: 0.003940, Accuracy: 9489/10000 (95%)\n",
            "\n",
            "Validation set: Average loss: 0.0047, Accuracy: 1873/2000 (94%)\n",
            "\n",
            "Train Epoch: 18 \tLoss: 0.003911, Accuracy: 9499/10000 (95%)\n",
            "\n",
            "Validation set: Average loss: 0.0057, Accuracy: 1848/2000 (92%)\n",
            "\n",
            "Train Epoch: 19 \tLoss: 0.003509, Accuracy: 9544/10000 (95%)\n",
            "\n",
            "Validation set: Average loss: 0.0049, Accuracy: 1872/2000 (94%)\n",
            "\n",
            "Train Epoch: 20 \tLoss: 0.003674, Accuracy: 9509/10000 (95%)\n",
            "\n",
            "Validation set: Average loss: 0.0044, Accuracy: 1887/2000 (94%)\n",
            "\n",
            "Train Epoch: 21 \tLoss: 0.003489, Accuracy: 9538/10000 (95%)\n",
            "\n",
            "Validation set: Average loss: 0.0042, Accuracy: 1890/2000 (94%)\n",
            "\n",
            "Train Epoch: 22 \tLoss: 0.003426, Accuracy: 9559/10000 (96%)\n",
            "\n",
            "Validation set: Average loss: 0.0043, Accuracy: 1889/2000 (94%)\n",
            "\n",
            "Train Epoch: 23 \tLoss: 0.003034, Accuracy: 9601/10000 (96%)\n",
            "\n",
            "Validation set: Average loss: 0.0042, Accuracy: 1889/2000 (94%)\n",
            "\n",
            "Train Epoch: 24 \tLoss: 0.003174, Accuracy: 9579/10000 (96%)\n",
            "\n",
            "Validation set: Average loss: 0.0048, Accuracy: 1893/2000 (95%)\n",
            "\n",
            "Train Epoch: 25 \tLoss: 0.003255, Accuracy: 9589/10000 (96%)\n",
            "\n",
            "Validation set: Average loss: 0.0045, Accuracy: 1883/2000 (94%)\n",
            "\n",
            "Train Epoch: 26 \tLoss: 0.003025, Accuracy: 9601/10000 (96%)\n",
            "\n",
            "Validation set: Average loss: 0.0047, Accuracy: 1876/2000 (94%)\n",
            "\n",
            "Train Epoch: 27 \tLoss: 0.002672, Accuracy: 9686/10000 (97%)\n",
            "\n",
            "Validation set: Average loss: 0.0061, Accuracy: 1862/2000 (93%)\n",
            "\n",
            "Train Epoch: 28 \tLoss: 0.002853, Accuracy: 9631/10000 (96%)\n",
            "\n",
            "Validation set: Average loss: 0.0045, Accuracy: 1886/2000 (94%)\n",
            "\n",
            "Train Epoch: 29 \tLoss: 0.002759, Accuracy: 9669/10000 (97%)\n",
            "\n",
            "Validation set: Average loss: 0.0050, Accuracy: 1881/2000 (94%)\n",
            "\n",
            "Train Epoch: 30 \tLoss: 0.002751, Accuracy: 9642/10000 (96%)\n",
            "\n",
            "Validation set: Average loss: 0.0045, Accuracy: 1888/2000 (94%)\n",
            "\n"
          ]
        }
      ]
    },
    {
      "cell_type": "code",
      "source": [
        "plt.imshow(trainset_01.dataset.data[patch_0_train[100]])"
      ],
      "metadata": {
        "colab": {
          "base_uri": "https://localhost:8080/",
          "height": 283
        },
        "id": "90tvnhuHLn-1",
        "outputId": "ae942cb8-6bc2-4b93-9ff0-3ee6bde3151a"
      },
      "execution_count": null,
      "outputs": [
        {
          "output_type": "execute_result",
          "data": {
            "text/plain": [
              "<matplotlib.image.AxesImage at 0x7f5826512c10>"
            ]
          },
          "metadata": {},
          "execution_count": 49
        },
        {
          "output_type": "display_data",
          "data": {
            "text/plain": [
              "<Figure size 432x288 with 1 Axes>"
            ],
            "image/png": "[encoded data removed]"
          },
          "metadata": {
            "needs_background": "light"
          }
        }
      ]
    }
  ]
}